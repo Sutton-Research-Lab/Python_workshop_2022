{
 "cells": [
  {
   "cell_type": "markdown",
   "id": "4c751abb",
   "metadata": {},
   "source": [
    "## We will mostly focus on the following\n",
    " - Mendeleev (https://pypi.org/project/mendeleev/)\n",
    " - Pymatgen (https://pymatgen.org/)\n",
    " - Atomic Simulation Environment (ASE) (https://wiki.fysik.dtu.dk/ase/)\n",
    " - RDkit (https://www.rdkit.org/)"
   ]
  },
  {
   "cell_type": "markdown",
   "id": "7c56c81c",
   "metadata": {},
   "source": [
    "## Mendeleev\n",
    "Python based package to extract different properties of elements in the periodic table (118 atoms, as of July, 2022)."
   ]
  },
  {
   "cell_type": "markdown",
   "id": "559f328c",
   "metadata": {},
   "source": [
    "#### Extracting elemental properties"
   ]
  },
  {
   "cell_type": "markdown",
   "id": "f5355da5",
   "metadata": {},
   "source": [
    "Requirements:\n",
    "We need to install the following packages for accessing the tutorial materials\n",
    "pip install mendeleev[vis]\n",
    "pip install ase\n",
    "pip install pymatgen"
   ]
  },
  {
   "cell_type": "code",
   "execution_count": null,
   "id": "269bfdd0",
   "metadata": {},
   "outputs": [],
   "source": [
    "#!pip install mendeleev[vis]\n",
    "#!pip install bokeh\n",
    "#!pip install ase\n",
    "#!pip install pymatgen"
   ]
  },
  {
   "cell_type": "code",
   "execution_count": null,
   "id": "3cb79033",
   "metadata": {},
   "outputs": [],
   "source": [
    "from mendeleev import element"
   ]
  },
  {
   "cell_type": "markdown",
   "id": "eaaba25a",
   "metadata": {},
   "source": [
    "We could eg. look up for an element 'Mg'. [Feel free to use any elements you like here]"
   ]
  },
  {
   "cell_type": "code",
   "execution_count": null,
   "id": "ea687db0",
   "metadata": {},
   "outputs": [],
   "source": [
    "ele=element('Mg')"
   ]
  },
  {
   "cell_type": "code",
   "execution_count": null,
   "id": "b69f52b9",
   "metadata": {},
   "outputs": [],
   "source": [
    "print(dir(ele))"
   ]
  },
  {
   "cell_type": "markdown",
   "id": "9201dea2",
   "metadata": {},
   "source": [
    "Lets take a look what is stored inside 'ele' !!"
   ]
  },
  {
   "cell_type": "code",
   "execution_count": null,
   "id": "1ff49abe",
   "metadata": {},
   "outputs": [],
   "source": [
    "ele"
   ]
  },
  {
   "cell_type": "markdown",
   "id": "0f0c222c",
   "metadata": {},
   "source": [
    "We see a lot of values stored. Lets see what are values available for dipole polarizability, density, lattice_constant'\n",
    "electronic configuration (ec), ionic_radii, Paulings electronegativity etc !!!"
   ]
  },
  {
   "cell_type": "code",
   "execution_count": null,
   "id": "9ef25c14",
   "metadata": {},
   "outputs": [],
   "source": [
    "ele.dipole_polarizability"
   ]
  },
  {
   "cell_type": "code",
   "execution_count": null,
   "id": "196b92fd",
   "metadata": {},
   "outputs": [],
   "source": [
    "ele.lattice_constant"
   ]
  },
  {
   "cell_type": "code",
   "execution_count": null,
   "id": "df85fb0e",
   "metadata": {},
   "outputs": [],
   "source": [
    "ele.density"
   ]
  },
  {
   "cell_type": "code",
   "execution_count": null,
   "id": "161b0f20",
   "metadata": {},
   "outputs": [],
   "source": [
    "ele.ec"
   ]
  },
  {
   "cell_type": "code",
   "execution_count": null,
   "id": "03cf0f84",
   "metadata": {},
   "outputs": [],
   "source": [
    "print(ele.ionic_radii)"
   ]
  },
  {
   "cell_type": "code",
   "execution_count": null,
   "id": "967330d9",
   "metadata": {},
   "outputs": [],
   "source": [
    "ele.ionic_radii[0].ionic_radius \n"
   ]
  },
  {
   "cell_type": "code",
   "execution_count": null,
   "id": "ffc4d713",
   "metadata": {},
   "outputs": [],
   "source": [
    "ele.ionic_radii[10].ionic_radius "
   ]
  },
  {
   "cell_type": "markdown",
   "id": "e8d7a973",
   "metadata": {},
   "source": [
    "Did we get error message while executing above code? Could we fix it if so? Yes !!! "
   ]
  },
  {
   "cell_type": "code",
   "execution_count": null,
   "id": "c1e00b7b",
   "metadata": {},
   "outputs": [],
   "source": [
    "ele.en_pauling # Pauling's electronegativity\n"
   ]
  },
  {
   "cell_type": "markdown",
   "id": "50ecd2ea",
   "metadata": {},
   "source": [
    "There is another way of getting all the properties for any elements in the periodic table. Calling directly by the \n",
    "element name as below"
   ]
  },
  {
   "cell_type": "code",
   "execution_count": null,
   "id": "93d219ee",
   "metadata": {},
   "outputs": [],
   "source": [
    "from mendeleev import Mg"
   ]
  },
  {
   "cell_type": "markdown",
   "id": "8217906f",
   "metadata": {},
   "source": [
    "For example for getting density of Mg we can use. "
   ]
  },
  {
   "cell_type": "code",
   "execution_count": null,
   "id": "984482f3",
   "metadata": {},
   "outputs": [],
   "source": [
    "Mg.density"
   ]
  },
  {
   "cell_type": "markdown",
   "id": "244ab318",
   "metadata": {},
   "source": [
    "#### Extracting as pandas dataframe"
   ]
  },
  {
   "cell_type": "code",
   "execution_count": null,
   "id": "eec19216",
   "metadata": {},
   "outputs": [],
   "source": [
    "from mendeleev.fetch import fetch_table\n",
    "all_data = fetch_table('elements')\n",
    "all_data.head()\n",
    "#all_data.info()\n",
    "#all_data.dtypes\n",
    "#all_data.shape"
   ]
  },
  {
   "cell_type": "code",
   "execution_count": null,
   "id": "b39fd2c3",
   "metadata": {},
   "outputs": [],
   "source": [
    "all_data.shape"
   ]
  },
  {
   "cell_type": "code",
   "execution_count": null,
   "id": "f66d1c75",
   "metadata": {},
   "outputs": [],
   "source": [
    "all_data.info()"
   ]
  },
  {
   "cell_type": "code",
   "execution_count": null,
   "id": "52f5eb16",
   "metadata": {},
   "outputs": [],
   "source": [
    "all_data.head()"
   ]
  },
  {
   "cell_type": "markdown",
   "id": "772655f4",
   "metadata": {},
   "source": [
    "#### Visualization"
   ]
  },
  {
   "cell_type": "code",
   "execution_count": null,
   "id": "d309cb2c",
   "metadata": {},
   "outputs": [],
   "source": [
    "from mendeleev.vis import periodic_table\n",
    "periodic_table()\n",
    "fig=periodic_table(attribute='lattice_constant', title=\"Lattice constants\")\n",
    "#fig.show()\n",
    "fig.show()"
   ]
  },
  {
   "cell_type": "code",
   "execution_count": null,
   "id": "b352461d",
   "metadata": {},
   "outputs": [],
   "source": [
    "fig=periodic_table(attribute='en_pauling', title=\"Paulings Electronegativity\")"
   ]
  },
  {
   "cell_type": "code",
   "execution_count": null,
   "id": "ada8c23a",
   "metadata": {},
   "outputs": [],
   "source": [
    "fig.show()"
   ]
  },
  {
   "cell_type": "code",
   "execution_count": null,
   "id": "d0ac5e9b",
   "metadata": {},
   "outputs": [],
   "source": [
    "#fig = periodic_table_bokeh(elements, attribute=\"atomic_radius\", colorby=\"attribute\")\n",
    "#show(fig)"
   ]
  },
  {
   "cell_type": "code",
   "execution_count": null,
   "id": "9596185a",
   "metadata": {},
   "outputs": [],
   "source": [
    "#Using bokeh\n",
    "from mendeleev.vis import create_vis_dataframe, periodic_table_plotly\n",
    "elements = create_vis_dataframe()\n",
    "periodic_table_plotly(elements)\n",
    "from bokeh.plotting import show, output_notebook\n",
    "from mendeleev.vis import periodic_table_bokeh\n",
    "output_notebook()\n",
    "fig = periodic_table_bokeh(elements)\n",
    "show(fig)"
   ]
  },
  {
   "cell_type": "code",
   "execution_count": null,
   "id": "4ded7192",
   "metadata": {},
   "outputs": [],
   "source": [
    "#show(fig)\n",
    "fig=periodic_table_bokeh(elements,attribute='lattice_constant', title=\"Lattice Constants\")\n",
    "show(fig)"
   ]
  },
  {
   "cell_type": "markdown",
   "id": "f07b0212",
   "metadata": {},
   "source": [
    "## Atomic Simulation Environment (ASE)\n",
    "Python based environment to prepare, perform, and analyze the atomistic simulation. It is one of the most popular tools in computational physics and chemistry."
   ]
  },
  {
   "cell_type": "markdown",
   "id": "b7efc9cd",
   "metadata": {},
   "source": [
    "### Preparing Atomistic Simulations\n",
    " - Structure (generation + visualization)\n",
    " - Determine parameters to run the calculations ( which optimizer, which functional, what energy and force cutoff, etc.)"
   ]
  },
  {
   "cell_type": "code",
   "execution_count": null,
   "id": "20cd77de",
   "metadata": {},
   "outputs": [],
   "source": [
    "from ase import Atoms\n",
    "from ase.calculators.emt import EMT\n",
    "from ase.constraints import FixAtoms\n",
    "from ase.optimize import QuasiNewton\n",
    "from ase.build import fcc111, add_adsorbate\n",
    "from ase.visualize import view\n",
    "\n",
    "h = 1.85\n",
    "d = 1.10\n",
    "\n",
    "slab = fcc111('Cu', size=(4, 4, 2), vacuum=10.0)\n",
    "\n",
    "slab.calc = EMT()\n",
    "e_slab = slab.get_potential_energy()\n",
    "\n",
    "molecule = Atoms('2N', positions=[(0., 0., 0.), (0., 0., d)])\n",
    "molecule.calc = EMT()\n",
    "e_N2 = molecule.get_potential_energy()\n",
    "\n",
    "add_adsorbate(slab, molecule, h, 'ontop')\n",
    "constraint = FixAtoms(mask=[a.symbol != 'N' for a in slab])\n",
    "slab.set_constraint(constraint)\n",
    "dyn = QuasiNewton(slab, trajectory='N2Cu.traj')\n",
    "dyn.run(fmax=0.05)\n",
    "\n",
    "print('Adsorption energy:', e_slab + e_N2 - slab.get_potential_energy())"
   ]
  },
  {
   "cell_type": "markdown",
   "id": "cdb1ae4f",
   "metadata": {},
   "source": [
    "#### Using Atoms object in ASE to build molecules"
   ]
  },
  {
   "cell_type": "code",
   "execution_count": null,
   "id": "89323089",
   "metadata": {},
   "outputs": [],
   "source": [
    "from ase import Atoms\n",
    "d = 1.18\n",
    "co2 = Atoms('CO2', positions=[(0, 0, 0),(0,0,-d), (0, 0, d)]) # cell=[float,float,float] #pbe=[int,int,int]\n",
    "co2"
   ]
  },
  {
   "cell_type": "markdown",
   "id": "a38e1ae9",
   "metadata": {},
   "source": [
    "#### Visualizing the molecule"
   ]
  },
  {
   "cell_type": "code",
   "execution_count": null,
   "id": "0a40c7c3",
   "metadata": {},
   "outputs": [],
   "source": [
    "#view(co, viewer='x3d')\n",
    "#view(co, viewer='ngl')\n",
    "\n",
    "view(co2)"
   ]
  },
  {
   "cell_type": "markdown",
   "id": "cdcd5e3d",
   "metadata": {},
   "source": [
    "#### Writting the data to a structure file (https://wiki.fysik.dtu.dk/ase/ase/io/io.html)"
   ]
  },
  {
   "cell_type": "code",
   "execution_count": null,
   "id": "a11016c5",
   "metadata": {},
   "outputs": [],
   "source": [
    "co2.write('co2.xyz') # If not periodic boundary condition is set .xyz and .cif are the format for saving image (try .vasp!)"
   ]
  },
  {
   "cell_type": "markdown",
   "id": "e6890158",
   "metadata": {},
   "source": [
    "Repeating above steps for periodic boundary condition."
   ]
  },
  {
   "cell_type": "code",
   "execution_count": null,
   "id": "944021b9",
   "metadata": {},
   "outputs": [],
   "source": [
    "co2 = Atoms('CO2', positions=[(0, 0, 0), (0,0,-d), (0, 0, d)],cell=[10,10,10], pbc=(2,0,0))\n",
    "view(co2)\n",
    "fig1=view(co2)\n"
   ]
  },
  {
   "cell_type": "markdown",
   "id": "6fa46cf5",
   "metadata": {},
   "source": [
    "ASE allows to write the coordinates of the atoms in the above supercell to a datafile\n"
   ]
  },
  {
   "cell_type": "code",
   "execution_count": null,
   "id": "7747d3ec",
   "metadata": {},
   "outputs": [],
   "source": [
    "co2.write('co2.xyz') # Using periodic boundary condition; different file types are allowed\n",
    "co2.write('co2.cif')"
   ]
  },
  {
   "cell_type": "code",
   "execution_count": null,
   "id": "df970cd2",
   "metadata": {},
   "outputs": [],
   "source": [
    "print(dir(co2))"
   ]
  },
  {
   "cell_type": "code",
   "execution_count": null,
   "id": "364cb8d6",
   "metadata": {},
   "outputs": [],
   "source": [
    "print(co2.get_chemical_symbols())\n",
    "print(co2.get_center_of_mass())\n",
    "print(co2.get_positions())\n",
    "print(co2.get_volume())\n",
    "print(co2.get_cell())"
   ]
  },
  {
   "cell_type": "markdown",
   "id": "d1580511",
   "metadata": {},
   "source": [
    "#### Feel free to play around with other attributes above"
   ]
  },
  {
   "cell_type": "markdown",
   "id": "3635ecbb",
   "metadata": {},
   "source": [
    "Although we built a molecule on our own ussing the information of bond lengths. ASE has in built library that contains\n",
    "a lot of molecules. Following is the list of structures that are available in ASE"
   ]
  },
  {
   "cell_type": "code",
   "execution_count": null,
   "id": "e159ceb4",
   "metadata": {},
   "outputs": [],
   "source": [
    "from ase.collections import g2\n",
    "ase_avail_str=g2.names\n",
    "print(ase_avail_str)"
   ]
  },
  {
   "cell_type": "markdown",
   "id": "903486cf",
   "metadata": {},
   "source": [
    "Below we can quickly check if the given molecule is available in the g2 library. eg. Lets try if benzene ie. 'C6H6' is available there"
   ]
  },
  {
   "cell_type": "code",
   "execution_count": null,
   "id": "50bfd7cc",
   "metadata": {},
   "outputs": [],
   "source": [
    "'C6H6' in ase_avail_str"
   ]
  },
  {
   "cell_type": "markdown",
   "id": "645206f2",
   "metadata": {},
   "source": [
    "We see benzene exists already in the g2 library. Therefore we don't need to construct it again (as we did a while ago for CO2.)\n",
    "[Note: the molecule 'CO2' also exists here]. Could we visualize Benzene then? Could we add this molecule in a box of dimension \n",
    "20x20x20 ? Could we also save the coordinates of each atoms in the standard file type (eg .xyz, .vasp, .cif, etc.)? \n",
    "\n",
    "Hint: The answer to all of the above questions is yes!!! . We could simply follow the procedure we adopted above for CO2"
   ]
  },
  {
   "cell_type": "code",
   "execution_count": null,
   "id": "f0754d1b",
   "metadata": {},
   "outputs": [],
   "source": [
    "from ase.build import molecule\n",
    "benz=molecule('C6H6')\n",
    "#print(dir(benz))\n",
    "benz.set_cell([20,20,20])\n",
    "view(benz)\n",
    "print(benz.get_chemical_symbols())\n",
    "print(benz.get_center_of_mass())\n",
    "print(benz.get_positions())\n",
    "print(benz.get_volume())\n",
    "print(benz.get_cell())\n"
   ]
  },
  {
   "cell_type": "markdown",
   "id": "8c8310e7",
   "metadata": {},
   "source": [
    "Could we place benzene at the center of the supercell? Yes!!"
   ]
  },
  {
   "cell_type": "code",
   "execution_count": null,
   "id": "b41249e2",
   "metadata": {},
   "outputs": [],
   "source": [
    "benz.set_center_of_mass([-10,-10,-10])\n",
    "view(benz)"
   ]
  },
  {
   "cell_type": "markdown",
   "id": "9012455d",
   "metadata": {},
   "source": [
    "#### Building solids (bulk)\n",
    "Silver has a fcc crystal lattice structure. Imagine a cube with atoms at each corners and at the center of each face.\n",
    "We can get its lattice constant from mendeleev and use it to build the bulk."
   ]
  },
  {
   "cell_type": "code",
   "execution_count": null,
   "id": "a870e25b",
   "metadata": {},
   "outputs": [],
   "source": [
    "from mendeleev import Ag\n",
    "lat_ag=Ag.lattice_constant\n",
    "from ase.build import bulk\n",
    "ag_prim=bulk('Ag','fcc',lat_ag)\n",
    "ag_ortho=bulk('Ag','fcc',lat_ag,orthorhombic=True)\n",
    "ag_conv=bulk('Ag','fcc',lat_ag,cubic=True)\n",
    "#view(ag_prim)\n",
    "#view(ag_ortho)\n",
    "#view(ag_conv)\n",
    "#ag_prim.get_cell()\n",
    "#ag_ortho.get_cell()\n",
    "#ag_conv.get_cell()\n",
    "ag_prim.get_positions()\n",
    "#ag_ortho.get_positions()\n",
    "#ag_conv.get_positions()\n",
    "ag_prim.write('Ag.cif')"
   ]
  },
  {
   "cell_type": "code",
   "execution_count": null,
   "id": "6e2d6e41",
   "metadata": {},
   "outputs": [],
   "source": [
    "from mendeleev import Na\n",
    "lat_na=Na.lattice_constant\n",
    "from ase.build import bulk\n",
    "na_prim=bulk('Na','bcc',lat_na)\n",
    "na_conv=bulk('Na','bcc',lat_na,cubic=True)\n",
    "#view(na_prim)\n",
    "\n",
    "view(na_conv)\n",
    "#na_prim.get_cell()\n",
    "\n",
    "#na_conv.get_cell()\n",
    "#na_prim.get_positions()\n",
    "na_conv.get_positions()"
   ]
  },
  {
   "cell_type": "markdown",
   "id": "7169919e",
   "metadata": {},
   "source": [
    "#### Building surfaces"
   ]
  },
  {
   "cell_type": "code",
   "execution_count": null,
   "id": "2c529685",
   "metadata": {},
   "outputs": [],
   "source": [
    "from ase.build import fcc111"
   ]
  },
  {
   "cell_type": "code",
   "execution_count": null,
   "id": "11dc0912",
   "metadata": {},
   "outputs": [],
   "source": [
    "surf_ag = fcc111('Ag',a=lat_ag, size=(4,4,5))\n",
    "#slab = fcc111('Al', size=(2,2,3))\n",
    "add_adsorbate(surf_ag, 'H', 1.5, 'ontop')\n",
    "surf_ag.center(vacuum=10.0, axis=2)\n",
    "view(surf_ag)\n",
    "#surf_ag.get_cell()"
   ]
  },
  {
   "cell_type": "code",
   "execution_count": null,
   "id": "e65825f2",
   "metadata": {},
   "outputs": [],
   "source": [
    "len(surf_ag.get_positions())"
   ]
  },
  {
   "cell_type": "code",
   "execution_count": null,
   "id": "68fefc01",
   "metadata": {},
   "outputs": [],
   "source": []
  },
  {
   "cell_type": "code",
   "execution_count": null,
   "id": "6255f463",
   "metadata": {},
   "outputs": [],
   "source": []
  },
  {
   "cell_type": "code",
   "execution_count": null,
   "id": "e980944e",
   "metadata": {},
   "outputs": [],
   "source": []
  }
 ],
 "metadata": {
  "kernelspec": {
   "display_name": "Python 3 (ipykernel)",
   "language": "python",
   "name": "python3"
  },
  "language_info": {
   "codemirror_mode": {
    "name": "ipython",
    "version": 3
   },
   "file_extension": ".py",
   "mimetype": "text/x-python",
   "name": "python",
   "nbconvert_exporter": "python",
   "pygments_lexer": "ipython3",
   "version": "3.9.5"
  }
 },
 "nbformat": 4,
 "nbformat_minor": 5
}
