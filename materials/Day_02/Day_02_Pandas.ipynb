{
 "cells": [
  {
   "cell_type": "code",
   "execution_count": null,
   "id": "df21a220",
   "metadata": {},
   "outputs": [],
   "source": []
  },
  {
   "cell_type": "code",
   "execution_count": null,
   "id": "1b8932fd",
   "metadata": {},
   "outputs": [],
   "source": []
  },
  {
   "cell_type": "code",
   "execution_count": null,
   "id": "92f96750",
   "metadata": {},
   "outputs": [],
   "source": []
  },
  {
   "cell_type": "code",
   "execution_count": null,
   "id": "4bb04beb",
   "metadata": {},
   "outputs": [],
   "source": []
  },
  {
   "cell_type": "markdown",
   "id": "4af925ec",
   "metadata": {},
   "source": [
    "### pandas I/O\n",
    "Read a .txt file of the table of elements taken from [here](https://www.science.co.il/elements/)."
   ]
  },
  {
   "cell_type": "code",
   "execution_count": 196,
   "id": "befd1288",
   "metadata": {
    "collapsed": true
   },
   "outputs": [],
   "source": [
    "import pandas as pd"
   ]
  },
  {
   "cell_type": "code",
   "execution_count": 197,
   "id": "23931c5a",
   "metadata": {
    "collapsed": true
   },
   "outputs": [],
   "source": [
    "df = pd.read_table('..//files//tableofelements.txt', sep='\\t', index_col=1).reset_index().drop('index', 1)"
   ]
  },
  {
   "cell_type": "code",
   "execution_count": 198,
   "id": "23e3a8e8",
   "metadata": {},
   "outputs": [
    {
     "data": {
      "text/html": [
       "<div>\n",
       "<table border=\"1\" class=\"dataframe\">\n",
       "  <thead>\n",
       "    <tr style=\"text-align: right;\">\n",
       "      <th></th>\n",
       "      <th>No.</th>\n",
       "      <th>Atomic Weight</th>\n",
       "      <th>Name</th>\n",
       "      <th>Sym.</th>\n",
       "      <th>M.P.(°C)</th>\n",
       "      <th>B.P.(°C)</th>\n",
       "      <th>Density(g/cm3)</th>\n",
       "      <th>Earth crust (%)</th>\n",
       "      <th>Discovery(Year)</th>\n",
       "      <th>Group</th>\n",
       "      <th>Electron configuration</th>\n",
       "      <th>Ionization energy (eV)</th>\n",
       "    </tr>\n",
       "  </thead>\n",
       "  <tbody>\n",
       "    <tr>\n",
       "      <th>0</th>\n",
       "      <td>1</td>\n",
       "      <td>1.0079</td>\n",
       "      <td>Hydrogen</td>\n",
       "      <td>H</td>\n",
       "      <td>-259.0</td>\n",
       "      <td>-253.0</td>\n",
       "      <td>0.09</td>\n",
       "      <td>0.14</td>\n",
       "      <td>1776</td>\n",
       "      <td>1</td>\n",
       "      <td>1s1</td>\n",
       "      <td>13.5984</td>\n",
       "    </tr>\n",
       "    <tr>\n",
       "      <th>1</th>\n",
       "      <td>2</td>\n",
       "      <td>4.0026</td>\n",
       "      <td>Helium</td>\n",
       "      <td>He</td>\n",
       "      <td>-272.0</td>\n",
       "      <td>-269.0</td>\n",
       "      <td>0.18</td>\n",
       "      <td>NaN</td>\n",
       "      <td>1895</td>\n",
       "      <td>18</td>\n",
       "      <td>1s2</td>\n",
       "      <td>24.5874</td>\n",
       "    </tr>\n",
       "    <tr>\n",
       "      <th>2</th>\n",
       "      <td>3</td>\n",
       "      <td>6.9410</td>\n",
       "      <td>Lithium</td>\n",
       "      <td>Li</td>\n",
       "      <td>180.0</td>\n",
       "      <td>1,347.00</td>\n",
       "      <td>0.53</td>\n",
       "      <td>NaN</td>\n",
       "      <td>1817</td>\n",
       "      <td>1</td>\n",
       "      <td>[He] 2s1</td>\n",
       "      <td>5.3917</td>\n",
       "    </tr>\n",
       "    <tr>\n",
       "      <th>3</th>\n",
       "      <td>4</td>\n",
       "      <td>9.0122</td>\n",
       "      <td>Beryllium</td>\n",
       "      <td>Be</td>\n",
       "      <td>1,278.00</td>\n",
       "      <td>2,970.00</td>\n",
       "      <td>1.85</td>\n",
       "      <td>NaN</td>\n",
       "      <td>1797</td>\n",
       "      <td>2</td>\n",
       "      <td>[He] 2s2</td>\n",
       "      <td>9.3227</td>\n",
       "    </tr>\n",
       "    <tr>\n",
       "      <th>4</th>\n",
       "      <td>5</td>\n",
       "      <td>10.8110</td>\n",
       "      <td>Boron</td>\n",
       "      <td>B</td>\n",
       "      <td>2,300.00</td>\n",
       "      <td>2,550.00</td>\n",
       "      <td>2.34</td>\n",
       "      <td>NaN</td>\n",
       "      <td>1808</td>\n",
       "      <td>13</td>\n",
       "      <td>[He] 2s2 2p1</td>\n",
       "      <td>8.2980</td>\n",
       "    </tr>\n",
       "  </tbody>\n",
       "</table>\n",
       "</div>"
      ],
      "text/plain": [
       "   No.  Atomic Weight       Name Sym.  M.P.(°C)  B.P.(°C)  Density(g/cm3)  \\\n",
       "0    1         1.0079   Hydrogen    H    -259.0    -253.0            0.09   \n",
       "1    2         4.0026     Helium   He    -272.0    -269.0            0.18   \n",
       "2    3         6.9410    Lithium   Li     180.0  1,347.00            0.53   \n",
       "3    4         9.0122  Beryllium   Be  1,278.00  2,970.00            1.85   \n",
       "4    5        10.8110      Boron    B  2,300.00  2,550.00            2.34   \n",
       "\n",
       "   Earth crust (%) Discovery(Year)  Group Electron configuration  \\\n",
       "0             0.14            1776      1                    1s1   \n",
       "1              NaN            1895     18                    1s2   \n",
       "2              NaN            1817      1               [He] 2s1   \n",
       "3              NaN            1797      2               [He] 2s2   \n",
       "4              NaN            1808     13           [He] 2s2 2p1   \n",
       "\n",
       "   Ionization energy (eV)  \n",
       "0                 13.5984  \n",
       "1                 24.5874  \n",
       "2                  5.3917  \n",
       "3                  9.3227  \n",
       "4                  8.2980  "
      ]
     },
     "execution_count": 198,
     "metadata": {},
     "output_type": "execute_result"
    }
   ],
   "source": [
    "df.head()"
   ]
  },
  {
   "cell_type": "code",
   "execution_count": 199,
   "id": "31b2297e",
   "metadata": {
    "collapsed": true
   },
   "outputs": [],
   "source": [
    "df.to_json('..//files//tableofelements.json')"
   ]
  },
  {
   "cell_type": "code",
   "execution_count": 200,
   "id": "8e716e4f",
   "metadata": {
    "collapsed": true
   },
   "outputs": [],
   "source": [
    "df.to_csv('..//files//tableofelements.csv')"
   ]
  },
  {
   "cell_type": "code",
   "execution_count": null,
   "id": "9c8aaabc",
   "metadata": {},
   "outputs": [],
   "source": []
  }
 ],
 "metadata": {
  "kernelspec": {
   "display_name": "Python 3",
   "language": "python",
   "name": "python3"
  },
  "language_info": {
   "codemirror_mode": {
    "name": "ipython",
    "version": 3
   },
   "file_extension": ".py",
   "mimetype": "text/x-python",
   "name": "python",
   "nbconvert_exporter": "python",
   "pygments_lexer": "ipython3",
   "version": "3.6.4"
  }
 },
 "nbformat": 4,
 "nbformat_minor": 5
}
