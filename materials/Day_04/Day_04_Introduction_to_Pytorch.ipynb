{
 "cells": [
  {
   "cell_type": "markdown",
   "id": "ce13ea15",
   "metadata": {},
   "source": [
    "# Introduction to Pytorch\n",
    "Lecturers = R. Patrick Xian, Santosh Adhikari, Sourin Dey<br>\n",
    "Date = 07/2022\n",
    "\n",
    "[Pytorch cheatsheet](https://pytorch.org/tutorials/beginner/ptcheat.html)\n",
    "\n",
    "### Use of Pytorch nowadays (2022):\n",
    "- ### Research-grade deep learning model building\n",
    "- ### High-performance computational tools that benefits from [automatic differentiation](https://en.wikipedia.org/wiki/Automatic_differentiation) / autodifferentiation, such as those that directly include or can be translated into optimization problems\n",
    "- ### Probabilistic inference engine\n",
    "- ### Prototyping machine-learning apps"
   ]
  },
  {
   "cell_type": "code",
   "execution_count": 23,
   "id": "fbcf9dcd",
   "metadata": {},
   "outputs": [],
   "source": [
    "import torch\n",
    "import numpy as np"
   ]
  },
  {
   "cell_type": "markdown",
   "id": "3743043e",
   "metadata": {},
   "source": [
    "## 1. Data types\n",
    "### 1.1 ```torch.tensor``` / ```torch.Tensor```"
   ]
  },
  {
   "cell_type": "code",
   "execution_count": 7,
   "id": "b77dd706",
   "metadata": {},
   "outputs": [
    {
     "data": {
      "text/plain": [
       "tensor([[1, 2],\n",
       "        [3, 4]])"
      ]
     },
     "execution_count": 7,
     "metadata": {},
     "output_type": "execute_result"
    }
   ],
   "source": [
    "ts = torch.tensor([[1, 2], [3, 4]])\n",
    "ts"
   ]
  },
  {
   "cell_type": "code",
   "execution_count": 12,
   "id": "05913f3d",
   "metadata": {},
   "outputs": [
    {
     "data": {
      "text/plain": [
       "True"
      ]
     },
     "execution_count": 12,
     "metadata": {},
     "output_type": "execute_result"
    }
   ],
   "source": [
    "torch.is_tensor(ts)"
   ]
  },
  {
   "cell_type": "code",
   "execution_count": 20,
   "id": "9aa73f02",
   "metadata": {},
   "outputs": [
    {
     "data": {
      "text/plain": [
       "torch.Size([2, 2])"
      ]
     },
     "execution_count": 20,
     "metadata": {},
     "output_type": "execute_result"
    }
   ],
   "source": [
    "# shape is a property for tensor object\n",
    "ts.shape"
   ]
  },
  {
   "cell_type": "code",
   "execution_count": 17,
   "id": "0e2c9fc4",
   "metadata": {},
   "outputs": [
    {
     "data": {
      "text/plain": [
       "4"
      ]
     },
     "execution_count": 17,
     "metadata": {},
     "output_type": "execute_result"
    }
   ],
   "source": [
    "# numel (number of elements) is a method for tensor object, which is equivalent to the size of numpy array\n",
    "ts.numel()"
   ]
  },
  {
   "cell_type": "code",
   "execution_count": 22,
   "id": "13d27772",
   "metadata": {},
   "outputs": [
    {
     "data": {
      "text/plain": [
       "4"
      ]
     },
     "execution_count": 22,
     "metadata": {},
     "output_type": "execute_result"
    }
   ],
   "source": [
    "# Equivalent to above\n",
    "torch.numel(ts)"
   ]
  },
  {
   "cell_type": "code",
   "execution_count": 8,
   "id": "90f7882b",
   "metadata": {},
   "outputs": [
    {
     "data": {
      "text/plain": [
       "torch.Tensor"
      ]
     },
     "execution_count": 8,
     "metadata": {},
     "output_type": "execute_result"
    }
   ],
   "source": [
    "type(ts)"
   ]
  },
  {
   "cell_type": "code",
   "execution_count": 38,
   "id": "df556e24",
   "metadata": {},
   "outputs": [
    {
     "data": {
      "text/plain": [
       "tensor([0.0000, 0.5000, 1.0000, 1.5000, 2.0000, 2.5000, 3.0000, 3.5000, 4.0000])"
      ]
     },
     "execution_count": 38,
     "metadata": {},
     "output_type": "execute_result"
    }
   ],
   "source": [
    "# Create torch tensor from \n",
    "# Compa\n",
    "torch.linspace(0, 4, 9)"
   ]
  },
  {
   "cell_type": "code",
   "execution_count": 37,
   "id": "92d589c4",
   "metadata": {},
   "outputs": [
    {
     "data": {
      "text/plain": [
       "array([0. , 0.5, 1. , 1.5, 2. , 2.5, 3. , 3.5, 4. ])"
      ]
     },
     "execution_count": 37,
     "metadata": {},
     "output_type": "execute_result"
    }
   ],
   "source": [
    "np.linspace(0, 4, 9, endpoint=True)"
   ]
  },
  {
   "cell_type": "markdown",
   "id": "fb993fe5",
   "metadata": {},
   "source": [
    "### 1.2 Interoperability with ```numpy```\n",
    "Conversion from ```numpy.ndarray``` to ```torch.tensor```"
   ]
  },
  {
   "cell_type": "code",
   "execution_count": 29,
   "id": "31f79c64",
   "metadata": {},
   "outputs": [
    {
     "data": {
      "text/plain": [
       "array([[ 1.76405235,  0.40015721,  0.97873798,  2.2408932 ],\n",
       "       [ 1.86755799, -0.97727788,  0.95008842, -0.15135721],\n",
       "       [-0.10321885,  0.4105985 ,  0.14404357,  1.45427351]])"
      ]
     },
     "execution_count": 29,
     "metadata": {},
     "output_type": "execute_result"
    }
   ],
   "source": [
    "np.random.seed(0)\n",
    "arr = np.random.randn(3, 4)\n",
    "arr"
   ]
  },
  {
   "cell_type": "code",
   "execution_count": 31,
   "id": "bf9e26f6",
   "metadata": {},
   "outputs": [
    {
     "data": {
      "text/plain": [
       "tensor([[ 1.7641,  0.4002,  0.9787,  2.2409],\n",
       "        [ 1.8676, -0.9773,  0.9501, -0.1514],\n",
       "        [-0.1032,  0.4106,  0.1440,  1.4543]], dtype=torch.float64)"
      ]
     },
     "execution_count": 31,
     "metadata": {},
     "output_type": "execute_result"
    }
   ],
   "source": [
    "tarr = torch.from_numpy(arr)\n",
    "tarr"
   ]
  },
  {
   "cell_type": "markdown",
   "id": "863af469",
   "metadata": {},
   "source": [
    "Conversion from ```torch.tensor``` to ```numpy.ndarray```"
   ]
  },
  {
   "cell_type": "code",
   "execution_count": 40,
   "id": "75e2a6b2",
   "metadata": {},
   "outputs": [
    {
     "data": {
      "text/plain": [
       "array([[1, 2],\n",
       "       [3, 4]], dtype=int64)"
      ]
     },
     "execution_count": 40,
     "metadata": {},
     "output_type": "execute_result"
    }
   ],
   "source": [
    "ts_arr = ts.numpy()\n",
    "ts_arr"
   ]
  },
  {
   "attachments": {},
   "cell_type": "markdown",
   "id": "9ebcbb82",
   "metadata": {},
   "source": [
    "## 2. Building deep learning models\n",
    "### 2.1 Neural network basics\n",
    "\n",
    "A neural network is an overparametrized functional approximator. It is modeled loosely after neural networks in animal and human brains.\n",
    "\n",
    "#### [Universal approximation theorem](https://en.wikipedia.org/wiki/Universal_approximation_theorem) (Hornik 1991): A neural network with a hidden layer of infinite width can approximate any function.\n",
    "\n",
    "Single layer neural network: $f_1 = g(w^Tx + b)$\n",
    "<br>\n",
    "N-layer neural network: $f_N = g(w_N^T(w_{N-1}^T(...(w_1^Tx + b_1) + b_{N-1}) + b_N)$\n",
    "<img src=\"NN.png\" alt=\"isolated\" width=\"500\"/>"
   ]
  },
  {
   "cell_type": "code",
   "execution_count": 53,
   "id": "f6ef336e",
   "metadata": {},
   "outputs": [],
   "source": [
    "import torch.nn as nn\n",
    "import matplotlib.pyplot as plt"
   ]
  },
  {
   "cell_type": "markdown",
   "id": "934790a5",
   "metadata": {},
   "source": [
    "### 2.2 A neural network that simulates the XOR operation\n",
    "\n",
    "- Why XOR? (XOR = exclusive or)<br>\n",
    "XOR is the simplest nonlinear function with a vector input and scalar output.\n",
    "\n",
    "| A | B | A XOR B |\n",
    "|---|---|---------|\n",
    "| 0 | 0 | 0       |\n",
    "| 0 | 1 | 1       |\n",
    "| 1 | 0 | 1       |\n",
    "| 1 | 1 | 0       |\n",
    "\n",
    "<br>\n",
    "We need to use the neural network to represent $f$, such that $f \\sim$ XOR"
   ]
  },
  {
   "cell_type": "markdown",
   "id": "6e4bee3e",
   "metadata": {},
   "source": [
    "#### Generate training data"
   ]
  },
  {
   "cell_type": "code",
   "execution_count": 48,
   "id": "6e6c7c58",
   "metadata": {},
   "outputs": [],
   "source": [
    "Xs = torch.tensor([[0., 0.],\n",
    "                   [0., 1.],\n",
    "                   [1., 0.],\n",
    "                   [1., 1.]])\n",
    "\n",
    "y = torch.tensor([0., 1., 1., 0.]).reshape(Xs.shape[0], 1)"
   ]
  },
  {
   "cell_type": "markdown",
   "id": "89752bea",
   "metadata": {},
   "source": [
    "#### Build neural network (XORNet)"
   ]
  },
  {
   "cell_type": "code",
   "execution_count": null,
   "id": "df769cb6",
   "metadata": {},
   "outputs": [],
   "source": [
    "class XORNet(nn.Module):\n",
    "    \n",
    "    def __init__(self):\n",
    "        super(XORNet, self).__init__()\n",
    "        \n",
    "        # Set the first linear layer\n",
    "        self.linear1 = nn.Linear(2, 2)\n",
    "        \n",
    "        # Set the activation function\n",
    "        self.Sigmoid = nn.Sigmoid()\n",
    "        \n",
    "        # Set the output layer\n",
    "        self.linear2 = nn.Linear(2, 1)\n",
    "    \n",
    "    # Define forward pass through the neural network\n",
    "    def forward(self, input):\n",
    "        \n",
    "        x = self.linear1(input)\n",
    "        sig = self.Sigmoid(x)\n",
    "        yh = self.linear2(sig)\n",
    "        \n",
    "        return yh"
   ]
  },
  {
   "cell_type": "markdown",
   "id": "accd7d26",
   "metadata": {},
   "source": [
    "#### Initiate and summarize model"
   ]
  },
  {
   "cell_type": "code",
   "execution_count": 87,
   "id": "cc5886ad",
   "metadata": {},
   "outputs": [
    {
     "name": "stdout",
     "output_type": "stream",
     "text": [
      "=================================================================\n",
      "Layer (type:depth-idx)                   Param #\n",
      "=================================================================\n",
      "├─Linear: 1-1                            6\n",
      "├─Sigmoid: 1-2                           --\n",
      "├─Linear: 1-3                            3\n",
      "=================================================================\n",
      "Total params: 9\n",
      "Trainable params: 9\n",
      "Non-trainable params: 0\n",
      "=================================================================\n"
     ]
    }
   ],
   "source": [
    "# Initiate neural network\n",
    "xor_network = XORNet()\n",
    "\n",
    "try:\n",
    "    from torchsummary import summary\n",
    "    summary(xor_network);\n",
    "except:\n",
    "    pass"
   ]
  },
  {
   "cell_type": "markdown",
   "id": "ef703dfc",
   "metadata": {},
   "source": [
    "#### Set network training parameters"
   ]
  },
  {
   "cell_type": "code",
   "execution_count": 109,
   "id": "98424fd1",
   "metadata": {},
   "outputs": [],
   "source": [
    "# Set training epochs\n",
    "epochs = 1000\n",
    "\n",
    "# Define training loss function\n",
    "mseloss = nn.MSELoss()\n",
    "\n",
    "# Select optimizer\n",
    "optimizer = torch.optim.Adam(xor_network.parameters(), lr = 0.03)\n",
    "\n",
    "all_losses = [] \n",
    "current_loss = 0\n",
    "sample_every = 50"
   ]
  },
  {
   "cell_type": "markdown",
   "id": "120b011f",
   "metadata": {},
   "source": [
    "#### Model training"
   ]
  },
  {
   "cell_type": "code",
   "execution_count": 110,
   "id": "5304593a",
   "metadata": {},
   "outputs": [
    {
     "name": "stdout",
     "output_type": "stream",
     "text": [
      "Epoch: 0 completed\n",
      "Epoch: 100 completed\n",
      "Epoch: 200 completed\n",
      "Epoch: 300 completed\n",
      "Epoch: 400 completed\n",
      "Epoch: 500 completed\n",
      "Epoch: 600 completed\n",
      "Epoch: 700 completed\n",
      "Epoch: 800 completed\n",
      "Epoch: 900 completed\n"
     ]
    }
   ],
   "source": [
    "for epoch in range(epochs): \n",
    "   \n",
    "    # input training example and return the prediction   \n",
    "    yhat = xor_network.forward(Xs)\n",
    "    \n",
    "    # calculate MSE loss   \n",
    "    loss = mseloss(yhat, y)\n",
    "      \n",
    "    # backpropogate through the loss gradiants   \n",
    "    loss.backward()\n",
    "    \n",
    "    # update model weights   \n",
    "    optimizer.step()\n",
    "    \n",
    "    # remove current gradients for next iteration   \n",
    "    optimizer.zero_grad() \n",
    "   \n",
    "    # append to loss   \n",
    "    current_loss += loss  \n",
    " \n",
    "    if epoch % sample_every == 0:       \n",
    "        all_losses.append(current_loss / plot_every)       \n",
    "        current_loss = 0 \n",
    "     \n",
    "    # print progress\n",
    "    if epoch % (sample_every*2) == 0:\n",
    "        print(f'Epoch: {epoch} completed')"
   ]
  },
  {
   "cell_type": "markdown",
   "id": "735371ef",
   "metadata": {},
   "source": [
    "#### Plot loss function during the training of the neural network"
   ]
  },
  {
   "cell_type": "code",
   "execution_count": 111,
   "id": "7daf6053",
   "metadata": {},
   "outputs": [
    {
     "data": {
      "text/plain": [
       "Text(0.5, 0, 'Training epoch')"
      ]
     },
     "execution_count": 111,
     "metadata": {},
     "output_type": "execute_result"
    },
    {
     "data": {
      "image/png": "[encoded data removed]",
      "text/plain": [
       "<Figure size 432x288 with 1 Axes>"
      ]
     },
     "metadata": {
      "needs_background": "light"
     },
     "output_type": "display_data"
    }
   ],
   "source": [
    "n_sampled = int(epochs / sample_every)\n",
    "sampled_epochs = [i*sample_every for i in range(n_sampled)]\n",
    "plt.plot(sampled_epochs[1:], all_losses[1:])\n",
    "plt.ylabel('Loss', fontsize=20);\n",
    "plt.xticks(range(0, epochs, 100))\n",
    "plt.xlim([0, epochs])\n",
    "plt.xlabel('Training epoch', fontsize=20)"
   ]
  },
  {
   "cell_type": "code",
   "execution_count": 112,
   "id": "5402ff5b",
   "metadata": {},
   "outputs": [
    {
     "name": "stdout",
     "output_type": "stream",
     "text": [
      "linear1.weight tensor([[-2.6372, -2.6383],\n",
      "        [-3.5483, -3.5519]])\n",
      "linear1.bias tensor([3.4040, 0.8121])\n",
      "linear2.weight tensor([[ 2.0913, -2.5266]])\n",
      "linear2.bias tensor([-0.2742])\n"
     ]
    }
   ],
   "source": [
    "for name, param in xor_network.named_parameters():\n",
    "    if param.requires_grad:\n",
    "        print(name, param.data)"
   ]
  },
  {
   "cell_type": "markdown",
   "id": "a5a78454",
   "metadata": {},
   "source": [
    "#### Test out the trained model"
   ]
  },
  {
   "cell_type": "code",
   "execution_count": 113,
   "id": "56089ecd",
   "metadata": {},
   "outputs": [
    {
     "name": "stdout",
     "output_type": "stream",
     "text": [
      "Input = [0. 0.], output = [0.]\n",
      "Input = [0. 1.], output = [1.]\n",
      "Input = [1. 0.], output = [1.]\n",
      "Input = [1. 1.], output = [0.]\n"
     ]
    }
   ],
   "source": [
    "for input_vector in Xs:\n",
    "\n",
    "    # Calculate prediction outcome\n",
    "    out = xor_network(input_vector)\n",
    "    invec = input_vector.detach().numpy()\n",
    "    outval = out.round().detach().numpy()\n",
    "    print('Input = {}, output = {}'.format(invec, outval))"
   ]
  },
  {
   "cell_type": "markdown",
   "id": "e86ffdad",
   "metadata": {},
   "source": [
    "## 3. Model storage and reuse\n",
    "### 3.1 What constitutes a model and what needs to be stored?\n",
    "\n",
    "- Weight matrices (w), biases (b), network architecture (hyper)parameters\n",
    "- Optimization parameters\n",
    "- Sampling parameters"
   ]
  },
  {
   "cell_type": "code",
   "execution_count": 119,
   "id": "98d68e15",
   "metadata": {},
   "outputs": [
    {
     "data": {
      "text/plain": [
       "OrderedDict([('linear1.weight',\n",
       "              tensor([[-2.6372, -2.6383],\n",
       "                      [-3.5483, -3.5519]])),\n",
       "             ('linear1.bias', tensor([3.4040, 0.8121])),\n",
       "             ('linear2.weight', tensor([[ 2.0913, -2.5266]])),\n",
       "             ('linear2.bias', tensor([-0.2742]))])"
      ]
     },
     "execution_count": 119,
     "metadata": {},
     "output_type": "execute_result"
    }
   ],
   "source": [
    "xor_network.state_dict()"
   ]
  },
  {
   "cell_type": "markdown",
   "id": "c1b337ab",
   "metadata": {},
   "source": [
    "### 3.2 Storing and loading model using Pytorch format\n",
    "Pytorch file extension ```.pt``` or ```.pth```"
   ]
  },
  {
   "cell_type": "code",
   "execution_count": 116,
   "id": "dd2faece",
   "metadata": {},
   "outputs": [],
   "source": [
    "torch.save(xor_network.state_dict(), r'.\\xor_nn.pt')"
   ]
  },
  {
   "cell_type": "code",
   "execution_count": 118,
   "id": "7321105d",
   "metadata": {},
   "outputs": [],
   "source": [
    "# !ls"
   ]
  },
  {
   "cell_type": "code",
   "execution_count": 122,
   "id": "86686581",
   "metadata": {},
   "outputs": [],
   "source": [
    "xor_nn_dict = torch.load(r'.\\xor_nn.pt')"
   ]
  },
  {
   "cell_type": "code",
   "execution_count": 123,
   "id": "99506e81",
   "metadata": {},
   "outputs": [],
   "source": [
    "xor_nn = XORNet().load_state_dict(xor_nn_dict)"
   ]
  },
  {
   "cell_type": "markdown",
   "id": "f5313c60",
   "metadata": {},
   "source": [
    "### 3.3 Storing model using [ONNX](https://onnx.ai/) (Open Neural Network Exchange) format\n",
    "We use the [Pytorch specification of ONNX](https://pytorch.org/docs/master/onnx.html)"
   ]
  },
  {
   "cell_type": "code",
   "execution_count": 140,
   "id": "25bb5d3e",
   "metadata": {},
   "outputs": [],
   "source": [
    "import torch.onnx as tonnx"
   ]
  },
  {
   "cell_type": "code",
   "execution_count": 141,
   "id": "aa167be2",
   "metadata": {},
   "outputs": [],
   "source": [
    "tonnx.export(xor_network, Xs, r'.\\xor_nn.onnx')"
   ]
  },
  {
   "cell_type": "code",
   "execution_count": 139,
   "id": "d0a70d66",
   "metadata": {},
   "outputs": [],
   "source": [
    "# !ls"
   ]
  }
 ],
 "metadata": {
  "kernelspec": {
   "display_name": "Python 3",
   "language": "python",
   "name": "python3"
  },
  "language_info": {
   "codemirror_mode": {
    "name": "ipython",
    "version": 3
   },
   "file_extension": ".py",
   "mimetype": "text/x-python",
   "name": "python",
   "nbconvert_exporter": "python",
   "pygments_lexer": "ipython3",
   "version": "3.6.4"
  }
 },
 "nbformat": 4,
 "nbformat_minor": 5
}
