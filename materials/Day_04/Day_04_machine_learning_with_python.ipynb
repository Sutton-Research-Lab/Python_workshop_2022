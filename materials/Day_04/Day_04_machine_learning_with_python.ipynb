{
 "cells": [
  {
   "cell_type": "markdown",
   "id": "d0526241",
   "metadata": {},
   "source": [
    "# Brief introduction to Machine Learning (ML)\n",
    "\n",
    "#### Lecturers = R. Patrick Xian, Santosh Adhikari, Sourin Dey\n",
    "#### Date = 08/2022"
   ]
  },
  {
   "cell_type": "markdown",
   "id": "92bd3b7e",
   "metadata": {},
   "source": [
    "\n",
    "source link (https://developer.qualcomm.com/sites/default/files/attachments/learning_resources_01-01.png)"
   ]
  },
  {
   "cell_type": "markdown",
   "id": "b8bb5d41",
   "metadata": {},
   "source": [
    "## Different types of machine learning\n",
    "\n",
    "source link (https://livebook.manning.com/book/grokking-machine-learning/chapter-2/1)"
   ]
  },
  {
   "cell_type": "markdown",
   "id": "62d05d35",
   "metadata": {},
   "source": [
    "## Supervised Learning\n",
    " - ### Regression\n",
    " - ### Classification\n",
    "## Unsupervised Learning\n",
    " - ### Clustering\n",
    "\n",
    "source (http://dx.doi.org/10.1007/978-3-319-21903-5_5)"
   ]
  },
  {
   "cell_type": "markdown",
   "id": "130d18c2",
   "metadata": {},
   "source": [
    "## Applications\n",
    " - Identifying benign or malignant cells/tissues for cancer \n",
    " - Business (price of housing, car insurance)\n",
    " - Recommendation: Amazon, Netflix, Youtube\n",
    " - Anomaly detection: Credit card fraud\n"
   ]
  },
  {
   "cell_type": "markdown",
   "id": "fa6c82ba",
   "metadata": {},
   "source": [
    "## Machine Learning with Python \n",
    "\n",
    "#### Thanks to a lot of different python libraries\n",
    "#### NumPy, SciPy, Pandas, Matplotlib etc.\n",
    "\n",
    "source (https://www.fireblazeaischool.in/blogs/wp-content/uploads/2020/06/Python-Libraries-1024x683.png)"
   ]
  },
  {
   "cell_type": "markdown",
   "id": "cee13230",
   "metadata": {},
   "source": [
    "## Our focus here is on Scikit-Learn\n",
    "https://scikit-learn.org\n",
    "\n",
    "### Why scikit-learn\n",
    "\n",
    " - #### Free \n",
    " - #### Well-designed to work with:\n",
    "- Numpy (https://numpy.org/)\n",
    "- Scipy (https://scipy.org/)\n",
    " - #### Regression, Classification, and Clustering algorithms\n",
    " - #### Easy Implementation\n",
    " - #### Well documented"
   ]
  },
  {
   "cell_type": "code",
   "execution_count": 1,
   "id": "6c86d539",
   "metadata": {},
   "outputs": [],
   "source": [
    "import pandas as pd\n",
    "import numpy as np\n",
    "import random \n",
    "import matplotlib.pyplot as plt\n",
    "from sklearn.kernel_ridge import KernelRidge\n",
    "from sklearn.model_selection import GridSearchCV\n",
    "from sklearn.model_selection import train_test_split\n",
    "from sklearn.metrics import make_scorer\n",
    "from sklearn.metrics import mean_absolute_error, mean_squared_error,r2_score\n",
    "from sklearn.preprocessing import PolynomialFeatures\n",
    "from sklearn import linear_model\n",
    "import pickle"
   ]
  },
  {
   "cell_type": "markdown",
   "id": "7332b233",
   "metadata": {},
   "source": [
    "dataset source (https://open.canada.ca/data/en/dataset/98f1a129-f628-4ce4-b24d-6f16bf24dd64#wb-auto-6)\n",
    "CO2 emission dataset\n",
    "I have cleaned the original dataset \n",
    "Understanding the table\t\t\t\t\t\t\t\t\t\t\t\t\t\t\t\t\t\t\t\n",
    "Model\t4WD/4X4 = Four-wheel drive\t\t\t\t\t\t\t\t\t\t\t\t\t\t\t\t\t\t\n",
    "\tAWD = All-wheel drive\t\t\t\t\t\t\t\t\t\t\t\t\t\t\t\t\t\t\n",
    "\tFFV = Flexible-fuel vehicle\t\t\t\t\t\t\t\t\t\t\t\t\t\t\t\t\t\t\n",
    "\tSWB = Short wheelbase\t\t\t\t\t\t\t\t\t\t\t\t\t\t\t\t\t\t\n",
    "\tLWB = Long wheelbase\t\t\t\t\t\t\t\t\t\t\t\t\t\t\t\t\t\t\n",
    "\tEWB = Extended wheelbase\t\t\t\t\t\t\t\t\t\t\t\t\t\t\t\t\t\t\n",
    "Transmission\tA = automatic\t\t\t\t\t\t\t\t\t\t\t\t\t\t\t\t\t\t\n",
    "\tAM = automated manual\t\t\t\t\t\t\t\t\t\t\t\t\t\t\t\t\t\t\n",
    "\tAS = automatic with select shift\t\t\t\t\t\t\t\t\t\t\t\t\t\t\t\t\t\t\n",
    "\tAV = continuously variable\t\t\t\t\t\t\t\t\t\t\t\t\t\t\t\t\t\t\n",
    "\tM = manual\t\t\t\t\t\t\t\t\t\t\t\t\t\t\t\t\t\t\n",
    "\t3 – 10 = Number of gears\t\t\t\t\t\t\t\t\t\t\t\t\t\t\t\t\t\t\n",
    "Fuel type\tX = regular gasoline\t\t\t\t\t\t\t\t\t\t\t\t\t\t\t\t\t\t\n",
    "\tZ = premium gasoline\t\t\t\t\t\t\t\t\t\t\t\t\t\t\t\t\t\t\n",
    "\tD = diesel\t\t\t\t\t\t\t\t\t\t\t\t\t\t\t\t\t\t\n",
    "\tE = ethanol (E85)\t\t\t\t\t\t\t\t\t\t\t\t\t\t\t\t\t\t\n",
    "\tN = natural gas\t\t\t\t\t\t\t\t\t\t\t\t\t\t\t\t\t\t\n",
    "Fuel consumption\tCity and highway fuel consumption ratings are shown in gallons per 100 miles (ga/100 mi) - the combined rating (55% city, 45% hwy) is shown in ga/100 mi and in miles per imperial gallon (mpg)\t\t\t\t\t\t\t\t\t\t\t\t\t\t\t\t\t\t\n",
    "CO2 emissions\tthe tailpipe emissions of carbon dioxide (in grams per miles) for combined city and highway driving\t\t\t\t\t\t\t\t\t\t\t\t\t\t\t\t\t\t"
   ]
  },
  {
   "cell_type": "markdown",
   "id": "4a6028b6",
   "metadata": {},
   "source": [
    "#### Step 1: Always look at the dataset to see if what we are trying to do makes sense !!\n",
    "We first need to look at our data. This will give us a rough idea to figure out if regression is the right approach "
   ]
  },
  {
   "cell_type": "code",
   "execution_count": 2,
   "id": "ac144178",
   "metadata": {},
   "outputs": [
    {
     "name": "stdout",
     "output_type": "stream",
     "text": [
      "Index(['Model', 'Make', 'Model.1', 'Vehicle Class', 'Engine Size', 'Cylinders',\n",
      "       'Transmission', 'Fuel', 'City rate', 'Hwy rate', 'Combined rate',\n",
      "       'premium_mpg', 'CO2 Emissions'],\n",
      "      dtype='object')\n",
      "Model              int64\n",
      "Make              object\n",
      "Model.1           object\n",
      "Vehicle Class     object\n",
      "Engine Size      float64\n",
      "Cylinders          int64\n",
      "Transmission      object\n",
      "Fuel              object\n",
      "City rate        float64\n",
      "Hwy rate         float64\n",
      "Combined rate    float64\n",
      "premium_mpg        int64\n",
      "CO2 Emissions      int64\n",
      "dtype: object\n"
     ]
    },
    {
     "data": {
      "text/html": [
       "<div>\n",
       "<style scoped>\n",
       "    .dataframe tbody tr th:only-of-type {\n",
       "        vertical-align: middle;\n",
       "    }\n",
       "\n",
       "    .dataframe tbody tr th {\n",
       "        vertical-align: top;\n",
       "    }\n",
       "\n",
       "    .dataframe thead th {\n",
       "        text-align: right;\n",
       "    }\n",
       "</style>\n",
       "<table border=\"1\" class=\"dataframe\">\n",
       "  <thead>\n",
       "    <tr style=\"text-align: right;\">\n",
       "      <th></th>\n",
       "      <th>Model</th>\n",
       "      <th>Make</th>\n",
       "      <th>Model.1</th>\n",
       "      <th>Vehicle Class</th>\n",
       "      <th>Engine Size</th>\n",
       "      <th>Cylinders</th>\n",
       "      <th>Transmission</th>\n",
       "      <th>Fuel</th>\n",
       "      <th>City rate</th>\n",
       "      <th>Hwy rate</th>\n",
       "      <th>Combined rate</th>\n",
       "      <th>premium_mpg</th>\n",
       "      <th>CO2 Emissions</th>\n",
       "    </tr>\n",
       "  </thead>\n",
       "  <tbody>\n",
       "    <tr>\n",
       "      <th>0</th>\n",
       "      <td>2022</td>\n",
       "      <td>Acura</td>\n",
       "      <td>ILX</td>\n",
       "      <td>Compact</td>\n",
       "      <td>2.4</td>\n",
       "      <td>4</td>\n",
       "      <td>AM8</td>\n",
       "      <td>Z</td>\n",
       "      <td>4.2</td>\n",
       "      <td>3.0</td>\n",
       "      <td>3.6</td>\n",
       "      <td>33</td>\n",
       "      <td>320</td>\n",
       "    </tr>\n",
       "    <tr>\n",
       "      <th>1</th>\n",
       "      <td>2022</td>\n",
       "      <td>Acura</td>\n",
       "      <td>MDX SH-AWD</td>\n",
       "      <td>SUV: Small</td>\n",
       "      <td>3.5</td>\n",
       "      <td>6</td>\n",
       "      <td>AS10</td>\n",
       "      <td>Z</td>\n",
       "      <td>5.3</td>\n",
       "      <td>4.0</td>\n",
       "      <td>4.7</td>\n",
       "      <td>25</td>\n",
       "      <td>421</td>\n",
       "    </tr>\n",
       "    <tr>\n",
       "      <th>2</th>\n",
       "      <td>2022</td>\n",
       "      <td>Acura</td>\n",
       "      <td>RDX SH-AWD</td>\n",
       "      <td>SUV: Small</td>\n",
       "      <td>2.0</td>\n",
       "      <td>4</td>\n",
       "      <td>AS10</td>\n",
       "      <td>Z</td>\n",
       "      <td>4.6</td>\n",
       "      <td>3.6</td>\n",
       "      <td>4.2</td>\n",
       "      <td>29</td>\n",
       "      <td>371</td>\n",
       "    </tr>\n",
       "    <tr>\n",
       "      <th>3</th>\n",
       "      <td>2022</td>\n",
       "      <td>Acura</td>\n",
       "      <td>RDX SH-AWD A-SPEC</td>\n",
       "      <td>SUV: Small</td>\n",
       "      <td>2.0</td>\n",
       "      <td>4</td>\n",
       "      <td>AS10</td>\n",
       "      <td>Z</td>\n",
       "      <td>4.8</td>\n",
       "      <td>3.8</td>\n",
       "      <td>4.4</td>\n",
       "      <td>27</td>\n",
       "      <td>387</td>\n",
       "    </tr>\n",
       "    <tr>\n",
       "      <th>4</th>\n",
       "      <td>2022</td>\n",
       "      <td>Acura</td>\n",
       "      <td>TLX SH-AWD</td>\n",
       "      <td>Compact</td>\n",
       "      <td>2.0</td>\n",
       "      <td>4</td>\n",
       "      <td>AS10</td>\n",
       "      <td>Z</td>\n",
       "      <td>4.7</td>\n",
       "      <td>3.4</td>\n",
       "      <td>4.1</td>\n",
       "      <td>29</td>\n",
       "      <td>368</td>\n",
       "    </tr>\n",
       "  </tbody>\n",
       "</table>\n",
       "</div>"
      ],
      "text/plain": [
       "   Model   Make            Model.1 Vehicle Class  Engine Size  Cylinders  \\\n",
       "0   2022  Acura                ILX       Compact          2.4          4   \n",
       "1   2022  Acura         MDX SH-AWD    SUV: Small          3.5          6   \n",
       "2   2022  Acura         RDX SH-AWD    SUV: Small          2.0          4   \n",
       "3   2022  Acura  RDX SH-AWD A-SPEC    SUV: Small          2.0          4   \n",
       "4   2022  Acura         TLX SH-AWD       Compact          2.0          4   \n",
       "\n",
       "  Transmission Fuel  City rate  Hwy rate  Combined rate  premium_mpg  \\\n",
       "0          AM8    Z        4.2       3.0            3.6           33   \n",
       "1         AS10    Z        5.3       4.0            4.7           25   \n",
       "2         AS10    Z        4.6       3.6            4.2           29   \n",
       "3         AS10    Z        4.8       3.8            4.4           27   \n",
       "4         AS10    Z        4.7       3.4            4.1           29   \n",
       "\n",
       "   CO2 Emissions  \n",
       "0            320  \n",
       "1            421  \n",
       "2            371  \n",
       "3            387  \n",
       "4            368  "
      ]
     },
     "execution_count": 2,
     "metadata": {},
     "output_type": "execute_result"
    }
   ],
   "source": [
    "df=pd.read_csv('MY2022_canada_fuel_consumption.csv')\n",
    "df_orig=df\n",
    "print(df.columns)\n",
    "print(df.dtypes)\n",
    "df.head()\n"
   ]
  },
  {
   "cell_type": "code",
   "execution_count": 3,
   "id": "8469f7ba",
   "metadata": {},
   "outputs": [
    {
     "data": {
      "text/plain": [
       "<matplotlib.collections.PathCollection at 0x1741f37fa30>"
      ]
     },
     "execution_count": 3,
     "metadata": {},
     "output_type": "execute_result"
    },
    {
     "data": {
      "image/png": "[encoded data removed]",
      "text/plain": [
       "<Figure size 432x288 with 1 Axes>"
      ]
     },
     "metadata": {
      "needs_background": "light"
     },
     "output_type": "display_data"
    }
   ],
   "source": [
    "# We can see how the features are related to the target\n",
    "plt.scatter(df['CO2 Emissions'],df['Combined rate'])"
   ]
  },
  {
   "cell_type": "markdown",
   "id": "a0a23dbe",
   "metadata": {},
   "source": [
    "We could define a function like below to use for making better quality plots"
   ]
  },
  {
   "cell_type": "code",
   "execution_count": 4,
   "id": "cb24445c",
   "metadata": {},
   "outputs": [],
   "source": [
    "def plot(x,y,xlabel,ylabel,color):\n",
    "    plt.scatter(x,y,s=60,c=color,alpha=0.4)\n",
    "    plt.tick_params(labelbottom=True, labeltop=False, labelleft=True, labelright=False,\n",
    "                     bottom=True, top=True, left=True, right=True)\n",
    "    #plt.axhline(y=0.0,color='purple',linestyle='--',linewidth=1.5)\n",
    "    plt.subplots_adjust(left=0.2)\n",
    "    plt.subplots_adjust(bottom=0.2)\n",
    "    plt.xlabel(xlabel,fontsize=14)\n",
    "    plt.ylabel(ylabel,fontsize=14)\n",
    "    plt.xticks(fontsize=14)\n",
    "    plt.yticks(fontsize=14)\n",
    "    #plt.savefig(feature+'_vs_'+target+'.pdf',dpi=80)\n",
    "    plt.show()\n",
    "    plt.close()\n",
    "    "
   ]
  },
  {
   "cell_type": "code",
   "execution_count": 5,
   "id": "4c51faaa",
   "metadata": {},
   "outputs": [
    {
     "data": {
      "image/png": "[encoded data removed]",
      "text/plain": [
       "<Figure size 432x288 with 1 Axes>"
      ]
     },
     "metadata": {
      "needs_background": "light"
     },
     "output_type": "display_data"
    }
   ],
   "source": [
    "effect='CO2 Emissions'\n",
    "cause='Combined rate' # try 'City rate', 'Hwy rate', 'Combined rate','premium_mpg'\n",
    "#cause='Cylinders'\n",
    "#cause='premium_mpg'\n",
    "plot(df[cause],df[effect],cause,effect,'r')"
   ]
  },
  {
   "cell_type": "markdown",
   "id": "1720d012",
   "metadata": {},
   "source": [
    "Just looking at the features it looks like a linear regression problem (Just recall the equation for straight line, y = mx + c)"
   ]
  },
  {
   "cell_type": "code",
   "execution_count": 6,
   "id": "f3edc206",
   "metadata": {},
   "outputs": [
    {
     "name": "stdout",
     "output_type": "stream",
     "text": [
      "(756, 2)\n",
      "(756, 1) (756,)\n",
      "(189, 1) (189,)\n",
      "Train MAE is 10.945901 and test MAE is 9.849154 \n"
     ]
    }
   ],
   "source": [
    "df=df_orig[['Combined rate','CO2 Emissions']]\n",
    "#df=df_orig[['Engine Size','CO2 Emissions']]\n",
    "df.head()\n",
    "data_set=df.to_numpy()\n",
    "test_size=0.2 # 80 % train and 20 % test\n",
    "x_tr, x_tt= train_test_split(data_set,test_size=test_size,shuffle=True)\n",
    "print(np.shape(x_tr))\n",
    "x_train=x_tr[:,:-1];y_train=x_tr[:,-1];x_test=x_tt[:,:-1];y_test=x_tt[:,-1]\n",
    "#x_train=x_tr[:,:1];y_train=x_tr[:,1:2];x_test=x_tt[:,:1];y_test=x_tt[:,1:2]\n",
    "\n",
    "print(np.shape(x_train),np.shape(y_train))\n",
    "print(np.shape(x_test),np.shape(y_test))\n",
    "\n",
    "#Training a linear model\n",
    "clf=linear_model.LinearRegression()\n",
    "clf.fit(x_train,y_train)\n",
    "pred_train=clf.predict(x_train)\n",
    "pred_test=clf.predict(x_test)\n",
    "\n",
    "# getting mean asolute differences\n",
    "train_mae=mean_absolute_error(y_train,pred_train)\n",
    "test_mae=mean_absolute_error(y_test,pred_test)\n",
    "\n",
    "print('Train MAE is %f and test MAE is %f '%(train_mae,test_mae))"
   ]
  },
  {
   "cell_type": "code",
   "execution_count": 7,
   "id": "0753e5fb",
   "metadata": {},
   "outputs": [
    {
     "data": {
      "image/png": "[encoded data removed]",
      "text/plain": [
       "<Figure size 432x288 with 1 Axes>"
      ]
     },
     "metadata": {
      "needs_background": "light"
     },
     "output_type": "display_data"
    },
    {
     "data": {
      "image/png": "[encoded data removed]",
      "text/plain": [
       "<Figure size 432x288 with 1 Axes>"
      ]
     },
     "metadata": {
      "needs_background": "light"
     },
     "output_type": "display_data"
    }
   ],
   "source": [
    "#Plotting \n",
    "plot(y_train,pred_train,'true_train','pred_train','grey')\n",
    "plot(y_test,pred_test,'true_test','pred_test','blue')\n"
   ]
  },
  {
   "cell_type": "markdown",
   "id": "1b89bb56",
   "metadata": {},
   "source": [
    "#### It makes more sense to plot the train and test predictions together in a plot."
   ]
  },
  {
   "cell_type": "code",
   "execution_count": 8,
   "id": "0b4e2bec",
   "metadata": {},
   "outputs": [
    {
     "data": {
      "image/png": "[encoded data removed]",
      "text/plain": [
       "<Figure size 432x432 with 1 Axes>"
      ]
     },
     "metadata": {
      "needs_background": "light"
     },
     "output_type": "display_data"
    }
   ],
   "source": [
    "\n",
    "import matplotlib.pyplot as plt1\n",
    "s=60\n",
    "alpha=0.4\n",
    "fontsize=14\n",
    "figsize=(6,6)\n",
    "plt1.subplots(figsize=figsize)\n",
    "xlabel='True C02 emission (g/miles)'\n",
    "ylabel='ML C02 emission (g/miles)'\n",
    "plt1.scatter(y_train,pred_train,color='grey',s=60,alpha=0.4,label='train')\n",
    "plt1.scatter(y_test,pred_test,color='blue',s=60,alpha=0.4,label='test')\n",
    "plt1.tick_params(labelbottom=True, labeltop=False, labelleft=True, labelright=False,bottom=True, top=True, left=True, right=True)\n",
    "plt1.subplots_adjust(left=0.2)\n",
    "plt1.subplots_adjust(bottom=0.2)\n",
    "plt1.xlabel(xlabel,fontsize=fontsize)\n",
    "plt1.ylabel(ylabel,fontsize=fontsize)\n",
    "plt1.xticks(fontsize=fontsize)\n",
    "plt1.yticks(fontsize=fontsize)\n",
    "plt1.legend(fontsize=fontsize-2)\n",
    "plt1.savefig('linear_reg_parity_plot_combined.pdf',dpi=80)\n",
    "plt1.show()\n",
    "plt1.close()"
   ]
  },
  {
   "cell_type": "code",
   "execution_count": 9,
   "id": "0a67f1ea",
   "metadata": {},
   "outputs": [
    {
     "name": "stdout",
     "output_type": "stream",
     "text": [
      "Train slope is [82.01715113] and the intercept is 29.732755599784355 \n"
     ]
    }
   ],
   "source": [
    "c=clf.intercept_\n",
    "m=clf.coef_\n",
    "m\n",
    "print('Train slope is {} and the intercept is {} '.format(m,c))"
   ]
  },
  {
   "cell_type": "markdown",
   "id": "d57cde43",
   "metadata": {},
   "source": [
    "#### Is linear model equivalent to y(x1,x2,....xn) = m1x1 + m2x2 + .... + c?\n",
    "If so the result of the outcome below should be ideally zero (or very very close to zero)."
   ]
  },
  {
   "cell_type": "code",
   "execution_count": 10,
   "id": "5a8d5bf9",
   "metadata": {},
   "outputs": [
    {
     "data": {
      "text/plain": [
       "0.0"
      ]
     },
     "execution_count": 10,
     "metadata": {},
     "output_type": "execute_result"
    }
   ],
   "source": [
    "y_hat=np.inner(m,x_test)+c\n",
    "mean_absolute_error(y_hat,pred_test)"
   ]
  },
  {
   "cell_type": "markdown",
   "id": "8d6253bb",
   "metadata": {},
   "source": [
    "### Mean Absolute Error (MAE) is not the only metric to evaluate the performance\n",
    "Link to various metrics in scikit-learn : https://scikit-learn.org/stable/modules/model_evaluation.html"
   ]
  },
  {
   "cell_type": "code",
   "execution_count": 11,
   "id": "b9e26af8",
   "metadata": {},
   "outputs": [
    {
     "name": "stdout",
     "output_type": "stream",
     "text": [
      "Train RMSE is 25.306906 and test RMSE is 21.374423 \n"
     ]
    }
   ],
   "source": [
    "### Root mean squared error (Ideal score is zero, the less the better)\n",
    "train_rmse=np.sqrt(mean_squared_error(y_train,pred_train))\n",
    "test_rmse=np.sqrt(mean_squared_error(y_test,pred_test))\n",
    "print('Train RMSE is %f and test RMSE is %f '%(train_rmse,test_rmse))"
   ]
  },
  {
   "cell_type": "code",
   "execution_count": 12,
   "id": "b887780e",
   "metadata": {},
   "outputs": [
    {
     "name": "stdout",
     "output_type": "stream",
     "text": [
      "Train R2-score is 0.942193 and test R2-score is 0.948392 \n"
     ]
    }
   ],
   "source": [
    "### R- squared error (Ideal score is 1.0, closer to 1.0 the better)\n",
    "train_r2=r2_score(y_train,pred_train)\n",
    "test_r2=r2_score(y_test,pred_test)\n",
    "print('Train R2-score is %f and test R2-score is %f '%(train_r2,test_r2))"
   ]
  },
  {
   "cell_type": "markdown",
   "id": "00e8f6bc",
   "metadata": {},
   "source": [
    "#### Saving and re-loading a model"
   ]
  },
  {
   "cell_type": "code",
   "execution_count": 13,
   "id": "3667816a",
   "metadata": {},
   "outputs": [],
   "source": [
    "#save\n",
    "#clf_save_lin=pickle.dumps(clf)\n",
    "#reload\n",
    "#clf_reload_lin=pickle.loads(clf_save_lin)"
   ]
  },
  {
   "cell_type": "markdown",
   "id": "ae8f4a31",
   "metadata": {},
   "source": [
    "#### Task1 : Building a linear model that can use two or more features\n"
   ]
  },
  {
   "cell_type": "code",
   "execution_count": 14,
   "id": "68cd10bc",
   "metadata": {},
   "outputs": [],
   "source": [
    "#Hint:\n",
    "#Replace df=df_orig[['Combined rate','CO2 Emissions']] in the cell number 6 (In [6]: ) by\n",
    "#df=df_orig[['Engine Size','Combined rate','CO2 Emissions']]   and re run the cells 6 -12\n",
    "\n"
   ]
  },
  {
   "cell_type": "markdown",
   "id": "54b62214",
   "metadata": {},
   "source": [
    "#### We also encourage you to try different features displayed on cell 2 (In [2]: for the Task 1\n"
   ]
  },
  {
   "cell_type": "markdown",
   "id": "395d70fa",
   "metadata": {},
   "source": [
    "## Non-linear regression\n",
    "\n",
    "There are several algorithms for non-linear regression, we will here focus particularly on the kernel ridge regression using\n",
    "the 'Laplacian' kernel \n",
    "\n",
    "##### Laplacian kernel \n",
    "Form of kernel: source link (https://scikit-learn.org/stable/modules/metrics.html#laplacian-kernel)\n",
    "\n",
    "\n",
    "Details on implementation: (https://onlinelibrary.wiley.com/doi/10.1002/qua.24954/abstract/)"
   ]
  },
  {
   "cell_type": "code",
   "execution_count": 15,
   "id": "97676116",
   "metadata": {},
   "outputs": [],
   "source": [
    "def non_linear_model(x_train, y_train, nfold, nthread,in_alpha=np.logspace(-15, 5, 21, base=2), in_gamma=np.logspace(-15, 5, 21, base=2), kernel=None, rseed=None):\n",
    "    if rseed:\n",
    "        random.seed(rseed)\n",
    "        np.random.seed(rseed)\n",
    "\n",
    "    neg_root_mean_squared_error = make_scorer(mean_squared_error, greater_is_better=False)\n",
    "\n",
    "    clf = GridSearchCV(KernelRidge(kernel=kernel), cv=nfold, n_jobs=nthread, verbose=1, scoring=neg_root_mean_squared_error, param_grid={\"alpha\":in_alpha, \"gamma\": in_gamma})\n",
    "\n",
    "    clf.fit(x_train, y_train)\n",
    "\n",
    "    return clf"
   ]
  },
  {
   "cell_type": "markdown",
   "id": "9672fdb5",
   "metadata": {},
   "source": [
    "The key takeaway from above expression is that alpha and beta are two hyperparameters of the model that are tuned\n",
    "by using the grid search. We used mean_squared_error metric for tuning it. "
   ]
  },
  {
   "cell_type": "code",
   "execution_count": 16,
   "id": "49d1ceaa",
   "metadata": {},
   "outputs": [
    {
     "name": "stdout",
     "output_type": "stream",
     "text": [
      "Fitting 5 folds for each of 441 candidates, totalling 2205 fits\n",
      "Train MAE is 10.945901 and test MAE is 9.849154 \n"
     ]
    }
   ],
   "source": [
    "\n",
    "ker='laplacian';nfold=5;nthread=2;number = random.randint(1, 1000)\n",
    "\n",
    "rseed = random.seed(number);test_size = 0.20\n",
    "alphas=np.logspace(-15, 5, 21, base=2);gammas=np.logspace(-15, 5, 21, base=2)\n",
    "\n",
    "clf=non_linear_model(x_train, y_train,nfold, nthread, in_alpha=alphas, in_gamma=gammas, kernel=ker, rseed=rseed)\n",
    "\n",
    "pred_train=clf.predict(x_train)\n",
    "pred_test=clf.predict(x_test)\n",
    "\n",
    "print('Train MAE is %f and test MAE is %f '%(train_mae,test_mae))"
   ]
  },
  {
   "cell_type": "markdown",
   "id": "b75efa58",
   "metadata": {},
   "source": [
    "#### Plotting how train and test error look"
   ]
  },
  {
   "cell_type": "code",
   "execution_count": 17,
   "id": "bf200383",
   "metadata": {},
   "outputs": [
    {
     "data": {
      "image/png": "[encoded data removed]",
      "text/plain": [
       "<Figure size 432x288 with 1 Axes>"
      ]
     },
     "metadata": {
      "needs_background": "light"
     },
     "output_type": "display_data"
    },
    {
     "data": {
      "image/png": "[encoded data removed]",
      "text/plain": [
       "<Figure size 432x288 with 1 Axes>"
      ]
     },
     "metadata": {
      "needs_background": "light"
     },
     "output_type": "display_data"
    }
   ],
   "source": [
    "plot(y_train,pred_train,'true_train','pred_train','grey')\n",
    "plot(y_test,pred_test,'true_test','pred_test','blue')"
   ]
  },
  {
   "cell_type": "markdown",
   "id": "b3259956",
   "metadata": {},
   "source": [
    "#### Combining both plots (parity plot)"
   ]
  },
  {
   "cell_type": "code",
   "execution_count": 18,
   "id": "af9e86b9",
   "metadata": {},
   "outputs": [
    {
     "data": {
      "image/png": "[encoded data removed]",
      "text/plain": [
       "<Figure size 432x432 with 1 Axes>"
      ]
     },
     "metadata": {
      "needs_background": "light"
     },
     "output_type": "display_data"
    }
   ],
   "source": [
    "import matplotlib.pyplot as plt1\n",
    "s=60\n",
    "alpha=0.4\n",
    "fontsize=14\n",
    "figsize=(6,6)\n",
    "plt1.subplots(figsize=figsize)\n",
    "xlabel='True C02 emission (g/miles)'\n",
    "ylabel='ML C02 emission (g/miles)'\n",
    "plt1.scatter(y_train,pred_train,color='grey',s=60,alpha=0.4,label='train')\n",
    "plt1.scatter(y_test,pred_test,color='blue',s=60,alpha=0.4,label='test')\n",
    "plt1.tick_params(labelbottom=True, labeltop=False, labelleft=True, labelright=False,bottom=True, top=True, left=True, right=True)\n",
    "plt1.subplots_adjust(left=0.2)\n",
    "plt1.subplots_adjust(bottom=0.2)\n",
    "plt1.xlabel(xlabel,fontsize=fontsize)\n",
    "plt1.ylabel(ylabel,fontsize=fontsize)\n",
    "plt1.xticks(fontsize=fontsize)\n",
    "plt1.yticks(fontsize=fontsize)\n",
    "plt1.legend(fontsize=fontsize-2)\n",
    "plt1.savefig('krr_lap_parity_plot_combined.pdf',dpi=80) # put '#' at the start if you don't want to save it.\n",
    "plt1.show()\n",
    "plt1.close()"
   ]
  },
  {
   "cell_type": "markdown",
   "id": "ac28112b",
   "metadata": {},
   "source": [
    "#### Different error metrics similar to what we did for linear regression model"
   ]
  },
  {
   "cell_type": "code",
   "execution_count": 19,
   "id": "7db62624",
   "metadata": {},
   "outputs": [
    {
     "name": "stdout",
     "output_type": "stream",
     "text": [
      "Train MAE is 6.579635 and test MAE is 7.528949 \n",
      "Train RMSE is 15.891928 and test RMSE is 17.305374 \n",
      "Train R2-score is 0.977204 and test R2-score is 0.966171 \n"
     ]
    }
   ],
   "source": [
    "train_mae=mean_absolute_error(y_train,pred_train)\n",
    "test_mae=mean_absolute_error(y_test,pred_test)\n",
    "\n",
    "print('Train MAE is %f and test MAE is %f '%(train_mae,test_mae))\n",
    "\n",
    "train_rmse=np.sqrt(mean_squared_error(y_train,pred_train))\n",
    "test_rmse=np.sqrt(mean_squared_error(y_test,pred_test))\n",
    "print('Train RMSE is %f and test RMSE is %f '%(train_rmse,test_rmse))\n",
    "\n",
    "### R- squared error (Ideal score is 1.0, closer to 1.0 the better)\n",
    "train_r2=r2_score(y_train,pred_train)\n",
    "test_r2=r2_score(y_test,pred_test)\n",
    "print('Train R2-score is %f and test R2-score is %f '%(train_r2,test_r2))"
   ]
  },
  {
   "cell_type": "markdown",
   "id": "9b71e8e0",
   "metadata": {},
   "source": [
    "#### Task 2: Please rerun the non-linear model using more than one input features "
   ]
  },
  {
   "cell_type": "markdown",
   "id": "5d3e7d51",
   "metadata": {},
   "source": [
    "## Classification\n",
    "There are several algorithms for the classification. Here we will focus on Support Vector Machine (SVM)\n",
    "\n",
    "link to data (https://cf-courses-data.s3.us.cloud-object-storage.appdomain.cloud/IBMDeveloperSkillsNetwork-ML0101EN-SkillsNetwork/labs/Module%203/data/cell_samples.csv)"
   ]
  },
  {
   "cell_type": "markdown",
   "id": "42adfdb1",
   "metadata": {},
   "source": [
    "Description of the dataset\n",
    "\n",
    "| Field name  | Description                 |\n",
    "| ----------- | --------------------------- |\n",
    "| ID          | Sample ID             |\n",
    "| Clump       | Clump thickness             |\n",
    "| UnifSize    | Uniformity of cell size     |\n",
    "| UnifShape   | Uniformity of cell shape    |\n",
    "| MargAdh     | Marginal adhesion           |\n",
    "| SingEpiSize | Single epithelial cell size |\n",
    "| BareNuc     | Bare nuclei                 |\n",
    "| BlandChrom  | Bland chromatin             |\n",
    "| NormNucl    | Normal nucleoli             |\n",
    "| Mit         | Mitoses                     |\n",
    "| Class       | Benign or malignant         |"
   ]
  },
  {
   "cell_type": "markdown",
   "id": "752f5713",
   "metadata": {},
   "source": [
    "First step is to look at the dataset to figure out if classification task makes sense here"
   ]
  },
  {
   "cell_type": "code",
   "execution_count": 20,
   "id": "c98f827e",
   "metadata": {},
   "outputs": [
    {
     "name": "stdout",
     "output_type": "stream",
     "text": [
      "ID              int64\n",
      "Clump           int64\n",
      "UnifSize        int64\n",
      "UnifShape       int64\n",
      "MargAdh         int64\n",
      "SingEpiSize     int64\n",
      "BareNuc        object\n",
      "BlandChrom      int64\n",
      "NormNucl        int64\n",
      "Mit             int64\n",
      "Class           int64\n",
      "dtype: object\n",
      "(699, 11)\n"
     ]
    }
   ],
   "source": [
    "df_orig = pd.read_csv(\"cell_samples.csv\")\n",
    "df=df_orig\n",
    "print(df.dtypes)\n",
    "df.head()\n",
    "print(df.shape)\n"
   ]
  },
  {
   "cell_type": "markdown",
   "id": "4b77056c",
   "metadata": {},
   "source": [
    "Although except the column 'ID', all other columns were supposed to have integer values, we noticed one of the columns\n",
    "('BareNuc') has different data type. Luckily in our case there are only few cases where the values of 'BareNuc' are\n",
    "not integers. Therefore we drop those rows which contains the non-zero values. However, if we wish we could altogether drop that column as well."
   ]
  },
  {
   "cell_type": "code",
   "execution_count": 21,
   "id": "2ccb0550",
   "metadata": {},
   "outputs": [
    {
     "name": "stdout",
     "output_type": "stream",
     "text": [
      "(683, 11)\n"
     ]
    },
    {
     "name": "stderr",
     "output_type": "stream",
     "text": [
      "C:\\Users\\santosha\\AppData\\Local\\Temp/ipykernel_19508/1525898564.py:3: SettingWithCopyWarning: \n",
      "A value is trying to be set on a copy of a slice from a DataFrame.\n",
      "Try using .loc[row_indexer,col_indexer] = value instead\n",
      "\n",
      "See the caveats in the documentation: https://pandas.pydata.org/pandas-docs/stable/user_guide/indexing.html#returning-a-view-versus-a-copy\n",
      "  df['BareNuc'] = df['BareNuc'].astype('int')\n"
     ]
    }
   ],
   "source": [
    "## Two options : first to remove rows that are not integer\n",
    "df = df_orig[pd.to_numeric(df_orig['BareNuc'], errors='coerce').notnull()]\n",
    "df['BareNuc'] = df['BareNuc'].astype('int')\n",
    "df.dtypes\n",
    "print(df.shape)\n",
    "#df1=df.drop(\"BareNuc\", axis='columns')\n",
    "#print(df1.shape)\n",
    "#print(df1.dtypes)\n",
    "## second to remove only rows that have not int values\n"
   ]
  },
  {
   "cell_type": "markdown",
   "id": "2d424aed",
   "metadata": {},
   "source": [
    "First, we have defined our target which is 'Class' (2 for benign and 4 for malignant). The plot below looks for the \n",
    "correlation between two input features (feat1 and feat2) for predicting benign or malignant. "
   ]
  },
  {
   "cell_type": "code",
   "execution_count": 22,
   "id": "8cc104c5",
   "metadata": {},
   "outputs": [],
   "source": [
    "def cell_class_plot(df,feat1,feat2):\n",
    "    x_ax_mal=np.asarray(df[df['Class'] == 4][feat1])\n",
    "    y_ax_mal=np.asarray(df[df['Class'] == 4][feat2])\n",
    "    x_ax_ben=np.asarray(df[df['Class'] == 2][feat1])\n",
    "    y_ax_ben=np.asarray(df[df['Class'] == 2][feat2])\n",
    "    plt.scatter(x_ax_mal,y_ax_mal,s=60,c='r',alpha=0.5)\n",
    "    plt.scatter(x_ax_ben,y_ax_ben,s=60,c='b',alpha=0.5)\n",
    "    plt.tick_params(labelbottom=True, labeltop=False, labelleft=True, labelright=False,\n",
    "                     bottom=True, top=True, left=True, right=True)\n",
    "    plt.subplots_adjust(left=0.2)\n",
    "    plt.subplots_adjust(bottom=0.2)\n",
    "    plt.subplots_adjust(right=0.8)\n",
    "    plt.xlabel(feat1,fontsize=14)\n",
    "    plt.ylabel(feat2,fontsize=14)\n",
    "    plt.xticks(fontsize=14)\n",
    "    plt.yticks(fontsize=14)\n",
    "    plt.legend(['mal','ben'],fontsize=12,loc='center',bbox_to_anchor=(0.65, 0., 1.0, 1.0))\n",
    "    #plt.savefig(feat1+'_vs_'+feat2+'.pdf',dpi=80) # Remove the '#' symbol at the start of this line to save the plot\n",
    "    plt.show()\n",
    "    plt.close()\n",
    "\n"
   ]
  },
  {
   "cell_type": "markdown",
   "id": "08417961",
   "metadata": {},
   "source": [
    "#### Below we are plotting the correlation of features 'SingEpiSize' and 'MargAdh'. Feel free to play around with other features as well."
   ]
  },
  {
   "cell_type": "code",
   "execution_count": 23,
   "id": "95616a40",
   "metadata": {},
   "outputs": [
    {
     "data": {
      "image/png": "[encoded data removed]",
      "text/plain": [
       "<Figure size 432x288 with 1 Axes>"
      ]
     },
     "metadata": {
      "needs_background": "light"
     },
     "output_type": "display_data"
    }
   ],
   "source": [
    "cell_class_plot(df,'SingEpiSize','MargAdh')"
   ]
  },
  {
   "cell_type": "markdown",
   "id": "030bb762",
   "metadata": {},
   "source": [
    "#### Since our target values ('Class') are intergers we want to make sure that the data type remains integer. "
   ]
  },
  {
   "cell_type": "code",
   "execution_count": 24,
   "id": "e301961a",
   "metadata": {},
   "outputs": [
    {
     "name": "stderr",
     "output_type": "stream",
     "text": [
      "C:\\Users\\santosha\\AppData\\Local\\Temp/ipykernel_19508/444862765.py:2: SettingWithCopyWarning: \n",
      "A value is trying to be set on a copy of a slice from a DataFrame.\n",
      "Try using .loc[row_indexer,col_indexer] = value instead\n",
      "\n",
      "See the caveats in the documentation: https://pandas.pydata.org/pandas-docs/stable/user_guide/indexing.html#returning-a-view-versus-a-copy\n",
      "  df['Class']=df['Class'].astype('int')\n"
     ]
    }
   ],
   "source": [
    "# We want to make sure the class types are integers\n",
    "df['Class']=df['Class'].astype('int')"
   ]
  },
  {
   "cell_type": "markdown",
   "id": "f48d2f64",
   "metadata": {},
   "source": [
    "#### Preparing data for training and testing"
   ]
  },
  {
   "cell_type": "code",
   "execution_count": 25,
   "id": "63e64d27",
   "metadata": {},
   "outputs": [
    {
     "name": "stdout",
     "output_type": "stream",
     "text": [
      "(683, 11)\n",
      "(546, 11)\n",
      "(546, 9)\n",
      "(546,)\n"
     ]
    }
   ],
   "source": [
    "data_set=df.to_numpy()\n",
    "print(np.shape(data_set))\n",
    "test_size=0.2 # 80 % train and 20 % test\n",
    "x_tr, x_tt= train_test_split(data_set,test_size=test_size,shuffle=True)\n",
    "print(np.shape(x_tr))\n",
    "x_train=x_tr[:,1:-1];y_train=x_tr[:,-1];x_test=x_tt[:,1:-1];y_test=x_tt[:,-1] \n",
    "#x_train=x_tr[:,1:10];y_train=x_tr[:,10:11];x_test=x_tt[:,1:10];y_test=x_tt[:,10:11] \n",
    "print(np.shape(x_train))\n",
    "print(np.shape(y_train))"
   ]
  },
  {
   "cell_type": "markdown",
   "id": "f090cb37",
   "metadata": {},
   "source": [
    "#### Brief discussion of the support vector machine\n",
    "\n",
    "link to SVM implemented in scikit-learn (https://scikit-learn.org/stable/modules/svm.html#classification)"
   ]
  },
  {
   "cell_type": "code",
   "execution_count": 26,
   "id": "e66d1f38",
   "metadata": {},
   "outputs": [
    {
     "data": {
      "text/html": [
       "<style>#sk-container-id-1 {color: black;background-color: white;}#sk-container-id-1 pre{padding: 0;}#sk-container-id-1 div.sk-toggleable {background-color: white;}#sk-container-id-1 label.sk-toggleable__label {cursor: pointer;display: block;width: 100%;margin-bottom: 0;padding: 0.3em;box-sizing: border-box;text-align: center;}#sk-container-id-1 label.sk-toggleable__label-arrow:before {content: \"▸\";float: left;margin-right: 0.25em;color: #696969;}#sk-container-id-1 label.sk-toggleable__label-arrow:hover:before {color: black;}#sk-container-id-1 div.sk-estimator:hover label.sk-toggleable__label-arrow:before {color: black;}#sk-container-id-1 div.sk-toggleable__content {max-height: 0;max-width: 0;overflow: hidden;text-align: left;background-color: #f0f8ff;}#sk-container-id-1 div.sk-toggleable__content pre {margin: 0.2em;color: black;border-radius: 0.25em;background-color: #f0f8ff;}#sk-container-id-1 input.sk-toggleable__control:checked~div.sk-toggleable__content {max-height: 200px;max-width: 100%;overflow: auto;}#sk-container-id-1 input.sk-toggleable__control:checked~label.sk-toggleable__label-arrow:before {content: \"▾\";}#sk-container-id-1 div.sk-estimator input.sk-toggleable__control:checked~label.sk-toggleable__label {background-color: #d4ebff;}#sk-container-id-1 div.sk-label input.sk-toggleable__control:checked~label.sk-toggleable__label {background-color: #d4ebff;}#sk-container-id-1 input.sk-hidden--visually {border: 0;clip: rect(1px 1px 1px 1px);clip: rect(1px, 1px, 1px, 1px);height: 1px;margin: -1px;overflow: hidden;padding: 0;position: absolute;width: 1px;}#sk-container-id-1 div.sk-estimator {font-family: monospace;background-color: #f0f8ff;border: 1px dotted black;border-radius: 0.25em;box-sizing: border-box;margin-bottom: 0.5em;}#sk-container-id-1 div.sk-estimator:hover {background-color: #d4ebff;}#sk-container-id-1 div.sk-parallel-item::after {content: \"\";width: 100%;border-bottom: 1px solid gray;flex-grow: 1;}#sk-container-id-1 div.sk-label:hover label.sk-toggleable__label {background-color: #d4ebff;}#sk-container-id-1 div.sk-serial::before {content: \"\";position: absolute;border-left: 1px solid gray;box-sizing: border-box;top: 0;bottom: 0;left: 50%;z-index: 0;}#sk-container-id-1 div.sk-serial {display: flex;flex-direction: column;align-items: center;background-color: white;padding-right: 0.2em;padding-left: 0.2em;position: relative;}#sk-container-id-1 div.sk-item {position: relative;z-index: 1;}#sk-container-id-1 div.sk-parallel {display: flex;align-items: stretch;justify-content: center;background-color: white;position: relative;}#sk-container-id-1 div.sk-item::before, #sk-container-id-1 div.sk-parallel-item::before {content: \"\";position: absolute;border-left: 1px solid gray;box-sizing: border-box;top: 0;bottom: 0;left: 50%;z-index: -1;}#sk-container-id-1 div.sk-parallel-item {display: flex;flex-direction: column;z-index: 1;position: relative;background-color: white;}#sk-container-id-1 div.sk-parallel-item:first-child::after {align-self: flex-end;width: 50%;}#sk-container-id-1 div.sk-parallel-item:last-child::after {align-self: flex-start;width: 50%;}#sk-container-id-1 div.sk-parallel-item:only-child::after {width: 0;}#sk-container-id-1 div.sk-dashed-wrapped {border: 1px dashed gray;margin: 0 0.4em 0.5em 0.4em;box-sizing: border-box;padding-bottom: 0.4em;background-color: white;}#sk-container-id-1 div.sk-label label {font-family: monospace;font-weight: bold;display: inline-block;line-height: 1.2em;}#sk-container-id-1 div.sk-label-container {text-align: center;}#sk-container-id-1 div.sk-container {/* jupyter's `normalize.less` sets `[hidden] { display: none; }` but bootstrap.min.css set `[hidden] { display: none !important; }` so we also need the `!important` here to be able to override the default hidden behavior on the sphinx rendered scikit-learn.org. See: https://github.com/scikit-learn/scikit-learn/issues/21755 */display: inline-block !important;position: relative;}#sk-container-id-1 div.sk-text-repr-fallback {display: none;}</style><div id=\"sk-container-id-1\" class=\"sk-top-container\"><div class=\"sk-text-repr-fallback\"><pre>SVC()</pre><b>In a Jupyter environment, please rerun this cell to show the HTML representation or trust the notebook. <br />On GitHub, the HTML representation is unable to render, please try loading this page with nbviewer.org.</b></div><div class=\"sk-container\" hidden><div class=\"sk-item\"><div class=\"sk-estimator sk-toggleable\"><input class=\"sk-toggleable__control sk-hidden--visually\" id=\"sk-estimator-id-1\" type=\"checkbox\" checked><label for=\"sk-estimator-id-1\" class=\"sk-toggleable__label sk-toggleable__label-arrow\">SVC</label><div class=\"sk-toggleable__content\"><pre>SVC()</pre></div></div></div></div></div>"
      ],
      "text/plain": [
       "SVC()"
      ]
     },
     "execution_count": 26,
     "metadata": {},
     "output_type": "execute_result"
    }
   ],
   "source": [
    "from sklearn import svm\n",
    "clf = svm.SVC(kernel='rbf')\n",
    "clf.fit(x_train, y_train)"
   ]
  },
  {
   "cell_type": "code",
   "execution_count": 27,
   "id": "299b6d94",
   "metadata": {},
   "outputs": [],
   "source": [
    "pred_train=clf.predict(x_train)\n",
    "pred_test=clf.predict(x_test)"
   ]
  },
  {
   "cell_type": "markdown",
   "id": "01fe9ecd",
   "metadata": {},
   "source": [
    "#### Accuracy of the Classifier is understood in terms of four metric namely accuracy, precision, recall and F1-score\n",
    "\n",
    "#### Click link below for a sample confusion matrix\n",
    "source (https://storage.googleapis.com/lds-media/images/Confusion_Matrix.width-1200.png)\n",
    "\n",
    "#### Click link below for the definition of error metrics\n",
    "source (https://www.biorxiv.org/sites/default/files/highwire/biorxiv/early/2017/01/04/087445/embed/graphic-10.gif)\n",
    "\n",
    "Below is a function defined to plot the 'Confusion matrix'. Using this metric we can visualize and assess different\n",
    "metrics."
   ]
  },
  {
   "cell_type": "code",
   "execution_count": 28,
   "id": "bb73dd26",
   "metadata": {},
   "outputs": [],
   "source": [
    "from sklearn.metrics import classification_report, confusion_matrix\n",
    "import itertools\n",
    "def plot_confusion_matrix(cm, classes,\n",
    "                          normalize=False,\n",
    "                          title='Confusion matrix',\n",
    "                          cmap=plt.cm.Greens):\n",
    "    \"\"\"\n",
    "    This function prints and plots the confusion matrix.\n",
    "    Normalization can be applied by setting `normalize=True`.\n",
    "    \"\"\"\n",
    "    if normalize:\n",
    "        cm = cm.astype('float') / cm.sum(axis=1)[:, np.newaxis]\n",
    "        print(\"Normalized confusion matrix\")\n",
    "    else:\n",
    "        print('Confusion matrix, without normalization')\n",
    "\n",
    "    print(cm)\n",
    "\n",
    "    plt.imshow(cm, interpolation='nearest', cmap=cmap)\n",
    "    plt.title(title,fontsize=14)\n",
    "    plt.colorbar()\n",
    "    tick_marks = np.arange(len(classes))\n",
    "    plt.xticks(tick_marks, classes, rotation=0,fontsize=14)\n",
    "    plt.yticks(tick_marks, classes,fontsize=14)\n",
    "\n",
    "    fmt = '.2f' if normalize else 'd'\n",
    "    thresh = cm.max() / 2.\n",
    "    for i, j in itertools.product(range(cm.shape[0]), range(cm.shape[1])):\n",
    "        plt.text(j, i, format(cm[i, j], fmt),\n",
    "                 horizontalalignment=\"center\",\n",
    "                 color=\"white\" if cm[i, j] > thresh else \"black\")\n",
    "\n",
    "    plt.tight_layout()\n",
    "    plt.ylabel('True',fontsize=14)\n",
    "    plt.xlabel('Predicted',fontsize=14)"
   ]
  },
  {
   "cell_type": "code",
   "execution_count": 29,
   "id": "aefbb869",
   "metadata": {},
   "outputs": [
    {
     "name": "stdout",
     "output_type": "stream",
     "text": [
      "              precision    recall  f1-score   support\n",
      "\n",
      "           2       1.00      0.97      0.98        96\n",
      "           4       0.93      1.00      0.96        41\n",
      "\n",
      "    accuracy                           0.98       137\n",
      "   macro avg       0.97      0.98      0.97       137\n",
      "weighted avg       0.98      0.98      0.98       137\n",
      "\n",
      "Confusion matrix, without normalization\n",
      "[[93  3]\n",
      " [ 0 41]]\n"
     ]
    },
    {
     "data": {
      "image/png": "[encoded data removed]",
      "text/plain": [
       "<Figure size 432x288 with 2 Axes>"
      ]
     },
     "metadata": {
      "needs_background": "light"
     },
     "output_type": "display_data"
    }
   ],
   "source": [
    "cnf_matrix = confusion_matrix(y_test, pred_test, labels=[2,4])\n",
    "np.set_printoptions(precision=2)\n",
    "\n",
    "print (classification_report(y_test, pred_test))\n",
    "plt.figure()\n",
    "plot_confusion_matrix(cnf_matrix, classes=['Benign','Malignant'],normalize= False,  title='Confusion matrix')"
   ]
  },
  {
   "cell_type": "markdown",
   "id": "750d53a0",
   "metadata": {},
   "source": [
    "## Understanding errors"
   ]
  },
  {
   "cell_type": "markdown",
   "id": "da5ede10",
   "metadata": {},
   "source": [
    "Ideal value of all scores is 1. The metric 'recall' focuses on \"how many true samples\" were wrongly predicted \"false\". While 'precision' \n",
    "focuses on \"how many wrong samples\" were predicted true. If a classifier has a low recall but high precision it refers\n",
    "that the algorithm does a good job in not predicting wrong samples as true, but is unable to predict many right samples\n",
    "as true."
   ]
  }
 ],
 "metadata": {
  "kernelspec": {
   "display_name": "Python 3 (ipykernel)",
   "language": "python",
   "name": "python3"
  },
  "language_info": {
   "codemirror_mode": {
    "name": "ipython",
    "version": 3
   },
   "file_extension": ".py",
   "mimetype": "text/x-python",
   "name": "python",
   "nbconvert_exporter": "python",
   "pygments_lexer": "ipython3",
   "version": "3.9.5"
  }
 },
 "nbformat": 4,
 "nbformat_minor": 5
}
