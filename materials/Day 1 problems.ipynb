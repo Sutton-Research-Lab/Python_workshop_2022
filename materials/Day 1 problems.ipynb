{
 "cells": [
  {
   "cell_type": "markdown",
   "id": "6d3a91b1",
   "metadata": {},
   "source": [
    "#### Problem 1: \n",
    "(a) A variable named var_x takes any input you assign. The input value should be an integer. If the input is float or object or string, print \"invalid input\". \n",
    "\n",
    "(b) Now, pass this var_x to another variable named var_y. Then print that \"second variable received the number (it should show the input value) from the first variable\".\n",
    "\n",
    "Hint: \n",
    "\n",
    "1. The syntax to check python datatype is type(var_y) where you want to check the type of var_y i.e. whether it is a string or an integer.\n",
    "\n",
    "2. Search Problem1 in the other notebook."
   ]
  },
  {
   "cell_type": "code",
   "execution_count": 27,
   "id": "6e619d41",
   "metadata": {},
   "outputs": [],
   "source": [
    "#(a)\n",
    "\n",
    "    \n",
    "#(b)\n",
    "\n"
   ]
  },
  {
   "cell_type": "markdown",
   "id": "04c4359a",
   "metadata": {},
   "source": [
    "#### Problem 2 \n",
    "\n",
    "You are given a chemical formula. Your should decide whether it is alkene or alkane. If it is none of them, then print \"invalid formula\"\n",
    "\n",
    "formula for Alkene is $C_{n}H_{2n}$ and formula for Alkane is $C_{n}H_{2n+2}$.\n",
    "\n",
    "Check the following cases:\n",
    "(i) C2H4  (ii) C2H6 (iii)C2H5\n",
    "\n",
    "\n",
    "Conditions: Length of the up_formula should be 4. Otherwise, print \"invalid\"\n",
    "\n",
    "\n",
    "Hints: (1) Search Problem2 in the other notebook.\n",
    "\n",
    "(2) To access nth element of a list use your_list[n-1].\n",
    "\n",
    "(3) change datatype of any element in the list if needed. for example x=['a','2'] . To make the last element an integer, do x[1]=int(x[1])"
   ]
  },
  {
   "cell_type": "code",
   "execution_count": 9,
   "id": "75a5d41d",
   "metadata": {},
   "outputs": [
    {
     "name": "stdout",
     "output_type": "stream",
     "text": [
      "C2H6\n",
      "['C', '2', 'H', '6']\n"
     ]
    }
   ],
   "source": [
    "formula=input() \n",
    "up_formula=list(formula)\n",
    "print(up_formula)"
   ]
  },
  {
   "cell_type": "code",
   "execution_count": 28,
   "id": "87dadfab",
   "metadata": {},
   "outputs": [],
   "source": [
    "#Use the above 2 lines of code as a starting point for problem 2. Write formula = (i) C2H4, (ii) C2H6 , (iii) C2H5 \n",
    "\n",
    "\n"
   ]
  },
  {
   "cell_type": "markdown",
   "id": "f8549883",
   "metadata": {},
   "source": [
    "#### Problem 3: \n",
    "\n",
    "You are given a string and your code should decide whether it is a palindrome sequence or not.\n",
    "Palindrome: input == reverse(input) (when input and reverse of the input are same, then it is a palindrome)\n",
    "\n",
    "Hint: reverse a string using the command ''.join(reversed(x)) while x is the input string."
   ]
  },
  {
   "cell_type": "code",
   "execution_count": 29,
   "id": "06a60a47",
   "metadata": {},
   "outputs": [],
   "source": [
    "x=\"abccba\"\n",
    "\n",
    "#write your solution here using ''.join(reversed(x)) function.\n",
    "\n"
   ]
  },
  {
   "cell_type": "code",
   "execution_count": 30,
   "id": "f74c0b50",
   "metadata": {},
   "outputs": [],
   "source": [
    "#### Problem 3.1: \n",
    "#write your solution using pop operation.\n",
    "#search Problem 3.1 in the other notebook\n"
   ]
  },
  {
   "cell_type": "code",
   "execution_count": null,
   "id": "4e0f7704",
   "metadata": {},
   "outputs": [],
   "source": []
  },
  {
   "cell_type": "markdown",
   "id": "3b6c9dd1",
   "metadata": {},
   "source": [
    "### Problem 4: You are given a dictionary. The keys of it are key_A and key_B. Print the keys using a for loop. Then find the average of both of the keys."
   ]
  },
  {
   "cell_type": "code",
   "execution_count": 4,
   "id": "48dc8be7",
   "metadata": {},
   "outputs": [],
   "source": [
    "list1=[1,2,3,4]\n",
    "list2=[5,6,7,8]\n",
    "\n",
    "dictionary_Y={ 'key_A':list1, 'key_B':list2}\n",
    "\n"
   ]
  }
 ],
 "metadata": {
  "kernelspec": {
   "display_name": "Python 3",
   "language": "python",
   "name": "python3"
  },
  "language_info": {
   "codemirror_mode": {
    "name": "ipython",
    "version": 3
   },
   "file_extension": ".py",
   "mimetype": "text/x-python",
   "name": "python",
   "nbconvert_exporter": "python",
   "pygments_lexer": "ipython3",
   "version": "3.8.8"
  }
 },
 "nbformat": 4,
 "nbformat_minor": 5
}
