{
 "cells": [
  {
   "cell_type": "markdown",
   "id": "ab9d253c",
   "metadata": {},
   "source": [
    "#### Problem 1: \n",
    "(a) A variable named var_x takes input from the keyboard. The input value should be an integer. If the input is float or object or string, print \"invalid input\". \n",
    "\n",
    "(b) Now, pass this var_x to another variable named var_y. Then print that \"second variable received the number (it should show the input value) from the first variable\".\n",
    "\n",
    "Hint: The syntax to check python datatype is type(var_y) where you want to check the type of var_y i.e. whether it is a string or an integer."
   ]
  },
  {
   "cell_type": "code",
   "execution_count": null,
   "id": "ee1e0090",
   "metadata": {},
   "outputs": [],
   "source": []
  },
  {
   "cell_type": "markdown",
   "id": "976ea96e",
   "metadata": {},
   "source": [
    "#### Problem 2 \n",
    "\n",
    "You are given a chemical formula. Your should decide whether it is alkene or alkane. If it is none of them, then print \"invalid formula\"\n",
    "\n",
    "formula for Alkene is $C_{n}H_{2n}$ and formula for Alkane is $C_{n}H_{2n+2}$\n",
    "\n",
    "Check the following cases:\n",
    "(i) C2H4  (ii) C2H6 (iii)C2H5\n",
    "\n",
    "\n",
    "Conditions: Length of the up_formula should be 4. Otherwise, print \"invalid\"\n",
    "\n",
    "Hints: (1) Find/ Look at Tips 1. (2) To access nth element of a list use your_list[n-1]."
   ]
  },
  {
   "cell_type": "code",
   "execution_count": 1,
   "id": "67940256",
   "metadata": {},
   "outputs": [
    {
     "name": "stdout",
     "output_type": "stream",
     "text": [
      "C2H4\n",
      "['C', '2', 'H', '4']\n"
     ]
    }
   ],
   "source": [
    "formula=input() \n",
    "up_formula=list(formula)\n",
    "print(up_formula)"
   ]
  },
  {
   "cell_type": "code",
   "execution_count": null,
   "id": "60e26b49",
   "metadata": {},
   "outputs": [],
   "source": [
    "#Use the above 2 lines of code as a starting point for problem 2.\n"
   ]
  },
  {
   "cell_type": "markdown",
   "id": "2087f662",
   "metadata": {},
   "source": [
    "#### Problem 3: \n",
    "\n",
    "You are given a string and your code should decide whether it is a palindrome sequence or not.\n",
    "Palindrome: input == reverse(input)"
   ]
  },
  {
   "cell_type": "code",
   "execution_count": 2,
   "id": "c3858cb4",
   "metadata": {},
   "outputs": [],
   "source": [
    "x=\"palindrome\"\n",
    "\n",
    "#write your solution here using reverse() function."
   ]
  },
  {
   "cell_type": "code",
   "execution_count": 3,
   "id": "2d200ecd",
   "metadata": {},
   "outputs": [],
   "source": [
    "#### Problem 3.1: \n",
    "x=\"palindrome\"\n",
    "\n",
    "#write your solution using pop operation.\n"
   ]
  },
  {
   "cell_type": "markdown",
   "id": "e757fa41",
   "metadata": {},
   "source": [
    "### Problem 4: You are given a dictionary. The keys of it are key_A and key_B. Print the keys using a for loop. Then find the average of both of the keys."
   ]
  },
  {
   "cell_type": "code",
   "execution_count": 4,
   "id": "a80d4266",
   "metadata": {},
   "outputs": [],
   "source": [
    "list1=[1,2,3,4]\n",
    "list2=[5,6,7,8]\n",
    "\n",
    "dictionary_Y={ 'key_A':list1, 'key_B':list2}\n",
    "\n"
   ]
  }
 ],
 "metadata": {
  "kernelspec": {
   "display_name": "Python 3",
   "language": "python",
   "name": "python3"
  },
  "language_info": {
   "codemirror_mode": {
    "name": "ipython",
    "version": 3
   },
   "file_extension": ".py",
   "mimetype": "text/x-python",
   "name": "python",
   "nbconvert_exporter": "python",
   "pygments_lexer": "ipython3",
   "version": "3.8.8"
  }
 },
 "nbformat": 4,
 "nbformat_minor": 5
}
