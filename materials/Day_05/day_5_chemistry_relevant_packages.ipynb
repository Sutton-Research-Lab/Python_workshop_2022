{
 "cells": [
  {
   "cell_type": "markdown",
   "id": "dfb735e0",
   "metadata": {},
   "source": [
    "## We will mostly focus on the following\n",
    " - Mendeleev (https://pypi.org/project/mendeleev/)\n",
    " - Pymatgen (https://pymatgen.org/)\n",
    " - Atomic Simulation Environment (ASE) (https://wiki.fysik.dtu.dk/ase/)\n",
    " - RDkit (https://www.rdkit.org/)"
   ]
  },
  {
   "cell_type": "markdown",
   "id": "5e4074cd",
   "metadata": {},
   "source": [
    "## Mendeleev\n",
    "Python based package to extract different properties of elements in the periodic table (118 atoms, as of July, 2022)."
   ]
  },
  {
   "cell_type": "markdown",
   "id": "38722541",
   "metadata": {},
   "source": [
    "#### Extracting elemental properties"
   ]
  },
  {
   "cell_type": "markdown",
   "id": "f9dcba0a",
   "metadata": {},
   "source": [
    "Requirements:\n",
    "We need to install the following packages for accessing the tutorial materials\n",
    "pip install mendeleev[vis]\n",
    "pip install ase\n",
    "pip install pymatgen"
   ]
  },
  {
   "cell_type": "code",
   "execution_count": null,
   "id": "701b2f4a",
   "metadata": {},
   "outputs": [],
   "source": [
    "!pip install mendeleev[vis]\n",
    "!pip install bokeh\n",
    "!pip install ase\n",
    "!pip install pymatgen"
   ]
  },
  {
   "cell_type": "code",
   "execution_count": null,
   "id": "8e57f501",
   "metadata": {},
   "outputs": [],
   "source": [
    "from mendeleev import element"
   ]
  },
  {
   "cell_type": "markdown",
   "id": "b3dae3b0",
   "metadata": {},
   "source": [
    "We could eg. look up for an element 'Mg'. [Feel free to use any elements you like here]"
   ]
  },
  {
   "cell_type": "code",
   "execution_count": null,
   "id": "2945f1fa",
   "metadata": {},
   "outputs": [],
   "source": [
    "ele=element('Mg')"
   ]
  },
  {
   "cell_type": "code",
   "execution_count": null,
   "id": "ff428b6f",
   "metadata": {},
   "outputs": [],
   "source": [
    "print(dir(ele))"
   ]
  },
  {
   "cell_type": "markdown",
   "id": "98ee0094",
   "metadata": {},
   "source": [
    "Lets take a look what is stored inside 'ele' !!"
   ]
  },
  {
   "cell_type": "code",
   "execution_count": null,
   "id": "89df88f2",
   "metadata": {},
   "outputs": [],
   "source": [
    "ele"
   ]
  },
  {
   "cell_type": "markdown",
   "id": "25bb822d",
   "metadata": {},
   "source": [
    "We see a lot of values stored. Lets see what are values available for dipole polarizability, density, lattice_constant'\n",
    "electronic configuration (ec), ionic_radii, Paulings electronegativity etc !!!"
   ]
  },
  {
   "cell_type": "code",
   "execution_count": null,
   "id": "6f01d877",
   "metadata": {},
   "outputs": [],
   "source": [
    "ele.dipole_polarizability"
   ]
  },
  {
   "cell_type": "code",
   "execution_count": null,
   "id": "4408c1a0",
   "metadata": {},
   "outputs": [],
   "source": [
    "ele.lattice_constant"
   ]
  },
  {
   "cell_type": "code",
   "execution_count": null,
   "id": "af8f3620",
   "metadata": {},
   "outputs": [],
   "source": [
    "ele.density"
   ]
  },
  {
   "cell_type": "code",
   "execution_count": null,
   "id": "6c246111",
   "metadata": {},
   "outputs": [],
   "source": [
    "ele.ec"
   ]
  },
  {
   "cell_type": "code",
   "execution_count": null,
   "id": "7d2f8d28",
   "metadata": {},
   "outputs": [],
   "source": [
    "print(ele.ionic_radii)"
   ]
  },
  {
   "cell_type": "code",
   "execution_count": null,
   "id": "47ed391c",
   "metadata": {},
   "outputs": [],
   "source": [
    "ele.ionic_radii[0].ionic_radius \n"
   ]
  },
  {
   "cell_type": "code",
   "execution_count": null,
   "id": "408aebe5",
   "metadata": {},
   "outputs": [],
   "source": [
    "ele.ionic_radii[10].ionic_radius "
   ]
  },
  {
   "cell_type": "markdown",
   "id": "33004fcb",
   "metadata": {},
   "source": [
    "Did we get error message while executing above code? Could we fix it if so? Yes !!! "
   ]
  },
  {
   "cell_type": "code",
   "execution_count": null,
   "id": "be36d722",
   "metadata": {},
   "outputs": [],
   "source": [
    "ele.en_pauling # Pauling's electronegativity\n"
   ]
  },
  {
   "cell_type": "markdown",
   "id": "bfa0fd90",
   "metadata": {},
   "source": [
    "There is another way of getting all the properties for any elements in the periodic table. Calling directly by the \n",
    "element name as below"
   ]
  },
  {
   "cell_type": "code",
   "execution_count": null,
   "id": "fbf4a928",
   "metadata": {},
   "outputs": [],
   "source": [
    "from mendeleev import Mg"
   ]
  },
  {
   "cell_type": "markdown",
   "id": "69a7da71",
   "metadata": {},
   "source": [
    "For example for getting density of Mg we can use. "
   ]
  },
  {
   "cell_type": "code",
   "execution_count": null,
   "id": "dc7247a3",
   "metadata": {},
   "outputs": [],
   "source": [
    "Mg.density"
   ]
  },
  {
   "cell_type": "markdown",
   "id": "5c3b9a99",
   "metadata": {},
   "source": [
    "#### Extracting as pandas dataframe"
   ]
  },
  {
   "cell_type": "code",
   "execution_count": null,
   "id": "2132edd0",
   "metadata": {},
   "outputs": [],
   "source": [
    "from mendeleev.fetch import fetch_table\n",
    "all_data = fetch_table('elements')\n",
    "all_data.head()\n",
    "#all_data.info()\n",
    "#all_data.dtypes\n",
    "#all_data.shape"
   ]
  },
  {
   "cell_type": "code",
   "execution_count": null,
   "id": "b8c18751",
   "metadata": {},
   "outputs": [],
   "source": [
    "all_data.shape"
   ]
  },
  {
   "cell_type": "code",
   "execution_count": null,
   "id": "b4422848",
   "metadata": {},
   "outputs": [],
   "source": [
    "all_data.info()"
   ]
  },
  {
   "cell_type": "code",
   "execution_count": null,
   "id": "a1105db6",
   "metadata": {},
   "outputs": [],
   "source": [
    "all_data.head()"
   ]
  },
  {
   "cell_type": "markdown",
   "id": "ffe5660a",
   "metadata": {},
   "source": [
    "#### Visualization"
   ]
  },
  {
   "cell_type": "code",
   "execution_count": null,
   "id": "4b1ab0d6",
   "metadata": {},
   "outputs": [],
   "source": [
    "from mendeleev.vis import periodic_table\n",
    "periodic_table()\n",
    "fig=periodic_table(attribute='lattice_constant', title=\"Lattice constants\")\n",
    "#fig.show()\n",
    "fig.show()"
   ]
  },
  {
   "cell_type": "code",
   "execution_count": null,
   "id": "e736a6d6",
   "metadata": {},
   "outputs": [],
   "source": [
    "fig=periodic_table(attribute='en_pauling', title=\"Paulings Electronegativity\")"
   ]
  },
  {
   "cell_type": "code",
   "execution_count": null,
   "id": "963a0502",
   "metadata": {},
   "outputs": [],
   "source": [
    "fig.show()"
   ]
  },
  {
   "cell_type": "code",
   "execution_count": null,
   "id": "84b8568f",
   "metadata": {},
   "outputs": [],
   "source": [
    "#fig = periodic_table_bokeh(elements, attribute=\"atomic_radius\", colorby=\"attribute\")\n",
    "#show(fig)"
   ]
  },
  {
   "cell_type": "code",
   "execution_count": null,
   "id": "8df09bfc",
   "metadata": {},
   "outputs": [],
   "source": [
    "#Using bokeh\n",
    "from mendeleev.vis import create_vis_dataframe, periodic_table_plotly\n",
    "elements = create_vis_dataframe()\n",
    "periodic_table_plotly(elements)\n",
    "from bokeh.plotting import show, output_notebook\n",
    "from mendeleev.vis import periodic_table_bokeh\n",
    "output_notebook()\n",
    "fig = periodic_table_bokeh(elements)\n",
    "show(fig)"
   ]
  },
  {
   "cell_type": "code",
   "execution_count": null,
   "id": "e1297dd6",
   "metadata": {},
   "outputs": [],
   "source": [
    "#show(fig)\n",
    "fig=periodic_table_bokeh(elements,attribute='lattice_constant', title=\"Lattice Constants\")\n",
    "show(fig)"
   ]
  },
  {
   "cell_type": "markdown",
   "id": "bad83e07",
   "metadata": {},
   "source": [
    "## Atomic Simulation Environment (ASE)\n",
    "Python based environment to prepare, perform, and analyze the atomistic simulation. It is one of the most popular tools in computational physics and chemistry."
   ]
  },
  {
   "cell_type": "markdown",
   "id": "faaa18e8",
   "metadata": {},
   "source": [
    "### Preparing Atomistic Simulations\n",
    " - Structure (generation + visualization)\n",
    " - Determine parameters to run the calculations ( which optimizer, which functional, what energy and force cutoff, etc.)"
   ]
  },
  {
   "cell_type": "code",
   "execution_count": null,
   "id": "4b75a9a9",
   "metadata": {},
   "outputs": [],
   "source": [
    "from ase import Atoms\n",
    "from ase.calculators.emt import EMT\n",
    "from ase.constraints import FixAtoms\n",
    "from ase.optimize import QuasiNewton\n",
    "from ase.build import fcc111, add_adsorbate\n",
    "from ase.visualize import view\n",
    "\n"
   ]
  },
  {
   "cell_type": "markdown",
   "id": "050dcfda",
   "metadata": {},
   "source": [
    "#### Using Atoms object in ASE to build molecules"
   ]
  },
  {
   "cell_type": "code",
   "execution_count": null,
   "id": "78f803a6",
   "metadata": {},
   "outputs": [],
   "source": [
    "from ase import Atoms\n",
    "d = 1.18\n",
    "co2 = Atoms('CO2', positions=[(0, 0, 0),(0,0,-d), (0, 0, d)]) # cell=[float,float,float] #pbe=[int,int,int]\n",
    "#co2\n",
    "print(dir(co2))"
   ]
  },
  {
   "cell_type": "markdown",
   "id": "bcfcfb1d",
   "metadata": {},
   "source": [
    "#### Visualizing the molecule"
   ]
  },
  {
   "cell_type": "code",
   "execution_count": null,
   "id": "4ff948b7",
   "metadata": {},
   "outputs": [],
   "source": [
    "#view(co, viewer='x3d')\n",
    "#view(co, viewer='ngl')\n",
    "view(co2)\n",
    "a=co2.get_center_of_mass()\n",
    "#print(a)"
   ]
  },
  {
   "cell_type": "markdown",
   "id": "bed8e861",
   "metadata": {},
   "source": [
    "#### Rotate the atoms or molecule"
   ]
  },
  {
   "cell_type": "code",
   "execution_count": null,
   "id": "aef3d8a2",
   "metadata": {},
   "outputs": [],
   "source": [
    "#The above object is rotated about z-axis with 45 degree\n",
    "#print(a)\n",
    "co2.rotate(-45,'z') # we can use 'x', '-x', 'y', '-y' etc. or (1,0,0),(0,1,0), etc. We can also \n",
    "#                     specify two positions eg. co2.rotate([x1,y1,z1],[x2,y2,z2])\n",
    "view(co2)"
   ]
  },
  {
   "cell_type": "markdown",
   "id": "cae9d204",
   "metadata": {},
   "source": [
    "#### Writting the data to a structure file (https://wiki.fysik.dtu.dk/ase/ase/io/io.html)"
   ]
  },
  {
   "cell_type": "code",
   "execution_count": null,
   "id": "d374c547",
   "metadata": {},
   "outputs": [],
   "source": [
    "co2.write('co2_pbc_off.xyz') # If not periodic boundary condition is set .xyz and .cif are the format for saving image (try .vasp!)"
   ]
  },
  {
   "cell_type": "markdown",
   "id": "0028c69d",
   "metadata": {},
   "source": [
    "Repeating above steps for periodic boundary condition."
   ]
  },
  {
   "cell_type": "code",
   "execution_count": null,
   "id": "122ae900",
   "metadata": {},
   "outputs": [],
   "source": [
    "co2 = Atoms('CO2', positions=[(0, 0, 0), (0,0,-d), (0, 0, d)],cell=[10,10,10], pbc=(1,1,1))\n",
    "view(co2)\n",
    "#fig1=view(co2)\n"
   ]
  },
  {
   "cell_type": "markdown",
   "id": "5e37e62d",
   "metadata": {},
   "source": [
    "ASE allows to write the coordinates of the atoms in the above supercell to a datafile\n"
   ]
  },
  {
   "cell_type": "code",
   "execution_count": null,
   "id": "a9171fc6",
   "metadata": {},
   "outputs": [],
   "source": [
    "co2.write('co2_pbc_on.xyz') # Using periodic boundary condition; different file types are allowed\n",
    "co2.write('co2_pbc_on.cif')"
   ]
  },
  {
   "cell_type": "code",
   "execution_count": null,
   "id": "ba785c85",
   "metadata": {},
   "outputs": [],
   "source": [
    "print(dir(co2))"
   ]
  },
  {
   "cell_type": "code",
   "execution_count": null,
   "id": "dd117bed",
   "metadata": {},
   "outputs": [],
   "source": [
    "print(co2.get_chemical_symbols())\n",
    "print(co2.get_center_of_mass())\n",
    "print(co2.get_positions())\n",
    "print(co2.get_volume())\n",
    "print(co2.get_cell())"
   ]
  },
  {
   "cell_type": "markdown",
   "id": "1b822693",
   "metadata": {},
   "source": [
    "#### Feel free to play around with other attributes above"
   ]
  },
  {
   "cell_type": "markdown",
   "id": "600f9cdd",
   "metadata": {},
   "source": [
    "Although we built a molecule on our own ussing the information of bond lengths. ASE has in built library that contains\n",
    "a lot of molecules. Following is the list of structures that are available in ASE"
   ]
  },
  {
   "cell_type": "code",
   "execution_count": null,
   "id": "d8a7df5f",
   "metadata": {},
   "outputs": [],
   "source": [
    "from ase.collections import g2\n",
    "ase_avail_str=g2.names\n",
    "print(ase_avail_str)"
   ]
  },
  {
   "cell_type": "markdown",
   "id": "90888683",
   "metadata": {},
   "source": [
    "Below we can quickly check if the given molecule is available in the g2 library. eg. Lets try if benzene ie. 'C6H6' is available there"
   ]
  },
  {
   "cell_type": "code",
   "execution_count": null,
   "id": "f70151cc",
   "metadata": {},
   "outputs": [],
   "source": [
    "'C6H6' in ase_avail_str"
   ]
  },
  {
   "cell_type": "markdown",
   "id": "cc64e8e2",
   "metadata": {},
   "source": [
    "We see benzene exists already in the g2 library. Therefore we don't need to construct it again (as we did a while ago for CO2.)\n",
    "[Note: the molecule 'CO2' also exists here]. Could we visualize Benzene then? Could we add this molecule in a box of dimension \n",
    "20x20x20 ? Could we also save the coordinates of each atoms in the standard file type (eg .xyz, .vasp, .cif, etc.)? \n",
    "\n",
    "Hint: The answer to all of the above questions is yes!!! . We could simply follow the procedure we adopted above for CO2"
   ]
  },
  {
   "cell_type": "code",
   "execution_count": null,
   "id": "4656ef65",
   "metadata": {},
   "outputs": [],
   "source": [
    "from ase.build import molecule\n",
    "benz=molecule('C6H6')\n",
    "#print(dir(benz))\n",
    "benz.set_cell([20,20,20])\n",
    "view(benz)\n",
    "print(benz.get_chemical_symbols())\n",
    "print(benz.get_center_of_mass())\n",
    "print(benz.get_positions())\n",
    "print(benz.get_volume())\n",
    "print(benz.get_cell())\n"
   ]
  },
  {
   "cell_type": "markdown",
   "id": "57703a91",
   "metadata": {},
   "source": [
    "Could we place benzene at the center of the supercell? Yes!!"
   ]
  },
  {
   "cell_type": "code",
   "execution_count": null,
   "id": "a1b1dcf7",
   "metadata": {},
   "outputs": [],
   "source": [
    "benz.set_center_of_mass([-10,-10,-10])\n",
    "view(benz)"
   ]
  },
  {
   "cell_type": "markdown",
   "id": "55945240",
   "metadata": {},
   "source": [
    "#### Building solids (bulk)\n",
    "Silver has a fcc crystal lattice structure. Imagine a cube with atoms at each corners and at the center of each face.\n",
    "We can get its lattice constant from mendeleev and use it to build the bulk."
   ]
  },
  {
   "cell_type": "code",
   "execution_count": null,
   "id": "42a478af",
   "metadata": {},
   "outputs": [],
   "source": [
    "from mendeleev import Ag\n",
    "lat_ag=Ag.lattice_constant\n",
    "from ase.build import bulk\n",
    "ag_prim=bulk('Ag','fcc',lat_ag)\n",
    "ag_ortho=bulk('Ag','fcc',lat_ag,orthorhombic=True)\n",
    "ag_conv=bulk('Ag','fcc',lat_ag,cubic=True)\n",
    "#view(ag_prim)\n",
    "#view(ag_ortho)\n",
    "#view(ag_conv)\n",
    "#ag_prim.get_cell()\n",
    "#ag_ortho.get_cell()\n",
    "#ag_conv.get_cell()\n",
    "ag_prim.get_positions()\n",
    "#ag_ortho.get_positions()\n",
    "#ag_conv.get_positions()\n",
    "ag_prim.write('Ag.cif')"
   ]
  },
  {
   "cell_type": "code",
   "execution_count": null,
   "id": "b73eb6e6",
   "metadata": {},
   "outputs": [],
   "source": [
    "from mendeleev import Na\n",
    "lat_na=Na.lattice_constant\n",
    "from ase.build import bulk\n",
    "na_prim=bulk('Na','bcc',lat_na)\n",
    "na_conv=bulk('Na','bcc',lat_na,cubic=True)\n",
    "#view(na_prim)\n",
    "\n",
    "view(na_conv)\n",
    "#na_prim.get_cell()\n",
    "\n",
    "#na_conv.get_cell()\n",
    "#na_prim.get_positions()\n",
    "na_conv.get_positions()"
   ]
  },
  {
   "cell_type": "markdown",
   "id": "6b9c38f8",
   "metadata": {},
   "source": [
    "#### Building surfaces\n",
    "We can import various surfaces like fcc111,fcc100,bcc111 etc., from ase.build. For demonstration we are using fcc111 here. "
   ]
  },
  {
   "cell_type": "code",
   "execution_count": null,
   "id": "f795da7a",
   "metadata": {},
   "outputs": [],
   "source": [
    "from ase.build import fcc111"
   ]
  },
  {
   "cell_type": "code",
   "execution_count": null,
   "id": "6cef80d4",
   "metadata": {},
   "outputs": [],
   "source": [
    "surf_ag = fcc111('Ag',a=lat_ag, size=(4,4,5))\n",
    "#slab = fcc111('Al', size=(2,2,3))\n",
    "view(surf_ag)\n",
    "#surf_ag.get_cell()"
   ]
  },
  {
   "cell_type": "markdown",
   "id": "607e7a92",
   "metadata": {},
   "source": [
    "#### Add atoms over the surface\n",
    "\n",
    "Adsorption of atom/molecule is relevant in heterogenous catalysis"
   ]
  },
  {
   "cell_type": "code",
   "execution_count": null,
   "id": "b89acfd0",
   "metadata": {},
   "outputs": [],
   "source": [
    "add_adsorbate(surf_ag, 'H', 1.5, 'ontop')\n",
    "surf_ag.center(vacuum=10.0, axis=2)\n",
    "view(surf_ag)"
   ]
  },
  {
   "cell_type": "markdown",
   "id": "b8b1f6c3",
   "metadata": {},
   "source": [
    "#### Add vacuum in particular direction"
   ]
  },
  {
   "cell_type": "code",
   "execution_count": null,
   "id": "8010d67a",
   "metadata": {},
   "outputs": [],
   "source": [
    "add_adsorbate(surf_ag, 'H', 1.5, 'ontop')\n",
    "surf_ag.center(vacuum=10.0, axis=2)\n",
    "view(surf_ag)"
   ]
  },
  {
   "cell_type": "code",
   "execution_count": null,
   "id": "29f54d58",
   "metadata": {},
   "outputs": [],
   "source": [
    "len(surf_ag.get_positions())"
   ]
  },
  {
   "cell_type": "markdown",
   "id": "4fe472d2",
   "metadata": {},
   "source": [
    "#### How to add a molecule over the surface"
   ]
  },
  {
   "cell_type": "code",
   "execution_count": null,
   "id": "8b9cc20d",
   "metadata": {},
   "outputs": [],
   "source": [
    "add_adsorbate(surf_ag,benz,1.5,'ontop')"
   ]
  },
  {
   "cell_type": "code",
   "execution_count": null,
   "id": "e634c7d0",
   "metadata": {},
   "outputs": [],
   "source": [
    "view(surf_ag)"
   ]
  },
  {
   "cell_type": "markdown",
   "id": "7d44784c",
   "metadata": {},
   "source": [
    "#### Following command can be used to get all chemical symbols"
   ]
  },
  {
   "cell_type": "code",
   "execution_count": null,
   "id": "60684dcd",
   "metadata": {},
   "outputs": [],
   "source": [
    "surf_ag.get_chemical_symbols()"
   ]
  },
  {
   "cell_type": "code",
   "execution_count": null,
   "id": "642bc29e",
   "metadata": {},
   "outputs": [],
   "source": [
    "print(dir(surf_ag))"
   ]
  },
  {
   "cell_type": "code",
   "execution_count": null,
   "id": "f88503be",
   "metadata": {},
   "outputs": [],
   "source": [
    "surf_ag.get_all_distances()[0]"
   ]
  },
  {
   "cell_type": "markdown",
   "id": "4c119ff3",
   "metadata": {},
   "source": [
    "#### After setting structures we can also use ASE to perform calculations"
   ]
  },
  {
   "cell_type": "markdown",
   "id": "c9c2d6ca",
   "metadata": {},
   "source": [
    "#### We can use interactive visual mode to edit the structure as well. Use edit() method as follows"
   ]
  },
  {
   "cell_type": "code",
   "execution_count": null,
   "id": "cd0bd3e8",
   "metadata": {},
   "outputs": [],
   "source": [
    "surf_ag.edit()\n"
   ]
  },
  {
   "cell_type": "code",
   "execution_count": null,
   "id": "e4bbf451",
   "metadata": {},
   "outputs": [],
   "source": [
    "surf_ag.get_chemical_symbols()"
   ]
  },
  {
   "cell_type": "markdown",
   "id": "3fb107f9",
   "metadata": {},
   "source": [
    "#### Can we do calculations using ASE??\n",
    "Most electronic structure codes are FORTRAN or C++ based. Most of them are commercial and need to be purchased\n",
    "Below I will discuss a free calculator available in ASE. This is called \"Effective Medium Potential\" calculator. \n",
    "This calculator doesn't support all elements across the periodic table and its accuracy is limited too.\n",
    "source (https://databases.fysik.dtu.dk/ase/_modules/ase/calculators/emt.html#EMT)"
   ]
  },
  {
   "cell_type": "markdown",
   "id": "09dd8771",
   "metadata": {},
   "source": [
    "#### Using EMT calculator"
   ]
  },
  {
   "cell_type": "code",
   "execution_count": null,
   "id": "2d8f3825",
   "metadata": {},
   "outputs": [],
   "source": [
    "surf_ag.calc=EMT()\n",
    "#surf_ag.get_total_energy()\n",
    "#surf_ag.get_forces()"
   ]
  },
  {
   "cell_type": "markdown",
   "id": "a03cfe30",
   "metadata": {},
   "source": [
    "#### One more example. Adsorption energy calculation"
   ]
  },
  {
   "cell_type": "code",
   "execution_count": null,
   "id": "8b24f75d",
   "metadata": {},
   "outputs": [],
   "source": [
    "h = 1.85\n",
    "d = 1.10\n",
    "\n",
    "slab = fcc111('Cu', size=(4, 4, 2), vacuum=10.0)\n",
    "\n",
    "slab.calc = EMT()\n",
    "e_slab = slab.get_potential_energy()\n",
    "\n",
    "molecule = Atoms('2N', positions=[(0., 0., 0.), (0., 0., d)])\n",
    "molecule.calc = EMT()\n",
    "e_N2 = molecule.get_potential_energy()\n",
    "\n",
    "add_adsorbate(slab, molecule, h, 'ontop')\n",
    "constraint = FixAtoms(mask=[a.symbol != 'N' for a in slab])\n",
    "slab.set_constraint(constraint)\n",
    "dyn = QuasiNewton(slab, trajectory='N2Cu.traj')\n",
    "dyn.run(fmax=0.05)\n",
    "\n",
    "print('Adsorption energy:', e_slab + e_N2 - slab.get_potential_energy())"
   ]
  },
  {
   "cell_type": "markdown",
   "id": "751450d4",
   "metadata": {},
   "source": [
    "#### What to do with external calculators?"
   ]
  },
  {
   "cell_type": "markdown",
   "id": "5133e876",
   "metadata": {},
   "source": [
    "Follow this link : (https://wiki.fysik.dtu.dk/ase/gettingstarted/external_calculators/ext_intro.html)"
   ]
  },
  {
   "cell_type": "code",
   "execution_count": null,
   "id": "e45e4bb5",
   "metadata": {},
   "outputs": [],
   "source": [
    "from gpaw import GPAW\n",
    "\n",
    "calc = GPAW(mode='lcao', basis='dzp', txt='gpaw.txt', xc='LDA')\n",
    "surf_ag.calc\n",
    "surf_ag.get_total_energy()"
   ]
  },
  {
   "cell_type": "code",
   "execution_count": null,
   "id": "a3a15976",
   "metadata": {},
   "outputs": [],
   "source": []
  },
  {
   "cell_type": "code",
   "execution_count": null,
   "id": "7dcb29f6",
   "metadata": {},
   "outputs": [],
   "source": [
    "from ase.build import molecule\n",
    "from ase.calculators.qchem import QChem\n",
    "from ase.optimize import LBFGS\n",
    "\n",
    "mol = molecule('C2H6')\n",
    "calc = QChem(label='calc/ethane',\n",
    "             method='PBE',\n",
    "             basis='6-31+G*')\n",
    "mol.calc = calc\n",
    "opt = LBFGS(mol)\n",
    "opt.run()\n",
    "\n"
   ]
  },
  {
   "cell_type": "code",
   "execution_count": null,
   "id": "3371ea06",
   "metadata": {},
   "outputs": [],
   "source": []
  },
  {
   "cell_type": "code",
   "execution_count": null,
   "id": "5e820bd6",
   "metadata": {},
   "outputs": [],
   "source": []
  }
 ],
 "metadata": {
  "kernelspec": {
   "display_name": "Python 3 (ipykernel)",
   "language": "python",
   "name": "python3"
  },
  "language_info": {
   "codemirror_mode": {
    "name": "ipython",
    "version": 3
   },
   "file_extension": ".py",
   "mimetype": "text/x-python",
   "name": "python",
   "nbconvert_exporter": "python",
   "pygments_lexer": "ipython3",
   "version": "3.9.5"
  }
 },
 "nbformat": 4,
 "nbformat_minor": 5
}
