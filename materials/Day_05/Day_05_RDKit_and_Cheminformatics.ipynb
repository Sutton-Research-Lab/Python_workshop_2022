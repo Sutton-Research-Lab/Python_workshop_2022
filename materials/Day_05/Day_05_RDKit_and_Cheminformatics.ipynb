{
 "cells": [
  {
   "cell_type": "markdown",
   "id": "e7954175",
   "metadata": {},
   "source": [
    "# [RDKit](https://www.rdkit.org/) and Cheminformatics\n",
    "Lecturers = R. Patrick Xian, Santosh Adhikari, Sourin Dey<br>\n",
    "Date = 08/2022"
   ]
  },
  {
   "cell_type": "markdown",
   "id": "c1153180",
   "metadata": {},
   "source": [
    "## 1. Quantitative structure–activity relationship  (QSAR)\n",
    "### 1.1 A brief history of QSAR\n",
    "\n",
    "#### <font color='green'>Goal:</font> Build predictive models linking structure and (bio)activity for (mostly organic) molecules\n",
    "\n",
    "#### <font color='green'>History:</font> [Corwin Hansch](https://en.wikipedia.org/wiki/Corwin_Hansch) (1918-2011), father of QSAR, spent most of his career at Pomona College, CA, USA\n",
    "\n",
    "#### <font color='green'>Usage:</font>\n",
    "- #### drug discovery -- given a target protein to bind, search for druglike molecules (aka. leads)\n",
    "- #### synthesis prediction -- given reagents, predict synthesis outcome (product structure, ranking, etc)\n",
    "\n",
    "#### <font color='green'>Transferrable concepts:</font> molecular representation, molecular similarity"
   ]
  },
  {
   "cell_type": "markdown",
   "id": "41e3a80b",
   "metadata": {},
   "source": [
    "## 2. [RDKit](https://github.com/rdkit) -- cheminformatics and predictive modelling toolkit\n",
    "Data used here subsampled come from the GuacaMol dataset by [BenevolentAI](https://www.benevolent.com/),<br>\n",
    "Brown et al., [GuacaMol: Benchmarking Models for de Novo Molecular Design](https://pubs.acs.org/doi/10.1021/acs.jcim.8b00839), JCIM (2019)"
   ]
  },
  {
   "cell_type": "markdown",
   "id": "62eeb7f7",
   "metadata": {},
   "source": [
    "### 2.1 Chemical representation\n",
    "#### ```SMILES``` (Simplified molecular-input line-entry system)\n",
    "[David Weininger](https://en.wikipedia.org/wiki/David_Weininger), [SMILES, a chemical language and information system. 1. Introduction to methodology and encoding rules](https://doi.org/10.1021/ci00057a005) (1988)"
   ]
  },
  {
   "cell_type": "markdown",
   "id": "8abb2d29",
   "metadata": {},
   "source": [
    "#### Convert IUPAC name to SMILES string"
   ]
  },
  {
   "cell_type": "code",
   "execution_count": 6,
   "id": "579e77d1",
   "metadata": {},
   "outputs": [],
   "source": [
    "import cirpy"
   ]
  },
  {
   "cell_type": "code",
   "execution_count": 7,
   "id": "598c0fc7",
   "metadata": {},
   "outputs": [
    {
     "data": {
      "text/plain": [
       "'CCCCCCCC'"
      ]
     },
     "execution_count": 7,
     "metadata": {},
     "output_type": "execute_result"
    }
   ],
   "source": [
    "chem_name = 'n-Octane'\n",
    "cirpy.resolve(chem_name, 'smiles')"
   ]
  },
  {
   "cell_type": "markdown",
   "id": "843d7e7d",
   "metadata": {},
   "source": [
    "#### Convert SMILES string to IUPAC"
   ]
  },
  {
   "cell_type": "code",
   "execution_count": 8,
   "id": "a3c52e77",
   "metadata": {},
   "outputs": [],
   "source": [
    "import pubchempy"
   ]
  },
  {
   "cell_type": "code",
   "execution_count": 9,
   "id": "d96012cd",
   "metadata": {},
   "outputs": [
    {
     "data": {
      "text/plain": [
       "[Compound(356)]"
      ]
     },
     "execution_count": 9,
     "metadata": {},
     "output_type": "execute_result"
    }
   ],
   "source": [
    "compound = pubchempy.get_compounds('CCCCCCCC', namespace='smiles')\n",
    "compound"
   ]
  },
  {
   "cell_type": "code",
   "execution_count": 10,
   "id": "8c6f1084",
   "metadata": {},
   "outputs": [
    {
     "data": {
      "text/plain": [
       "'octane'"
      ]
     },
     "execution_count": 10,
     "metadata": {},
     "output_type": "execute_result"
    }
   ],
   "source": [
    "compound[0].iupac_name"
   ]
  },
  {
   "cell_type": "code",
   "execution_count": 11,
   "id": "4abc5cf7",
   "metadata": {},
   "outputs": [
    {
     "data": {
      "text/plain": [
       "[Compound(1235939)]"
      ]
     },
     "execution_count": 11,
     "metadata": {},
     "output_type": "execute_result"
    }
   ],
   "source": [
    "compound = pubchempy.get_compounds('COc1ccc(NC(=O)c2cccc(Cn3cc(Br)cn3)c2)cn1', namespace='smiles')\n",
    "compound"
   ]
  },
  {
   "cell_type": "code",
   "execution_count": 12,
   "id": "2f49bdfc",
   "metadata": {},
   "outputs": [
    {
     "data": {
      "text/plain": [
       "'3-[(4-bromopyrazol-1-yl)methyl]-N-(6-methoxypyridin-3-yl)benzamide'"
      ]
     },
     "execution_count": 12,
     "metadata": {},
     "output_type": "execute_result"
    }
   ],
   "source": [
    "compound[0].iupac_name"
   ]
  },
  {
   "cell_type": "markdown",
   "id": "a696735c",
   "metadata": {},
   "source": [
    "### 2.2 Drawing molecules\n",
    "#### Kekulization\n",
    "<img src=\"Kekulization.png\" alt=\"isolated\" width=\"800\"/>"
   ]
  },
  {
   "cell_type": "markdown",
   "id": "cd36f9bd",
   "metadata": {},
   "source": [
    "Set drawing options, see all options [here](https://www.rdkit.org/docs/source/rdkit.Chem.Draw.MolDrawing.html)."
   ]
  },
  {
   "cell_type": "code",
   "execution_count": 16,
   "id": "9b35fb6e",
   "metadata": {},
   "outputs": [],
   "source": [
    "from rdkit import Chem\n",
    "from rdkit.Chem import Draw\n",
    "from rdkit.Chem.Draw.MolDrawing import DrawingOptions\n",
    "\n",
    "# Set drawing options\n",
    "DrawingOptions.bondLineWidth = 2\n",
    "DrawingOptions.atomLabelFontSize = 15\n",
    "DrawingOptions.dotsPerAngstrom = 100\n",
    "DrawingOptions.useFraction = 1."
   ]
  },
  {
   "cell_type": "markdown",
   "id": "84707981",
   "metadata": {},
   "source": [
    "Drawing without Kekulization"
   ]
  },
  {
   "cell_type": "code",
   "execution_count": 17,
   "id": "488b71db",
   "metadata": {},
   "outputs": [
    {
     "data": {
      "image/png": "[encoded data removed]",
      "text/plain": [
       "<PIL.Image.Image image mode=RGB size=500x300 at 0x25FC193F438>"
      ]
     },
     "execution_count": 17,
     "metadata": {},
     "output_type": "execute_result"
    }
   ],
   "source": [
    "mol_smile = 'COc1ccc(NC(=O)c2cccc(Cn3cc(Br)cn3)c2)cn1'\n",
    "mol = Chem.MolFromSmiles(mol_smile)\n",
    "Draw.MolToImage(mol, fitImage=True, kekulize=False, size=(500, 300))"
   ]
  },
  {
   "cell_type": "markdown",
   "id": "8ea259de",
   "metadata": {},
   "source": [
    "Drawing with Kekulization"
   ]
  },
  {
   "cell_type": "code",
   "execution_count": 18,
   "id": "ff4f67e5",
   "metadata": {},
   "outputs": [
    {
     "data": {
      "image/png": "[encoded data removed]",
      "text/plain": [
       "<PIL.Image.Image image mode=RGB size=500x300 at 0x25FC193F128>"
      ]
     },
     "execution_count": 18,
     "metadata": {},
     "output_type": "execute_result"
    }
   ],
   "source": [
    "Draw.MolToImage(mol, fitImage=True, kekulize=True, size=(500, 300))"
   ]
  },
  {
   "cell_type": "markdown",
   "id": "56cb2ad1",
   "metadata": {},
   "source": [
    "Drawing with Kekulization and numbering"
   ]
  },
  {
   "cell_type": "code",
   "execution_count": 19,
   "id": "3601a86b",
   "metadata": {},
   "outputs": [
    {
     "data": {
      "image/png": "[encoded data removed]",
      "text/plain": [
       "<PIL.Image.Image image mode=RGB size=500x300 at 0x25FB4188AC8>"
      ]
     },
     "execution_count": 19,
     "metadata": {},
     "output_type": "execute_result"
    }
   ],
   "source": [
    "DrawingOptions.includeAtomNumbers = True\n",
    "Draw.MolToImage(mol, fitImage=True, kekulize=True, size=(500, 300))"
   ]
  },
  {
   "cell_type": "markdown",
   "id": "a48521a1",
   "metadata": {},
   "source": [
    "### 2.3 Chemical descriptors"
   ]
  },
  {
   "cell_type": "code",
   "execution_count": 20,
   "id": "cee5e648",
   "metadata": {},
   "outputs": [],
   "source": [
    "from rdkit.Chem import Descriptors as D"
   ]
  },
  {
   "cell_type": "code",
   "execution_count": 21,
   "id": "a153a203",
   "metadata": {},
   "outputs": [
    {
     "name": "stdout",
     "output_type": "stream",
     "text": [
      "['BalabanJ', 'BertzCT', 'Chem', 'Chi0', 'Chi0n', 'Chi0v', 'Chi1', 'Chi1n', 'Chi1v', 'Chi2n', 'Chi2v', 'Chi3n', 'Chi3v', 'Chi4n', 'Chi4v', 'EState_VSA1', 'EState_VSA10', 'EState_VSA11', 'EState_VSA2', 'EState_VSA3', 'EState_VSA4', 'EState_VSA5', 'EState_VSA6', 'EState_VSA7', 'EState_VSA8', 'EState_VSA9', 'ExactMolWt', 'FpDensityMorgan1', 'FpDensityMorgan2', 'FpDensityMorgan3', 'FractionCSP3', 'HallKierAlpha', 'HeavyAtomCount', 'HeavyAtomMolWt', 'Ipc', 'Kappa1', 'Kappa2', 'Kappa3', 'LabuteASA', 'MaxAbsEStateIndex', 'MaxAbsPartialCharge', 'MaxEStateIndex', 'MaxPartialCharge', 'MinAbsEStateIndex', 'MinAbsPartialCharge', 'MinEStateIndex', 'MinPartialCharge', 'MolLogP', 'MolMR', 'MolWt', 'NHOHCount', 'NOCount', 'NumAliphaticCarbocycles', 'NumAliphaticHeterocycles', 'NumAliphaticRings', 'NumAromaticCarbocycles', 'NumAromaticHeterocycles', 'NumAromaticRings', 'NumHAcceptors', 'NumHDonors', 'NumHeteroatoms', 'NumRadicalElectrons', 'NumRotatableBonds', 'NumSaturatedCarbocycles', 'NumSaturatedHeterocycles', 'NumSaturatedRings', 'NumValenceElectrons', 'PEOE_VSA1', 'PEOE_VSA10', 'PEOE_VSA11', 'PEOE_VSA12', 'PEOE_VSA13', 'PEOE_VSA14', 'PEOE_VSA2', 'PEOE_VSA3', 'PEOE_VSA4', 'PEOE_VSA5', 'PEOE_VSA6', 'PEOE_VSA7', 'PEOE_VSA8', 'PEOE_VSA9', 'PropertyFunctor', 'RingCount', 'SMR_VSA1', 'SMR_VSA10', 'SMR_VSA2', 'SMR_VSA3', 'SMR_VSA4', 'SMR_VSA5', 'SMR_VSA6', 'SMR_VSA7', 'SMR_VSA8', 'SMR_VSA9', 'SlogP_VSA1', 'SlogP_VSA10', 'SlogP_VSA11', 'SlogP_VSA12', 'SlogP_VSA2', 'SlogP_VSA3', 'SlogP_VSA4', 'SlogP_VSA5', 'SlogP_VSA6', 'SlogP_VSA7', 'SlogP_VSA8', 'SlogP_VSA9', 'TPSA', 'VSA_EState1', 'VSA_EState10', 'VSA_EState2', 'VSA_EState3', 'VSA_EState4', 'VSA_EState5', 'VSA_EState6', 'VSA_EState7', 'VSA_EState8', 'VSA_EState9', '_ChargeDescriptors', '_FingerprintDensity', '__builtins__', '__cached__', '__doc__', '__file__', '__loader__', '__name__', '__package__', '__spec__', '_descList', '_du', '_isCallable', '_rdMolDescriptors', '_runDoctests', '_setupDescriptors', 'collections', 'descList', 'fr_Al_COO', 'fr_Al_OH', 'fr_Al_OH_noTert', 'fr_ArN', 'fr_Ar_COO', 'fr_Ar_N', 'fr_Ar_NH', 'fr_Ar_OH', 'fr_COO', 'fr_COO2', 'fr_C_O', 'fr_C_O_noCOO', 'fr_C_S', 'fr_HOCCN', 'fr_Imine', 'fr_NH0', 'fr_NH1', 'fr_NH2', 'fr_N_O', 'fr_Ndealkylation1', 'fr_Ndealkylation2', 'fr_Nhpyrrole', 'fr_SH', 'fr_aldehyde', 'fr_alkyl_carbamate', 'fr_alkyl_halide', 'fr_allylic_oxid', 'fr_amide', 'fr_amidine', 'fr_aniline', 'fr_aryl_methyl', 'fr_azide', 'fr_azo', 'fr_barbitur', 'fr_benzene', 'fr_benzodiazepine', 'fr_bicyclic', 'fr_diazo', 'fr_dihydropyridine', 'fr_epoxide', 'fr_ester', 'fr_ether', 'fr_furan', 'fr_guanido', 'fr_halogen', 'fr_hdrzine', 'fr_hdrzone', 'fr_imidazole', 'fr_imide', 'fr_isocyan', 'fr_isothiocyan', 'fr_ketone', 'fr_ketone_Topliss', 'fr_lactam', 'fr_lactone', 'fr_methoxy', 'fr_morpholine', 'fr_nitrile', 'fr_nitro', 'fr_nitro_arom', 'fr_nitro_arom_nonortho', 'fr_nitroso', 'fr_oxazole', 'fr_oxime', 'fr_para_hydroxylation', 'fr_phenol', 'fr_phenol_noOrthoHbond', 'fr_phos_acid', 'fr_phos_ester', 'fr_piperdine', 'fr_piperzine', 'fr_priamide', 'fr_prisulfonamd', 'fr_pyridine', 'fr_quatN', 'fr_sulfide', 'fr_sulfonamd', 'fr_sulfone', 'fr_term_acetylene', 'fr_tetrazole', 'fr_thiazole', 'fr_thiocyan', 'fr_thiophene', 'fr_unbrch_alkane', 'fr_urea', 'qed', 'rdMolDescriptors', 'rdPartialCharges']\n"
     ]
    }
   ],
   "source": [
    "print(dir(D))"
   ]
  },
  {
   "cell_type": "code",
   "execution_count": null,
   "id": "2642f7bd",
   "metadata": {},
   "outputs": [],
   "source": []
  },
  {
   "cell_type": "markdown",
   "id": "15dcf5b4",
   "metadata": {},
   "source": [
    "### 2.3 A concrete example -- Wiener index\n",
    "Boiling point predictor for linear (C$_n$H$_{2n+2}$) and branched alkanes/paraffins<br>\n",
    "[Harry Wiener](https://en.wikipedia.org/wiki/Harry_Wiener), [Structural Determination of Paraffin Boiling Points](https://pubs.acs.org/doi/abs/10.1021/ja01193a005), J. Am. Chem. Soc. 69, 17 (1947)"
   ]
  },
  {
   "cell_type": "code",
   "execution_count": 22,
   "id": "bba85fa7",
   "metadata": {},
   "outputs": [],
   "source": [
    "import matplotlib.pyplot as plt"
   ]
  },
  {
   "cell_type": "code",
   "execution_count": 23,
   "id": "da7851ac",
   "metadata": {},
   "outputs": [
    {
     "data": {
      "text/plain": [
       "['n-Butane',\n",
       " 'n-Pentane',\n",
       " 'n-Hexane',\n",
       " 'n-Heptane',\n",
       " 'n-Octane',\n",
       " 'n-Nonane',\n",
       " 'n-Decane',\n",
       " 'n-Undecane',\n",
       " 'n-Dodecane']"
      ]
     },
     "execution_count": 23,
     "metadata": {},
     "output_type": "execute_result"
    }
   ],
   "source": [
    "prefixes = ['But', 'Pent', 'Hex', 'Hept', 'Oct', 'Non', 'Dec', 'Undec', 'Dodec']\n",
    "names = ['n-' + pref + 'ane' for pref in prefixes]\n",
    "names"
   ]
  },
  {
   "cell_type": "code",
   "execution_count": 24,
   "id": "ef4ed57d",
   "metadata": {},
   "outputs": [],
   "source": [
    "boiling_points = [-0.5, 36.1, 68.7, 98.4, 125.7, 150.8, 174.0, 195.8, 216.2]"
   ]
  },
  {
   "cell_type": "code",
   "execution_count": 25,
   "id": "11f9aaa8",
   "metadata": {},
   "outputs": [],
   "source": [
    "# Calculate the Wiener index\n",
    "def wiener_index(m):\n",
    "    res = 0\n",
    "    mol = Chem.MolFromSmiles(m)\n",
    "    amat = Chem.GetDistanceMatrix(mol)\n",
    "    num_atoms = mol.GetNumAtoms()\n",
    "    for i in range(num_atoms):\n",
    "        for j in range(i+1,num_atoms):\n",
    "            res += amat[i][j]\n",
    "    return res"
   ]
  },
  {
   "cell_type": "markdown",
   "id": "93d3ec39",
   "metadata": {},
   "source": [
    "Convert IUPAC names to SMILES using [Chemical Identifier Resolver (CIR)](https://cactus.nci.nih.gov/chemical/structure)"
   ]
  },
  {
   "cell_type": "code",
   "execution_count": 26,
   "id": "3612aaf3",
   "metadata": {},
   "outputs": [],
   "source": [
    "smiles = [cirpy.resolve(name, 'smiles') for name in names]"
   ]
  },
  {
   "cell_type": "code",
   "execution_count": 27,
   "id": "85923674",
   "metadata": {},
   "outputs": [
    {
     "data": {
      "text/plain": [
       "['CCCC',\n",
       " 'CCCCC',\n",
       " 'CCCCCC',\n",
       " 'CCCCCCC',\n",
       " 'CCCCCCCC',\n",
       " 'CCCCCCCCC',\n",
       " 'CCCCCCCCCC',\n",
       " 'CCCCCCCCCCC',\n",
       " 'CCCCCCCCCCCC']"
      ]
     },
     "execution_count": 27,
     "metadata": {},
     "output_type": "execute_result"
    }
   ],
   "source": [
    "smiles"
   ]
  },
  {
   "cell_type": "code",
   "execution_count": 28,
   "id": "f817cdaa",
   "metadata": {},
   "outputs": [
    {
     "data": {
      "text/plain": [
       "10.0"
      ]
     },
     "execution_count": 28,
     "metadata": {},
     "output_type": "execute_result"
    }
   ],
   "source": [
    "wiener_index('CCCC')"
   ]
  },
  {
   "cell_type": "code",
   "execution_count": 29,
   "id": "ca6248d8",
   "metadata": {},
   "outputs": [
    {
     "data": {
      "text/plain": [
       "[10.0, 20.0, 35.0, 56.0, 84.0, 120.0, 165.0, 220.0, 286.0]"
      ]
     },
     "execution_count": 29,
     "metadata": {},
     "output_type": "execute_result"
    }
   ],
   "source": [
    "wi = [wiener_index(smile) for smile in smiles]\n",
    "wi"
   ]
  },
  {
   "cell_type": "code",
   "execution_count": 30,
   "id": "0a4a23da",
   "metadata": {},
   "outputs": [
    {
     "data": {
      "image/png": "[encoded data removed]",
      "text/plain": [
       "<Figure size 432x288 with 1 Axes>"
      ]
     },
     "metadata": {
      "needs_background": "light"
     },
     "output_type": "display_data"
    }
   ],
   "source": [
    "plt.plot(wi, boiling_points, '-o', mfc='w', markersize=10, linewidth=2)\n",
    "plt.tick_params(which='both', length=8, labelsize=15)\n",
    "plt.xlabel('Wiener index', fontsize=20)\n",
    "plt.ylabel('Boiling point ($^{\\circ}$C)', fontsize=20);"
   ]
  },
  {
   "cell_type": "code",
   "execution_count": null,
   "id": "18e052d3",
   "metadata": {},
   "outputs": [],
   "source": []
  }
 ],
 "metadata": {
  "kernelspec": {
   "display_name": "Python 3",
   "language": "python",
   "name": "python3"
  },
  "language_info": {
   "codemirror_mode": {
    "name": "ipython",
    "version": 3
   },
   "file_extension": ".py",
   "mimetype": "text/x-python",
   "name": "python",
   "nbconvert_exporter": "python",
   "pygments_lexer": "ipython3",
   "version": "3.6.4"
  }
 },
 "nbformat": 4,
 "nbformat_minor": 5
}
