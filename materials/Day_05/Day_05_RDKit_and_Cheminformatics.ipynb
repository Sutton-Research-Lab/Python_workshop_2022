{
 "cells": [
  {
   "cell_type": "markdown",
   "id": "e7954175",
   "metadata": {},
   "source": [
    "# [RDKit](https://www.rdkit.org/) and Cheminformatics\n",
    "Lecturers = R. Patrick Xian, Santosh Adhikari, Sourin Dey<br>\n",
    "Date = 08/2022"
   ]
  },
  {
   "cell_type": "markdown",
   "id": "c1153180",
   "metadata": {},
   "source": [
    "## 1. Quantitative structure–activity relationship  (QSAR)\n",
    "### 1.1 A brief history of QSAR\n",
    "\n",
    "#### <font color='green'>Goal:</font> Build predictive models linking structure and (bio)activity for (mostly organic) molecules\n",
    "\n",
    "#### <font color='green'>History:</font> [Corwin Hansch](https://en.wikipedia.org/wiki/Corwin_Hansch) (1918$-$2011), father of QSAR, spent most of his career at Pomona College, CA, USA\n",
    "\n",
    "#### <font color='green'>Usage:</font>\n",
    "- #### drug discovery -- given a target protein to bind, search for druglike molecules (aka. leads)\n",
    "- #### synthesis prediction -- given reagents, predict synthesis outcome (product structure, ranking, etc)\n",
    "\n",
    "#### <font color='green'>Transferrable concepts:</font> molecular representation, molecular similarity"
   ]
  },
  {
   "cell_type": "markdown",
   "id": "41e3a80b",
   "metadata": {},
   "source": [
    "## 2. [RDKit](https://github.com/rdkit) -- cheminformatics and predictive modelling toolkit\n",
    "Data used here subsampled come from the GuacaMol dataset by [BenevolentAI](https://www.benevolent.com/),<br>\n",
    "Brown et al., [GuacaMol: Benchmarking Models for de Novo Molecular Design](https://pubs.acs.org/doi/10.1021/acs.jcim.8b00839), JCIM (2019)"
   ]
  },
  {
   "cell_type": "markdown",
   "id": "62eeb7f7",
   "metadata": {},
   "source": [
    "### 2.1 Chemical representation\n",
    "#### ```SMILES``` (Simplified molecular-input line-entry system)\n",
    "[David Weininger](https://en.wikipedia.org/wiki/David_Weininger), [SMILES, a chemical language and information system. 1. Introduction to methodology and encoding rules](https://doi.org/10.1021/ci00057a005) (1988)"
   ]
  },
  {
   "cell_type": "markdown",
   "id": "03dfbe6c",
   "metadata": {},
   "source": [
    "#### Convert IUPAC name to SMILES string\n",
    "The conversion is done using a [Chemical Identifier Resolver (CIR)](https://cactus.nci.nih.gov/chemical/structure)"
   ]
  },
  {
   "cell_type": "code",
   "execution_count": 7,
   "id": "b4c23a87",
   "metadata": {},
   "outputs": [],
   "source": [
    "try:\n",
    "    import cirpy\n",
    "except:\n",
    "    !pip install cirpy\n",
    "    import cirpy"
   ]
  },
  {
   "cell_type": "code",
   "execution_count": 7,
   "id": "e5740fc0",
   "metadata": {},
   "outputs": [
    {
     "data": {
      "text/plain": [
       "'CCCCCCCC'"
      ]
     },
     "execution_count": 7,
     "metadata": {},
     "output_type": "execute_result"
    }
   ],
   "source": [
    "chem_name = 'n-Octane'\n",
    "cirpy.resolve(chem_name, 'smiles')"
   ]
  },
  {
   "cell_type": "markdown",
   "id": "fbff5cd3",
   "metadata": {},
   "source": [
    "#### Convert SMILES string to IUPAC"
   ]
  },
  {
   "cell_type": "code",
   "execution_count": 8,
   "id": "19dd059f",
   "metadata": {},
   "outputs": [],
   "source": [
    "try:\n",
    "    import pubchempy\n",
    "except:\n",
    "    !pip install pubchempy\n",
    "    import pubchempy"
   ]
  },
  {
   "cell_type": "code",
   "execution_count": 9,
   "id": "d96012cd",
   "metadata": {},
   "outputs": [
    {
     "data": {
      "text/plain": [
       "[Compound(356)]"
      ]
     },
     "execution_count": 9,
     "metadata": {},
     "output_type": "execute_result"
    }
   ],
   "source": [
    "compound = pubchempy.get_compounds('CCCCCCCC', namespace='smiles')\n",
    "compound"
   ]
  },
  {
   "cell_type": "code",
   "execution_count": 10,
   "id": "8c6f1084",
   "metadata": {},
   "outputs": [
    {
     "data": {
      "text/plain": [
       "'octane'"
      ]
     },
     "execution_count": 10,
     "metadata": {},
     "output_type": "execute_result"
    }
   ],
   "source": [
    "compound[0].iupac_name"
   ]
  },
  {
   "cell_type": "code",
   "execution_count": 11,
   "id": "4abc5cf7",
   "metadata": {},
   "outputs": [
    {
     "data": {
      "text/plain": [
       "[Compound(1235939)]"
      ]
     },
     "execution_count": 11,
     "metadata": {},
     "output_type": "execute_result"
    }
   ],
   "source": [
    "compound = pubchempy.get_compounds('COc1ccc(NC(=O)c2cccc(Cn3cc(Br)cn3)c2)cn1', namespace='smiles')\n",
    "compound"
   ]
  },
  {
   "cell_type": "code",
   "execution_count": 12,
   "id": "eddc048f",
   "metadata": {},
   "outputs": [
    {
     "data": {
      "text/plain": [
       "'3-[(4-bromopyrazol-1-yl)methyl]-N-(6-methoxypyridin-3-yl)benzamide'"
      ]
     },
     "execution_count": 12,
     "metadata": {},
     "output_type": "execute_result"
    }
   ],
   "source": [
    "compound[0].iupac_name"
   ]
  },
  {
   "cell_type": "markdown",
   "id": "75a2bd62",
   "metadata": {},
   "source": [
    "#### Molecular data type: ```Mol```"
   ]
  },
  {
   "cell_type": "code",
   "execution_count": 35,
   "id": "31cb6c5b",
   "metadata": {},
   "outputs": [],
   "source": [
    "mol_smile = 'COc1ccc(NC(=O)c2cccc(Cn3cc(Br)cn3)c2)cn1'\n",
    "mol = Chem.MolFromSmiles(mol_smile)"
   ]
  },
  {
   "cell_type": "code",
   "execution_count": 37,
   "id": "fc43d4be",
   "metadata": {},
   "outputs": [
    {
     "data": {
      "text/plain": [
       "rdkit.Chem.rdchem.Mol"
      ]
     },
     "execution_count": 37,
     "metadata": {},
     "output_type": "execute_result"
    }
   ],
   "source": [
    "type(mol)"
   ]
  },
  {
   "cell_type": "code",
   "execution_count": 38,
   "id": "b8c8578b",
   "metadata": {},
   "outputs": [
    {
     "name": "stdout",
     "output_type": "stream",
     "text": [
      "['AddConformer', 'ClearComputedProps', 'ClearProp', 'Compute2DCoords', 'ComputeGasteigerCharges', 'Debug', 'GetAromaticAtoms', 'GetAtomWithIdx', 'GetAtoms', 'GetAtomsMatchingQuery', 'GetBondBetweenAtoms', 'GetBondWithIdx', 'GetBonds', 'GetBoolProp', 'GetConformer', 'GetConformers', 'GetDoubleProp', 'GetIntProp', 'GetNumAtoms', 'GetNumBonds', 'GetNumConformers', 'GetNumHeavyAtoms', 'GetProp', 'GetPropNames', 'GetPropsAsDict', 'GetRingInfo', 'GetSubstructMatch', 'GetSubstructMatches', 'GetUnsignedProp', 'HasProp', 'HasSubstructMatch', 'NeedsUpdatePropertyCache', 'RemoveAllConformers', 'RemoveConformer', 'SetBoolProp', 'SetDoubleProp', 'SetIntProp', 'SetProp', 'SetUnsignedProp', 'ToBinary', 'UpdatePropertyCache', '__class__', '__copy__', '__deepcopy__', '__delattr__', '__dict__', '__dir__', '__doc__', '__eq__', '__format__', '__ge__', '__getattribute__', '__getinitargs__', '__gt__', '__hash__', '__init__', '__init_subclass__', '__instance_size__', '__le__', '__lt__', '__module__', '__ne__', '__new__', '__reduce__', '__reduce_ex__', '__repr__', '__safe_for_unpickling__', '__setattr__', '__sizeof__', '__str__', '__subclasshook__', '__weakref__']\n"
     ]
    }
   ],
   "source": [
    "# Retrieve all methods and properties of the datatype\n",
    "print(dir(mol))"
   ]
  },
  {
   "cell_type": "markdown",
   "id": "a696735c",
   "metadata": {},
   "source": [
    "### 2.2 Drawing molecules\n",
    "#### Kekulization\n",
    "Kekulization is a class of bond-order assignment problem for molecules containing aromatic rings. It is unsolvable in general, but solutions to special cases exist. More details are explained in the following book<br>\n",
    "Cyvin & Gutman, [Kekulé Structures in Benzenoid Hydrocarbons](https://link.springer.com/book/10.1007/978-3-662-00892-8), Springer (1988)\n",
    "\n",
    "<br>\n",
    "The following slide is borrowed from Noel M. O'Boyle at Sosei Heptares, Cambridge, UK\n",
    "\n",
    "<img src=\"Kekulization.png\" alt=\"isolated\" width=\"800\"/>"
   ]
  },
  {
   "cell_type": "markdown",
   "id": "9a789fb2",
   "metadata": {},
   "source": [
    "#### Examples showing the effects of drawing options in RDKit\n",
    "Set drawing options, see all options [here](https://www.rdkit.org/docs/source/rdkit.Chem.Draw.MolDrawing.html)."
   ]
  },
  {
   "cell_type": "code",
   "execution_count": 22,
   "id": "5edf18e5",
   "metadata": {},
   "outputs": [],
   "source": [
    "from rdkit import Chem\n",
    "from rdkit.Chem import Draw\n",
    "from rdkit.Chem.Draw.MolDrawing import DrawingOptions\n",
    "\n",
    "# Set drawing options\n",
    "DrawingOptions.bondLineWidth = 2\n",
    "DrawingOptions.atomLabelFontSize = 15\n",
    "DrawingOptions.dotsPerAngstrom = 100\n",
    "DrawingOptions.useFraction = 1."
   ]
  },
  {
   "cell_type": "markdown",
   "id": "9e7a5a4a",
   "metadata": {},
   "source": [
    "Drawing without Kekulization"
   ]
  },
  {
   "cell_type": "code",
   "execution_count": 17,
   "id": "488b71db",
   "metadata": {},
   "outputs": [
    {
     "data": {
      "image/png": "[encoded data removed]",
      "text/plain": [
       "<PIL.Image.Image image mode=RGB size=500x300 at 0x25FC193F438>"
      ]
     },
     "execution_count": 17,
     "metadata": {},
     "output_type": "execute_result"
    }
   ],
   "source": [
    "mol_smile = 'COc1ccc(NC(=O)c2cccc(Cn3cc(Br)cn3)c2)cn1'\n",
    "mol = Chem.MolFromSmiles(mol_smile)\n",
    "Draw.MolToImage(mol, fitImage=True, kekulize=False, size=(500, 300))"
   ]
  },
  {
   "cell_type": "markdown",
   "id": "8e0b4720",
   "metadata": {},
   "source": [
    "Drawing with Kekulization"
   ]
  },
  {
   "cell_type": "code",
   "execution_count": 18,
   "id": "ff4f67e5",
   "metadata": {},
   "outputs": [
    {
     "data": {
      "image/png": "[encoded data removed]",
      "text/plain": [
       "<PIL.Image.Image image mode=RGB size=500x300 at 0x25FC193F128>"
      ]
     },
     "execution_count": 18,
     "metadata": {},
     "output_type": "execute_result"
    }
   ],
   "source": [
    "Draw.MolToImage(mol, fitImage=True, kekulize=True, size=(500, 300))"
   ]
  },
  {
   "cell_type": "markdown",
   "id": "a6c59397",
   "metadata": {},
   "source": [
    "Drawing with Kekulization and numbering (according to the path underlying the SMILES string)"
   ]
  },
  {
   "cell_type": "code",
   "execution_count": 19,
   "id": "3601a86b",
   "metadata": {},
   "outputs": [
    {
     "data": {
      "image/png": "[encoded data removed]",
      "text/plain": [
       "<PIL.Image.Image image mode=RGB size=500x300 at 0x25FB4188AC8>"
      ]
     },
     "execution_count": 19,
     "metadata": {},
     "output_type": "execute_result"
    }
   ],
   "source": [
    "DrawingOptions.includeAtomNumbers = True\n",
    "Draw.MolToImage(mol, fitImage=True, kekulize=True, size=(500, 300))"
   ]
  },
  {
   "cell_type": "markdown",
   "id": "a48521a1",
   "metadata": {},
   "source": [
    "### 2.3 Chemical descriptors"
   ]
  },
  {
   "cell_type": "code",
   "execution_count": 20,
   "id": "cee5e648",
   "metadata": {},
   "outputs": [],
   "source": [
    "from rdkit.Chem import Descriptors as D"
   ]
  },
  {
   "cell_type": "code",
   "execution_count": 21,
   "id": "a153a203",
   "metadata": {},
   "outputs": [
    {
     "name": "stdout",
     "output_type": "stream",
     "text": [
      "['BalabanJ', 'BertzCT', 'Chem', 'Chi0', 'Chi0n', 'Chi0v', 'Chi1', 'Chi1n', 'Chi1v', 'Chi2n', 'Chi2v', 'Chi3n', 'Chi3v', 'Chi4n', 'Chi4v', 'EState_VSA1', 'EState_VSA10', 'EState_VSA11', 'EState_VSA2', 'EState_VSA3', 'EState_VSA4', 'EState_VSA5', 'EState_VSA6', 'EState_VSA7', 'EState_VSA8', 'EState_VSA9', 'ExactMolWt', 'FpDensityMorgan1', 'FpDensityMorgan2', 'FpDensityMorgan3', 'FractionCSP3', 'HallKierAlpha', 'HeavyAtomCount', 'HeavyAtomMolWt', 'Ipc', 'Kappa1', 'Kappa2', 'Kappa3', 'LabuteASA', 'MaxAbsEStateIndex', 'MaxAbsPartialCharge', 'MaxEStateIndex', 'MaxPartialCharge', 'MinAbsEStateIndex', 'MinAbsPartialCharge', 'MinEStateIndex', 'MinPartialCharge', 'MolLogP', 'MolMR', 'MolWt', 'NHOHCount', 'NOCount', 'NumAliphaticCarbocycles', 'NumAliphaticHeterocycles', 'NumAliphaticRings', 'NumAromaticCarbocycles', 'NumAromaticHeterocycles', 'NumAromaticRings', 'NumHAcceptors', 'NumHDonors', 'NumHeteroatoms', 'NumRadicalElectrons', 'NumRotatableBonds', 'NumSaturatedCarbocycles', 'NumSaturatedHeterocycles', 'NumSaturatedRings', 'NumValenceElectrons', 'PEOE_VSA1', 'PEOE_VSA10', 'PEOE_VSA11', 'PEOE_VSA12', 'PEOE_VSA13', 'PEOE_VSA14', 'PEOE_VSA2', 'PEOE_VSA3', 'PEOE_VSA4', 'PEOE_VSA5', 'PEOE_VSA6', 'PEOE_VSA7', 'PEOE_VSA8', 'PEOE_VSA9', 'PropertyFunctor', 'RingCount', 'SMR_VSA1', 'SMR_VSA10', 'SMR_VSA2', 'SMR_VSA3', 'SMR_VSA4', 'SMR_VSA5', 'SMR_VSA6', 'SMR_VSA7', 'SMR_VSA8', 'SMR_VSA9', 'SlogP_VSA1', 'SlogP_VSA10', 'SlogP_VSA11', 'SlogP_VSA12', 'SlogP_VSA2', 'SlogP_VSA3', 'SlogP_VSA4', 'SlogP_VSA5', 'SlogP_VSA6', 'SlogP_VSA7', 'SlogP_VSA8', 'SlogP_VSA9', 'TPSA', 'VSA_EState1', 'VSA_EState10', 'VSA_EState2', 'VSA_EState3', 'VSA_EState4', 'VSA_EState5', 'VSA_EState6', 'VSA_EState7', 'VSA_EState8', 'VSA_EState9', '_ChargeDescriptors', '_FingerprintDensity', '__builtins__', '__cached__', '__doc__', '__file__', '__loader__', '__name__', '__package__', '__spec__', '_descList', '_du', '_isCallable', '_rdMolDescriptors', '_runDoctests', '_setupDescriptors', 'collections', 'descList', 'fr_Al_COO', 'fr_Al_OH', 'fr_Al_OH_noTert', 'fr_ArN', 'fr_Ar_COO', 'fr_Ar_N', 'fr_Ar_NH', 'fr_Ar_OH', 'fr_COO', 'fr_COO2', 'fr_C_O', 'fr_C_O_noCOO', 'fr_C_S', 'fr_HOCCN', 'fr_Imine', 'fr_NH0', 'fr_NH1', 'fr_NH2', 'fr_N_O', 'fr_Ndealkylation1', 'fr_Ndealkylation2', 'fr_Nhpyrrole', 'fr_SH', 'fr_aldehyde', 'fr_alkyl_carbamate', 'fr_alkyl_halide', 'fr_allylic_oxid', 'fr_amide', 'fr_amidine', 'fr_aniline', 'fr_aryl_methyl', 'fr_azide', 'fr_azo', 'fr_barbitur', 'fr_benzene', 'fr_benzodiazepine', 'fr_bicyclic', 'fr_diazo', 'fr_dihydropyridine', 'fr_epoxide', 'fr_ester', 'fr_ether', 'fr_furan', 'fr_guanido', 'fr_halogen', 'fr_hdrzine', 'fr_hdrzone', 'fr_imidazole', 'fr_imide', 'fr_isocyan', 'fr_isothiocyan', 'fr_ketone', 'fr_ketone_Topliss', 'fr_lactam', 'fr_lactone', 'fr_methoxy', 'fr_morpholine', 'fr_nitrile', 'fr_nitro', 'fr_nitro_arom', 'fr_nitro_arom_nonortho', 'fr_nitroso', 'fr_oxazole', 'fr_oxime', 'fr_para_hydroxylation', 'fr_phenol', 'fr_phenol_noOrthoHbond', 'fr_phos_acid', 'fr_phos_ester', 'fr_piperdine', 'fr_piperzine', 'fr_priamide', 'fr_prisulfonamd', 'fr_pyridine', 'fr_quatN', 'fr_sulfide', 'fr_sulfonamd', 'fr_sulfone', 'fr_term_acetylene', 'fr_tetrazole', 'fr_thiazole', 'fr_thiocyan', 'fr_thiophene', 'fr_unbrch_alkane', 'fr_urea', 'qed', 'rdMolDescriptors', 'rdPartialCharges']\n"
     ]
    }
   ],
   "source": [
    "print(dir(D))"
   ]
  },
  {
   "cell_type": "markdown",
   "id": "a67f73fb",
   "metadata": {},
   "source": [
    "#### Wildman-Crippen LogP ([octanol−water partition coefficient](https://en.wikipedia.org/wiki/Octanol-water_partition_coefficient)) value\n",
    "The LogP is a measure of lipophilicity and a fundamental quantity in the field of QSAR.<br>\n",
    "The Wildman-Crippen method for calculating LogP is described in the following publication,<br>\n",
    "Wildman & Crippen, [Prediction of Physicochemical Parameters by Atomic Contributions](https://doi.org/10.1021/ci990307l), JCICS (1999)"
   ]
  },
  {
   "cell_type": "code",
   "execution_count": 54,
   "id": "2642f7bd",
   "metadata": {},
   "outputs": [
    {
     "data": {
      "text/plain": [
       "2.1965000000000003"
      ]
     },
     "execution_count": 54,
     "metadata": {},
     "output_type": "execute_result"
    }
   ],
   "source": [
    "D.MolLogP(Chem.MolFromSmiles('CCCCC'))"
   ]
  },
  {
   "cell_type": "markdown",
   "id": "15dcf5b4",
   "metadata": {},
   "source": [
    "### 2.3 A concrete example -- [Wiener index](https://en.wikipedia.org/wiki/Wiener_index)\n",
    "Boiling point predictor for linear (C$_n$H$_{2n+2}$) and branched alkanes/paraffins<br>\n",
    "[Harry Wiener](https://en.wikipedia.org/wiki/Harry_Wiener), [Structural Determination of Paraffin Boiling Points](https://pubs.acs.org/doi/abs/10.1021/ja01193a005), J. Am. Chem. Soc. 69, 17 (1947)"
   ]
  },
  {
   "cell_type": "code",
   "execution_count": 3,
   "id": "b6b4cd47",
   "metadata": {},
   "outputs": [],
   "source": [
    "import matplotlib.pyplot as plt\n",
    "import pandas as pd"
   ]
  },
  {
   "cell_type": "code",
   "execution_count": 14,
   "id": "ef4ed57d",
   "metadata": {},
   "outputs": [
    {
     "data": {
      "text/html": [
       "<div>\n",
       "<style scoped>\n",
       "    .dataframe tbody tr th:only-of-type {\n",
       "        vertical-align: middle;\n",
       "    }\n",
       "\n",
       "    .dataframe tbody tr th {\n",
       "        vertical-align: top;\n",
       "    }\n",
       "\n",
       "    .dataframe thead th {\n",
       "        text-align: right;\n",
       "    }\n",
       "</style>\n",
       "<table border=\"1\" class=\"dataframe\">\n",
       "  <thead>\n",
       "    <tr style=\"text-align: right;\">\n",
       "      <th></th>\n",
       "      <th>Name</th>\n",
       "      <th>Boiling point</th>\n",
       "      <th>Melting point</th>\n",
       "    </tr>\n",
       "  </thead>\n",
       "  <tbody>\n",
       "    <tr>\n",
       "      <th>0</th>\n",
       "      <td>ethane</td>\n",
       "      <td>88.630</td>\n",
       "      <td>-183.27</td>\n",
       "    </tr>\n",
       "    <tr>\n",
       "      <th>1</th>\n",
       "      <td>propane</td>\n",
       "      <td>42.070</td>\n",
       "      <td>-187.69</td>\n",
       "    </tr>\n",
       "    <tr>\n",
       "      <th>2</th>\n",
       "      <td>butane</td>\n",
       "      <td>-0.500</td>\n",
       "      <td>-138.35</td>\n",
       "    </tr>\n",
       "    <tr>\n",
       "      <th>3</th>\n",
       "      <td>2-methylpropane</td>\n",
       "      <td>11.730</td>\n",
       "      <td>159.60</td>\n",
       "    </tr>\n",
       "    <tr>\n",
       "      <th>4</th>\n",
       "      <td>pentane</td>\n",
       "      <td>36.074</td>\n",
       "      <td>129.72</td>\n",
       "    </tr>\n",
       "    <tr>\n",
       "      <th>...</th>\n",
       "      <td>...</td>\n",
       "      <td>...</td>\n",
       "      <td>...</td>\n",
       "    </tr>\n",
       "    <tr>\n",
       "      <th>69</th>\n",
       "      <td>2,4-dimethyl-3-ethylpentane</td>\n",
       "      <td>136.730</td>\n",
       "      <td>- 122.20</td>\n",
       "    </tr>\n",
       "    <tr>\n",
       "      <th>70</th>\n",
       "      <td>2,2,3,3-tetramethylpentane</td>\n",
       "      <td>140.274</td>\n",
       "      <td>-9.90</td>\n",
       "    </tr>\n",
       "    <tr>\n",
       "      <th>71</th>\n",
       "      <td>2,2,3,4-tetramethylpentane</td>\n",
       "      <td>133.016</td>\n",
       "      <td>121.09</td>\n",
       "    </tr>\n",
       "    <tr>\n",
       "      <th>72</th>\n",
       "      <td>2,2,4,4-tetramethylpentane</td>\n",
       "      <td>122.284</td>\n",
       "      <td>-66.54</td>\n",
       "    </tr>\n",
       "    <tr>\n",
       "      <th>73</th>\n",
       "      <td>2,3,3,4-tetramethylpentane</td>\n",
       "      <td>141.551</td>\n",
       "      <td>102.12</td>\n",
       "    </tr>\n",
       "  </tbody>\n",
       "</table>\n",
       "<p>74 rows × 3 columns</p>\n",
       "</div>"
      ],
      "text/plain": [
       "                           Name  Boiling point Melting point\n",
       "0                        ethane         88.630       -183.27\n",
       "1                       propane         42.070       -187.69\n",
       "2                        butane         -0.500       -138.35\n",
       "3               2-methylpropane         11.730        159.60\n",
       "4                       pentane         36.074        129.72\n",
       "..                          ...            ...           ...\n",
       "69  2,4-dimethyl-3-ethylpentane        136.730      - 122.20\n",
       "70   2,2,3,3-tetramethylpentane        140.274         -9.90\n",
       "71   2,2,3,4-tetramethylpentane        133.016        121.09\n",
       "72   2,2,4,4-tetramethylpentane        122.284        -66.54\n",
       "73   2,3,3,4-tetramethylpentane        141.551        102.12\n",
       "\n",
       "[74 rows x 3 columns]"
      ]
     },
     "execution_count": 14,
     "metadata": {},
     "output_type": "execute_result"
    }
   ],
   "source": [
    "data = pd.read_excel(r'.\\tables_alkane_temperatures.xlsx')\n",
    "data"
   ]
  },
  {
   "cell_type": "markdown",
   "id": "7c0d4704",
   "metadata": {},
   "source": [
    "The Wiener index ($W$) is calculated using the [distance matrix](https://en.wikipedia.org/wiki/Distance_matrix) ($D$) of the molecular graph,\n",
    "$W = \\frac{1}{2}\\sum_{i,j}D_{i,j}$<br>\n",
    "Plavsic et al., [On the Harary index for the characterization of chemical graphs](https://link.springer.com/article/10.1007/BF01164638), J. Math. Chem. (1993)"
   ]
  },
  {
   "cell_type": "code",
   "execution_count": 20,
   "id": "11f9aaa8",
   "metadata": {},
   "outputs": [],
   "source": [
    "# Calculate the Wiener index\n",
    "def wiener_index(m):\n",
    "    res = 0\n",
    "    mol = Chem.MolFromSmiles(m)\n",
    "    amat = Chem.GetDistanceMatrix(mol)\n",
    "    num_atoms = mol.GetNumAtoms()\n",
    "    for i in range(num_atoms):\n",
    "        for j in range(i+1,num_atoms):\n",
    "            res += amat[i][j]\n",
    "    return res"
   ]
  },
  {
   "cell_type": "markdown",
   "id": "f07a00f8",
   "metadata": {},
   "source": [
    "Convert IUPAC names to SMILES using ```cirpy```"
   ]
  },
  {
   "cell_type": "code",
   "execution_count": 16,
   "id": "3612aaf3",
   "metadata": {},
   "outputs": [],
   "source": [
    "smiles = [cirpy.resolve(name, 'smiles') for name in data['Name']]"
   ]
  },
  {
   "cell_type": "code",
   "execution_count": 18,
   "id": "9add28e6",
   "metadata": {},
   "outputs": [
    {
     "name": "stdout",
     "output_type": "stream",
     "text": [
      "['CC', 'CCC', 'CCCC', 'CC(C)C', 'CCCCC', 'CCC(C)C', 'CC(C)(C)C', 'CCCCCC', 'CCCC(C)C', 'CCC(C)CC', 'CCC(C)(C)C', 'CC(C)C(C)C', 'CCCCCCC', 'CCCCC(C)C', 'CCCC(C)CC', 'CCC(CC)CC', 'CCCC(C)(C)C', 'CCC(C)C(C)C', 'CC(C)CC(C)C', 'CCC(C)(C)CC', 'CC(C)C(C)(C)C', 'CCCCCCCC', 'CCCCCC(C)C', 'CCCCC(C)CC', 'CCCC(C)CCC', 'CCCC(CC)CC', 'CCCCC(C)(C)C', 'CCCC(C)C(C)C', 'CCC(C)CC(C)C', 'CC(C)CCC(C)C', 'CCCC(C)(C)CC', 'CCC(C)C(C)CC', 'CCC(CC)C(C)C', 'CCC(C)(CC)CC', 'CCC(C)C(C)(C)C', 'CC(C)CC(C)(C)C', 'CCC(C)(C)C(C)C', 'CC(C)C(C)C(C)C', 'CC(C)(C)C(C)(C)C', 'CCCCCCCCC', 'CCCCCCC(C)C', 'CCCCCC(C)CC', 'CCCCC(C)CCC', 'CCCCC(CC)CC', 'CCCC(CC)CCC', 'CCCCCC(C)(C)C', 'CCCCC(C)C(C)C', 'CCCC(C)CC(C)C', 'CCC(C)CCC(C)C', 'CC(C)CCCC(C)C', 'CCCCC(C)(C)CC', 'CCCC(C)C(C)CC', 'CCC(C)CC(C)CC', 'CCCC(C)(C)CCC', 'CCCC(CC)C(C)C', 'CCC(CC)CC(C)C', 'CCCC(C)(CC)CC', 'CCC(C)C(CC)CC', 'CCCC(C)C(C)(C)C', 'CCC(C)CC(C)(C)C', 'CC(C)CCC(C)(C)C', 'CCCC(C)(C)C(C)C', 'CCC(C)C(C)C(C)C', 'CC(C)CC(C)C(C)C', 'CCC(C)(C)CC(C)C', 'CCC(C)C(C)(C)CC', 'CCC(CC)(CC)CC', 'CCC(CC)C(C)(C)C', 'CCC(C)(CC)C(C)C', 'CCC(C(C)C)C(C)C', 'CCC(C)(C)C(C)(C)C', 'CC(C)C(C)C(C)(C)C', 'CC(C)(C)CC(C)(C)C', 'CC(C)C(C)(C)C(C)C']\n"
     ]
    }
   ],
   "source": [
    "print(smiles)"
   ]
  },
  {
   "cell_type": "code",
   "execution_count": 23,
   "id": "c2faf6a6",
   "metadata": {},
   "outputs": [
    {
     "data": {
      "text/plain": [
       "84.0"
      ]
     },
     "execution_count": 23,
     "metadata": {},
     "output_type": "execute_result"
    }
   ],
   "source": [
    "wiener_index(smiles[-1])"
   ]
  },
  {
   "cell_type": "code",
   "execution_count": 25,
   "id": "07bef2b3",
   "metadata": {},
   "outputs": [
    {
     "name": "stdout",
     "output_type": "stream",
     "text": [
      "[1.0, 4.0, 10.0, 9.0, 20.0, 18.0, 16.0, 35.0, 32.0, 31.0, 28.0, 29.0, 56.0, 52.0, 50.0, 48.0, 46.0, 46.0, 48.0, 44.0, 42.0, 84.0, 79.0, 76.0, 75.0, 72.0, 71.0, 70.0, 71.0, 74.0, 67.0, 68.0, 67.0, 64.0, 63.0, 66.0, 62.0, 65.0, 58.0, 120.0, 114.0, 110.0, 108.0, 104.0, 102.0, 104.0, 102.0, 102.0, 104.0, 108.0, 98.0, 98.0, 100.0, 96.0, 96.0, 98.0, 92.0, 94.0, 92.0, 94.0, 98.0, 90.0, 92.0, 96.0, 92.0, 88.0, 88.0, 88.0, 86.0, 90.0, 82.0, 86.0, 88.0, 84.0]\n"
     ]
    }
   ],
   "source": [
    "wi = [wiener_index(smile) for smile in smiles]\n",
    "print(wi)"
   ]
  },
  {
   "cell_type": "code",
   "execution_count": 31,
   "id": "18e968ef",
   "metadata": {},
   "outputs": [
    {
     "data": {
      "image/png": "[encoded data removed]",
      "text/plain": [
       "<Figure size 432x288 with 1 Axes>"
      ]
     },
     "metadata": {
      "needs_background": "light"
     },
     "output_type": "display_data"
    }
   ],
   "source": [
    "plt.plot(wi, data['Boiling point'], 'o', mfc='w', markersize=6, linewidth=2)\n",
    "plt.tick_params(which='both', length=8, labelsize=15)\n",
    "plt.xlabel('Wiener index', fontsize=20)\n",
    "plt.ylabel('Boiling point ($^{\\circ}$C)', fontsize=20);"
   ]
  },
  {
   "cell_type": "code",
   "execution_count": null,
   "id": "818ac74f",
   "metadata": {},
   "outputs": [],
   "source": []
  }
 ],
 "metadata": {
  "kernelspec": {
   "display_name": "Python 3",
   "language": "python",
   "name": "python3"
  },
  "language_info": {
   "codemirror_mode": {
    "name": "ipython",
    "version": 3
   },
   "file_extension": ".py",
   "mimetype": "text/x-python",
   "name": "python",
   "nbconvert_exporter": "python",
   "pygments_lexer": "ipython3",
   "version": "3.6.4"
  }
 },
 "nbformat": 4,
 "nbformat_minor": 5
}
