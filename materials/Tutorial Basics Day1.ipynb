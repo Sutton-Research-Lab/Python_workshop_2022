{
 "cells": [
  {
   "cell_type": "markdown",
   "id": "bc52f327",
   "metadata": {},
   "source": [
    "##  (P1) [Basics of Python](https://docs.python.org/3/tutorial/inputoutput.html)\n",
    "\n",
    "- (A) printing hello world !"
   ]
  },
  {
   "cell_type": "markdown",
   "id": "a7d72419",
   "metadata": {},
   "source": [
    "To write a sentence or word or a character at first we should use buit-in python function print(). Then we need to put the text in the form of print(\"your text\") or print('your text'). Text is called string in Python."
   ]
  },
  {
   "cell_type": "code",
   "execution_count": 29,
   "id": "1ef32aad",
   "metadata": {},
   "outputs": [
    {
     "name": "stdout",
     "output_type": "stream",
     "text": [
      "Hello there\n"
     ]
    }
   ],
   "source": [
    "print(\"Hello there\")\n",
    "#print(hello there)\n",
    "#print('hello there')\n",
    "#print('hello there)\n",
    "# print('hello there')\n",
    "# print('hello there)"
   ]
  },
  {
   "cell_type": "markdown",
   "id": "886fb9af",
   "metadata": {},
   "source": [
    "(B) printing numeric values. \n",
    "\n",
    "- If the numeric value does not have decimals, it is integer. \n",
    "- If numeric value has decimal, it is called float."
   ]
  },
  {
   "cell_type": "code",
   "execution_count": 12,
   "id": "0015b53b",
   "metadata": {},
   "outputs": [
    {
     "name": "stdout",
     "output_type": "stream",
     "text": [
      "1.5\n"
     ]
    }
   ],
   "source": [
    "# print(1.2)\n",
    "# print(1e2)\n",
    "print(1.5)"
   ]
  },
  {
   "cell_type": "markdown",
   "id": "b787fc2d",
   "metadata": {},
   "source": [
    "- (C) **Define** a variable. Assign a value and then print it."
   ]
  },
  {
   "cell_type": "code",
   "execution_count": 14,
   "id": "9cc8c992",
   "metadata": {},
   "outputs": [
    {
     "name": "stdout",
     "output_type": "stream",
     "text": [
      "weather\n"
     ]
    }
   ],
   "source": [
    "variable_a='weather'\n",
    "print(variable_a)\n"
   ]
  },
  {
   "cell_type": "markdown",
   "id": "06c09d90",
   "metadata": {},
   "source": [
    "- (D) Print string and numeric value using the print function.\n",
    "\n",
    "You want to write something like: The workshop will be held during the month of var_a in the year of var_b."
   ]
  },
  {
   "cell_type": "code",
   "execution_count": 13,
   "id": "da092176",
   "metadata": {},
   "outputs": [
    {
     "name": "stdout",
     "output_type": "stream",
     "text": [
      "The workshop will be held during the month of:  July  in the year:  2022\n"
     ]
    }
   ],
   "source": [
    "var_a=\"July\"\n",
    "var_b=2022\n",
    "print(\"The workshop will be held during the month of: \",var_a,\" in the year: \", var_b)"
   ]
  },
  {
   "cell_type": "markdown",
   "id": "f8d6de6f",
   "metadata": {},
   "source": [
    "- (E) [Basic arithmetic operations](https://www.w3schools.com/python/python_operators.asp)"
   ]
  },
  {
   "cell_type": "code",
   "execution_count": null,
   "id": "9f582269",
   "metadata": {},
   "outputs": [],
   "source": [
    "5+4"
   ]
  },
  {
   "cell_type": "code",
   "execution_count": null,
   "id": "761ef98a",
   "metadata": {},
   "outputs": [],
   "source": [
    "5**2"
   ]
  },
  {
   "cell_type": "code",
   "execution_count": 4,
   "id": "420707ce",
   "metadata": {},
   "outputs": [
    {
     "ename": "NameError",
     "evalue": "name 'a' is not defined",
     "output_type": "error",
     "traceback": [
      "\u001b[1;31m---------------------------------------------------------------------------\u001b[0m",
      "\u001b[1;31mNameError\u001b[0m                                 Traceback (most recent call last)",
      "\u001b[1;32m<ipython-input-4-ac686954dc0d>\u001b[0m in \u001b[0;36m<module>\u001b[1;34m\u001b[0m\n\u001b[1;32m----> 1\u001b[1;33m \u001b[0ma\u001b[0m\u001b[1;33m*\u001b[0m\u001b[0ma\u001b[0m\u001b[1;33m\u001b[0m\u001b[1;33m\u001b[0m\u001b[0m\n\u001b[0m",
      "\u001b[1;31mNameError\u001b[0m: name 'a' is not defined"
     ]
    }
   ],
   "source": [
    "a*a"
   ]
  },
  {
   "cell_type": "code",
   "execution_count": 13,
   "id": "5d661eea",
   "metadata": {},
   "outputs": [
    {
     "name": "stdout",
     "output_type": "stream",
     "text": [
      "25\n"
     ]
    }
   ],
   "source": [
    "a=5\n",
    "print(a*a)\n",
    "\n"
   ]
  },
  {
   "cell_type": "code",
   "execution_count": 14,
   "id": "24067c80",
   "metadata": {},
   "outputs": [
    {
     "data": {
      "text/plain": [
       "1"
      ]
     },
     "execution_count": 14,
     "metadata": {},
     "output_type": "execute_result"
    }
   ],
   "source": [
    "10%3 #Modulus operation"
   ]
  },
  {
   "cell_type": "markdown",
   "id": "eb8e44fd",
   "metadata": {},
   "source": [
    "\n",
    "\n",
    "- (F) Formatting numbers during printing (this can be boring, I can remove this)"
   ]
  },
  {
   "cell_type": "code",
   "execution_count": 22,
   "id": "9c6f6e1d",
   "metadata": {},
   "outputs": [
    {
     "name": "stdout",
     "output_type": "stream",
     "text": [
      "2.35e+03\n",
      "2,345.6789\n"
     ]
    }
   ],
   "source": [
    "x = 2345.6789 # f-string version\n",
    "print(f\"{x:.3}\") # will print 2.35+e03\n",
    "\n",
    "print(f\"{x:,}\") # separated by comma, will print 2,345.6789\n",
    "\n",
    "\n",
    "# y=3.587123e4\n",
    "# print(f\"{y:f}\")\n",
    "\n",
    "# total=16\n",
    "# present=14 \n",
    "\n",
    "# print(f\"Only  {present / total :.2%} people showed up in the event\")\n",
    "\n",
    "\n",
    "# print('Floating point numbers: %1.4f' %(100/33))"
   ]
  },
  {
   "cell_type": "markdown",
   "id": "bb3de5c4",
   "metadata": {},
   "source": [
    "- Take user input"
   ]
  },
  {
   "cell_type": "code",
   "execution_count": 21,
   "id": "6c7fdd4d",
   "metadata": {},
   "outputs": [
    {
     "name": "stdout",
     "output_type": "stream",
     "text": [
      "Ross\n",
      "Taylor\n",
      "The user entered their name as  Ross  and their age as  Taylor\n"
     ]
    }
   ],
   "source": [
    "name=input()\n",
    "age=input()\n",
    "\n",
    "print(\"The user entered their name as \",name,\" and their age as \",age)"
   ]
  },
  {
   "cell_type": "markdown",
   "id": "31e559a6",
   "metadata": {},
   "source": [
    "### Flow Control"
   ]
  },
  {
   "cell_type": "code",
   "execution_count": null,
   "id": "83a27d12",
   "metadata": {},
   "outputs": [],
   "source": [
    "x = int(input('Input and integer: '))\n",
    "if x > 9:\n",
    "    print('The input is larger than 9.')\n",
    "elif x < 3:\n",
    "    print('The input is smaller than 3')\n",
    "else:\n",
    "    print('The input is between 3 and 9')"
   ]
  },
  {
   "cell_type": "markdown",
   "id": "7f17c807",
   "metadata": {},
   "source": [
    "#### Problem 1: \n",
    "(a) A variable named var_x takes input from the keyboard. The input value should be an integer. If the input is float or object or string, print \"invalid input\". \n",
    "\n",
    "(b) Now, pass this var_x to another variable named var_y. Then print that \"second variable received the number (it should show the input value) from the first variable\".\n",
    "\n",
    "Hint: The syntax to check python datatype is type(var_y) where you want to check the type of var_y i.e. whether it is a string or an integer."
   ]
  },
  {
   "cell_type": "code",
   "execution_count": 35,
   "id": "12a520e5",
   "metadata": {},
   "outputs": [],
   "source": [
    "# Solve Problem 1 here.\n",
    "\n"
   ]
  },
  {
   "cell_type": "markdown",
   "id": "90a50ff5",
   "metadata": {},
   "source": [
    "### [(P2) Getting started with list and for loop in Python](https://docs.python.org/3/tutorial/datastructures.html)"
   ]
  },
  {
   "cell_type": "code",
   "execution_count": 1,
   "id": "6c46027a",
   "metadata": {},
   "outputs": [
    {
     "name": "stdout",
     "output_type": "stream",
     "text": [
      "The members in the list are:  [5, 6, 7, 8]\n",
      "The first element in the list1 is:  2\n"
     ]
    }
   ],
   "source": [
    "list1=[1,2,3,4]\n",
    "list2=[5,6,7,8]\n",
    "\n",
    "\n",
    "\n",
    "print(\"The members in the list are: \",list2)\n",
    "\n",
    "print(\"The first element in the list1 is: \",list1[1]) "
   ]
  },
  {
   "cell_type": "markdown",
   "id": "4af75d6b",
   "metadata": {},
   "source": [
    "- (H) Print all elements of the above list using for loop"
   ]
  },
  {
   "cell_type": "code",
   "execution_count": 58,
   "id": "661c29fc",
   "metadata": {},
   "outputs": [
    {
     "name": "stdout",
     "output_type": "stream",
     "text": [
      "5\n",
      "6\n",
      "7\n"
     ]
    }
   ],
   "source": [
    "for element in list2:\n",
    "    print(element)"
   ]
  },
  {
   "cell_type": "markdown",
   "id": "e8c75ef6",
   "metadata": {},
   "source": [
    "- (I) print both lists together"
   ]
  },
  {
   "cell_type": "code",
   "execution_count": 66,
   "id": "e6420848",
   "metadata": {},
   "outputs": [
    {
     "name": "stdout",
     "output_type": "stream",
     "text": [
      "1 5\n",
      "2 6\n",
      "3 7\n",
      "4 8\n"
     ]
    }
   ],
   "source": [
    "for (el,ev) in zip(list1,list2):\n",
    "    print(el,ev)"
   ]
  },
  {
   "cell_type": "markdown",
   "id": "9ba30ec7",
   "metadata": {},
   "source": [
    "- (J) print list elements with index"
   ]
  },
  {
   "cell_type": "code",
   "execution_count": 75,
   "id": "bddbff09",
   "metadata": {},
   "outputs": [
    {
     "name": "stdout",
     "output_type": "stream",
     "text": [
      "index number:  0  element number:  1\n",
      "index number:  1  element number:  2\n",
      "index number:  2  element number:  3\n",
      "index number:  3  element number:  4\n"
     ]
    }
   ],
   "source": [
    "for indx,el in enumerate(list1):\n",
    "    print(\"index number: \",indx,\" element number: \",el)"
   ]
  },
  {
   "cell_type": "markdown",
   "id": "2b443ded",
   "metadata": {},
   "source": [
    "- (k) Using format style "
   ]
  },
  {
   "cell_type": "code",
   "execution_count": 36,
   "id": "468c39f1",
   "metadata": {},
   "outputs": [
    {
     "name": "stdout",
     "output_type": "stream",
     "text": [
      "member = A\n",
      "member = B\n",
      "member = C\n",
      "member = A5\n"
     ]
    }
   ],
   "source": [
    "members=['A','B','C','A5']\n",
    "\n",
    "for x in range(len(members)):\n",
    "    print('member = {}'.format(members[x]))"
   ]
  },
  {
   "cell_type": "markdown",
   "id": "2b3e386b",
   "metadata": {},
   "source": [
    "- Count number of specific events in the list. \n",
    "\n",
    "Suppose you are given a list and you want to count how many elements are 9 there. "
   ]
  },
  {
   "cell_type": "code",
   "execution_count": 39,
   "id": "b9212dd3",
   "metadata": {},
   "outputs": [
    {
     "name": "stdout",
     "output_type": "stream",
     "text": [
      "9 occur  3  times\n"
     ]
    }
   ],
   "source": [
    "#Tips 1 \n",
    "\n",
    "list_x= [1,2,4,9,0,-5,9,9]  \n",
    "\n",
    "c=0\n",
    "\n",
    "for value in list_x:\n",
    "    if value==9:\n",
    "        c=c+1\n",
    "print(\"9 occur \",c,\" times\")"
   ]
  },
  {
   "cell_type": "markdown",
   "id": "40e1da67",
   "metadata": {},
   "source": [
    "#### List operations"
   ]
  },
  {
   "cell_type": "code",
   "execution_count": 50,
   "id": "73ae43c7",
   "metadata": {},
   "outputs": [
    {
     "name": "stdout",
     "output_type": "stream",
     "text": [
      "[1]\n",
      "[1, 10]\n"
     ]
    }
   ],
   "source": [
    "new_list=[]\n",
    "#Append value \n",
    "new_list.append(1)\n",
    "print(new_list)\n",
    "new_list.append(10)\n",
    "print(new_list)"
   ]
  },
  {
   "cell_type": "code",
   "execution_count": 51,
   "id": "0fc1243c",
   "metadata": {},
   "outputs": [
    {
     "name": "stdout",
     "output_type": "stream",
     "text": [
      "[1, 11, 121, 1221, 122221]\n"
     ]
    }
   ],
   "source": [
    "# remove element from a list\n",
    "new_list=[1,11,121,1221,122221,19]\n",
    "new_list.remove(19)\n",
    "\n",
    "print(new_list)"
   ]
  },
  {
   "cell_type": "code",
   "execution_count": 52,
   "id": "17f4ce36",
   "metadata": {},
   "outputs": [
    {
     "data": {
      "text/plain": [
       "99"
      ]
     },
     "execution_count": 52,
     "metadata": {},
     "output_type": "execute_result"
    }
   ],
   "source": [
    "# pop element\n",
    "new_list=[1,11,121,9,99]\n",
    "new_list.pop()\n"
   ]
  },
  {
   "cell_type": "code",
   "execution_count": 56,
   "id": "cb793c23",
   "metadata": {},
   "outputs": [
    {
     "name": "stdout",
     "output_type": "stream",
     "text": [
      "[1221, 121, 11, 1]\n"
     ]
    }
   ],
   "source": [
    "# reverse a list\n",
    "\n",
    "new_list=[1,11,121,1221]\n",
    "new_list.reverse()\n",
    "print(new_list)"
   ]
  },
  {
   "cell_type": "markdown",
   "id": "400a8c2a",
   "metadata": {},
   "source": [
    "#### Problem 2 \n",
    "\n",
    "You are given a chemical formula. Your should decide whether it is alkene or alkane. If it is none of them, then print \"invalid formula\"\n",
    "\n",
    "formula for Alkene is $C_{n}H_{2n}$ and formula for Alkane is $C_{n}H_{2n+2}$\n",
    "\n",
    "Check the following cases:\n",
    "(i) C2H4  (ii) C2H6 (iii)C2H5\n",
    "\n",
    "\n",
    "Conditions: Length of the up_formula should be 4. Otherwise, print \"invalid\"\n",
    "\n",
    "Hints: (1) Find/ Look at Tips 1. (2) To access nth element of a list use your_list[n-1]."
   ]
  },
  {
   "cell_type": "code",
   "execution_count": 46,
   "id": "3492b306",
   "metadata": {},
   "outputs": [
    {
     "name": "stdout",
     "output_type": "stream",
     "text": [
      "C2H4\n",
      "['C', '2', 'H', '4']\n"
     ]
    }
   ],
   "source": [
    "formula=input() \n",
    "up_formula=list(formula)\n",
    "print(up_formula)"
   ]
  },
  {
   "cell_type": "code",
   "execution_count": 47,
   "id": "9fc19f93",
   "metadata": {},
   "outputs": [],
   "source": [
    "#Use the above 2 lines of code as a starting point for problem 2.\n",
    "\n"
   ]
  },
  {
   "cell_type": "markdown",
   "id": "fad0be10",
   "metadata": {},
   "source": [
    "#### Problem 3: \n",
    "\n",
    "You are given a string and your code should decide whether it is a palindrome sequence or not.\n",
    "Palindrome: input == reverse(input)"
   ]
  },
  {
   "cell_type": "code",
   "execution_count": 60,
   "id": "1d904efb",
   "metadata": {},
   "outputs": [],
   "source": [
    "x=\"palindrome\"\n",
    "\n",
    "#write your solution here using reverse() function."
   ]
  },
  {
   "cell_type": "code",
   "execution_count": 59,
   "id": "2829191e",
   "metadata": {},
   "outputs": [],
   "source": [
    "#### Problem 3.1: \n",
    "x=\"palindrome\"\n",
    "\n",
    "#write your solution using pop operation.\n"
   ]
  },
  {
   "cell_type": "markdown",
   "id": "da0a7a9e",
   "metadata": {},
   "source": [
    "##  [Exception handling](https://docs.python.org/3/tutorial/errors.html)"
   ]
  },
  {
   "cell_type": "code",
   "execution_count": null,
   "id": "6262355e",
   "metadata": {},
   "outputs": [],
   "source": [
    "try:\n",
    "    x = int(input('Input an integer: '))\n",
    "    print(list(range(x)))\n",
    "except:\n",
    "    raise Exception('The input needs to be an integer!')"
   ]
  },
  {
   "cell_type": "markdown",
   "id": "9ef8c751",
   "metadata": {},
   "source": [
    "##  (P2) Using Basic Python packages\n",
    "\n"
   ]
  },
  {
   "cell_type": "code",
   "execution_count": 2,
   "id": "04099943",
   "metadata": {},
   "outputs": [],
   "source": [
    "import os"
   ]
  },
  {
   "cell_type": "markdown",
   "id": "ba84c832",
   "metadata": {},
   "source": [
    "- To make a directory/folder write: os.mkdir(\"name\")\n",
    "- To change to directory write: os.chdir(\"path of directory\")\n",
    "- To see the current directory, write: os.getcwd()\n",
    "- To list the available files of the directory write: os.listdir(\"*\")"
   ]
  },
  {
   "cell_type": "code",
   "execution_count": null,
   "id": "9ca057bb",
   "metadata": {},
   "outputs": [],
   "source": [
    "os.mkdir(\"folder_1\")\n",
    "print(os.getcwd())\n",
    "os.chdir(r'folder_1')\n",
    "print(os.getcwd())"
   ]
  },
  {
   "cell_type": "code",
   "execution_count": 25,
   "id": "3bc9e5c6",
   "metadata": {},
   "outputs": [
    {
     "data": {
      "text/plain": [
       "['modular.py',\n",
       " 'pyramidmaker.py',\n",
       " 'PyTutorial_01_Basics.ipynb',\n",
       " 'PyTutorial_02_Jupyter.ipynb',\n",
       " 'PyTutorial_03_Numerics.ipynb',\n",
       " 'PyTutorial_04_Visualization.ipynb',\n",
       " 'PyTutorial_05_AdvancedTopics.ipynb',\n",
       " 'PyTutorial_06_NichePackages.ipynb']"
      ]
     },
     "execution_count": 25,
     "metadata": {},
     "output_type": "execute_result"
    }
   ],
   "source": [
    "os.listdir(\".\")"
   ]
  },
  {
   "cell_type": "code",
   "execution_count": 15,
   "id": "c2bce44e",
   "metadata": {},
   "outputs": [
    {
     "data": {
      "text/plain": [
       "'C:\\\\Users\\\\souri'"
      ]
     },
     "execution_count": 15,
     "metadata": {},
     "output_type": "execute_result"
    }
   ],
   "source": [
    "import os\n",
    "os.getcwd()"
   ]
  },
  {
   "cell_type": "markdown",
   "id": "324b3779",
   "metadata": {},
   "source": [
    "# Loading specific files using their extensions"
   ]
  },
  {
   "cell_type": "code",
   "execution_count": 17,
   "id": "6903b150",
   "metadata": {},
   "outputs": [],
   "source": [
    "import glob\n",
    "python_files=glob.glob(\"*ipynb\")\n",
    "\n"
   ]
  },
  {
   "cell_type": "code",
   "execution_count": 19,
   "id": "6d9f2050",
   "metadata": {},
   "outputs": [
    {
     "data": {
      "text/plain": [
       "['boston.csv',\n",
       " 'BostonHousing.csv',\n",
       " 'com.csv',\n",
       " 'combined.csv',\n",
       " 'csvs1234.csv',\n",
       " 'csvs1235.csv',\n",
       " 'csvs1253.csv',\n",
       " 'csvs1254.csv',\n",
       " 'csvs1272.csv',\n",
       " 'csvs1273.csv',\n",
       " 'csvs51458.csv',\n",
       " 'csvs51459.csv',\n",
       " 'csvs51477.csv',\n",
       " 'csvs51478.csv',\n",
       " 'csvs51496.csv',\n",
       " 'csvs51497.csv',\n",
       " 'gs48.csv',\n",
       " 'gs5.csv',\n",
       " 'Historic dataset on 2020 11 22_v7_Compleat(1).csv',\n",
       " 'PGCB_Demand_Data_2021.csv',\n",
       " 'tsample.csv']"
      ]
     },
     "execution_count": 19,
     "metadata": {},
     "output_type": "execute_result"
    }
   ],
   "source": [
    "csv_files=glob.glob(\"*csv\")\n",
    "csv_files"
   ]
  }
 ],
 "metadata": {
  "kernelspec": {
   "display_name": "Python 3",
   "language": "python",
   "name": "python3"
  },
  "language_info": {
   "codemirror_mode": {
    "name": "ipython",
    "version": 3
   },
   "file_extension": ".py",
   "mimetype": "text/x-python",
   "name": "python",
   "nbconvert_exporter": "python",
   "pygments_lexer": "ipython3",
   "version": "3.8.8"
  }
 },
 "nbformat": 4,
 "nbformat_minor": 5
}
