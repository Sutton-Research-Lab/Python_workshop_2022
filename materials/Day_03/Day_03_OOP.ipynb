{
 "cells": [
  {
   "cell_type": "markdown",
   "id": "54a2bd74",
   "metadata": {},
   "source": [
    "### 4.2 Object-oriented programming\n",
    "#### Create an Ellipse class for calculation of the basic properties of an ellipse"
   ]
  },
  {
   "cell_type": "code",
   "execution_count": 144,
   "id": "e61ad716",
   "metadata": {
    "collapsed": true
   },
   "outputs": [],
   "source": [
    "from scipy.special import binom\n",
    "import numpy as np\n",
    "from numpy import pi, sqrt"
   ]
  },
  {
   "cell_type": "code",
   "execution_count": 145,
   "id": "edeca07a",
   "metadata": {},
   "outputs": [],
   "source": [
    "class Ellipse(object):\n",
    "    \"\"\"A class for ellipses\n",
    "    \"\"\"\n",
    "    \n",
    "    def __init__(self, majoraxis, minoraxis):\n",
    "        try:\n",
    "            inputcheck = sum(list(map(lambda x: isinstance(x, (int, float)), \\\n",
    "                                    [majoraxis, minoraxis])))\n",
    "            assert inputcheck == 2\n",
    "        except AssertionError:\n",
    "            raise ValueError('The axes need to be integer or floating-point numbers.')\n",
    "        \n",
    "        if majoraxis < minoraxis:\n",
    "            raise ValueError('Major axis is shorter than minor axis!')\n",
    "        else:\n",
    "            self.a = majoraxis\n",
    "            self.b = minoraxis\n",
    "    \n",
    "    def __repr__(self):\n",
    "        \"\"\"Official representation of the Ellipse object\n",
    "        \"\"\"\n",
    "        return '<{}.{}: a={}, b={}>'.format(self.__module__,\\\n",
    "                self.__class__.__name__, self.a, self.b)\n",
    "    \n",
    "    def __str__(self):\n",
    "        \"\"\"Informal representation of the Ellipse object\n",
    "        \"\"\"\n",
    "        return(\"               {}:\\n\\\n",
    "               a (major axis) = {}\\n\\\n",
    "               b (minor axis) = {}\\n\\\n",
    "               area = {}\\n\\\n",
    "               circumference = {}\"\\\n",
    "               .format(self.__class__.__name__,\\\n",
    "               self.a, self.b, self.area, self.circumference()))\n",
    "        \n",
    "    @property\n",
    "    def area(self):\n",
    "        return pi*self.a*self.b\n",
    "    \n",
    "    def circumference(self, n=5):\n",
    "        \"\"\"Infinite series summation formula taken from\n",
    "        http://mathworld.wolfram.com/Ellipse.html\n",
    "        \"\"\"\n",
    "        h = ((self.a-self.b)**2)/((self.a+self.b)**2)\n",
    "        hseries = [(binom(0.5,i)**2)*(h**i) for i in range(n)]\n",
    "        cf = pi*(self.a+self.b)*np.sum(hseries)\n",
    "        return cf\n",
    "    \n",
    "    @property\n",
    "    def eccentricity(self):\n",
    "        \"\"\"Calculate the eccentricity of an ellipse\n",
    "        (complete this on your own..)\n",
    "        \"\"\"\n",
    "        pass"
   ]
  },
  {
   "cell_type": "code",
   "execution_count": 146,
   "id": "c1560990",
   "metadata": {},
   "outputs": [
    {
     "data": {
      "text/plain": [
       "(4, 3, 37.69911184307752, 22.1034921607095)"
      ]
     },
     "execution_count": 146,
     "metadata": {},
     "output_type": "execute_result"
    }
   ],
   "source": [
    "el = Ellipse(majoraxis=4, minoraxis=3)\n",
    "el.a, el.b, el.area, el.circumference(15)"
   ]
  },
  {
   "cell_type": "code",
   "execution_count": 147,
   "id": "e9febc85",
   "metadata": {},
   "outputs": [
    {
     "data": {
      "text/plain": [
       "<__main__.Ellipse: a=4, b=3>"
      ]
     },
     "execution_count": 147,
     "metadata": {},
     "output_type": "execute_result"
    }
   ],
   "source": [
    "el"
   ]
  },
  {
   "cell_type": "code",
   "execution_count": 148,
   "id": "ca513565",
   "metadata": {},
   "outputs": [
    {
     "name": "stdout",
     "output_type": "stream",
     "text": [
      "               Ellipse:\n",
      "               a (major axis) = 4\n",
      "               b (minor axis) = 3\n",
      "               area = 37.69911184307752\n",
      "               circumference = 22.103492160650617\n"
     ]
    }
   ],
   "source": [
    "print(el)"
   ]
  },
  {
   "cell_type": "code",
   "execution_count": 149,
   "id": "9bce21e5",
   "metadata": {},
   "outputs": [
    {
     "ename": "ValueError",
     "evalue": "Major axis is shorter than minor axis!",
     "output_type": "error",
     "traceback": [
      "\u001b[0;31m---------------------------------------------------------------------------\u001b[0m",
      "\u001b[0;31mValueError\u001b[0m                                Traceback (most recent call last)",
      "\u001b[0;32m<ipython-input-149-7195f4eab396>\u001b[0m in \u001b[0;36m<module>\u001b[0;34m()\u001b[0m\n\u001b[0;32m----> 1\u001b[0;31m \u001b[0mEllipse\u001b[0m\u001b[1;33m(\u001b[0m\u001b[0mmajoraxis\u001b[0m\u001b[1;33m=\u001b[0m\u001b[1;36m3\u001b[0m\u001b[1;33m,\u001b[0m \u001b[0mminoraxis\u001b[0m\u001b[1;33m=\u001b[0m\u001b[1;36m4\u001b[0m\u001b[1;33m)\u001b[0m\u001b[1;33m\u001b[0m\u001b[0m\n\u001b[0m",
      "\u001b[0;32m<ipython-input-145-4f9cc87535d9>\u001b[0m in \u001b[0;36m__init__\u001b[0;34m(self, majoraxis, minoraxis)\u001b[0m\n\u001b[1;32m     11\u001b[0m \u001b[1;33m\u001b[0m\u001b[0m\n\u001b[1;32m     12\u001b[0m         \u001b[1;32mif\u001b[0m \u001b[0mmajoraxis\u001b[0m \u001b[1;33m<\u001b[0m \u001b[0mminoraxis\u001b[0m\u001b[1;33m:\u001b[0m\u001b[1;33m\u001b[0m\u001b[0m\n\u001b[0;32m---> 13\u001b[0;31m             \u001b[1;32mraise\u001b[0m \u001b[0mValueError\u001b[0m\u001b[1;33m(\u001b[0m\u001b[1;34m'Major axis is shorter than minor axis!'\u001b[0m\u001b[1;33m)\u001b[0m\u001b[1;33m\u001b[0m\u001b[0m\n\u001b[0m\u001b[1;32m     14\u001b[0m         \u001b[1;32melse\u001b[0m\u001b[1;33m:\u001b[0m\u001b[1;33m\u001b[0m\u001b[0m\n\u001b[1;32m     15\u001b[0m             \u001b[0mself\u001b[0m\u001b[1;33m.\u001b[0m\u001b[0ma\u001b[0m \u001b[1;33m=\u001b[0m \u001b[0mmajoraxis\u001b[0m\u001b[1;33m\u001b[0m\u001b[0m\n",
      "\u001b[0;31mValueError\u001b[0m: Major axis is shorter than minor axis!"
     ]
    }
   ],
   "source": [
    "Ellipse(majoraxis=3, minoraxis=4)"
   ]
  },
  {
   "cell_type": "code",
   "execution_count": 150,
   "id": "ec7390b4",
   "metadata": {},
   "outputs": [
    {
     "name": "stdout",
     "output_type": "stream",
     "text": [
      "['__class__', '__delattr__', '__dict__', '__dir__', '__doc__', '__eq__', '__format__', '__ge__', '__getattribute__', '__gt__', '__hash__', '__init__', '__init_subclass__', '__le__', '__lt__', '__module__', '__ne__', '__new__', '__reduce__', '__reduce_ex__', '__repr__', '__setattr__', '__sizeof__', '__str__', '__subclasshook__', '__weakref__', 'area', 'circumference', 'eccentricity']\n"
     ]
    }
   ],
   "source": [
    "print(dir(Ellipse))"
   ]
  },
  {
   "cell_type": "markdown",
   "id": "ed0867df",
   "metadata": {},
   "source": [
    "#### Create a \"Circle algebra\" from subclassing Ellipse"
   ]
  },
  {
   "cell_type": "code",
   "execution_count": 151,
   "id": "565411e9",
   "metadata": {
    "collapsed": true
   },
   "outputs": [],
   "source": [
    "class Circle(Ellipse):\n",
    "    \n",
    "    def __init__(self, radius):\n",
    "        super(Circle, self).__init__(majoraxis=radius, minoraxis=radius)\n",
    "        self.r = radius\n",
    "    \n",
    "    def __add__(self, other):\n",
    "        \"\"\"Addition of two Circle instances generate a larger\n",
    "        Circle instance with combined area\n",
    "        \"\"\"\n",
    "        return Circle(radius=sqrt(self.r**2 + other.r**2))\n",
    "    \n",
    "    def __sub__(self, other):\n",
    "        \"\"\"Subtraction between two Circle instances generate a\n",
    "        Circle instance with differential area\n",
    "        \"\"\"\n",
    "        if self.r > other.r:\n",
    "            return Circle(radius=sqrt(self.r**2 - other.r**2))\n",
    "        else:\n",
    "            raise ValueError('Cannot subtract a large Circle from a small Circle.')\n",
    "    \n",
    "    def __repr__(self):\n",
    "        return '<{}.{}: r={}>'.format(self.__module__,\\\n",
    "                self.__class__.__name__, self.r)\n",
    "    \n",
    "    def __str__(self):\n",
    "        return(\"        {}:\\n\\\n",
    "        r = {}\\n\\\n",
    "        area = {}\\n\\\n",
    "        circumference = {}\"\\\n",
    "        .format(self.__class__.__name__,\\\n",
    "        self.r, self.area, self.circumference))\n",
    "    \n",
    "    @property\n",
    "    def circumference(self):\n",
    "        return 2*pi*self.r"
   ]
  },
  {
   "cell_type": "code",
   "execution_count": 152,
   "id": "07b3b586",
   "metadata": {},
   "outputs": [
    {
     "data": {
      "text/plain": [
       "78.53981633974483"
      ]
     },
     "execution_count": 152,
     "metadata": {},
     "output_type": "execute_result"
    }
   ],
   "source": [
    "circ = Circle(radius=5)\n",
    "circ.area"
   ]
  },
  {
   "cell_type": "code",
   "execution_count": 153,
   "id": "88ce3ff5",
   "metadata": {},
   "outputs": [
    {
     "data": {
      "text/plain": [
       "78.53981633974483"
      ]
     },
     "execution_count": 153,
     "metadata": {},
     "output_type": "execute_result"
    }
   ],
   "source": [
    "pi*5**2"
   ]
  },
  {
   "cell_type": "code",
   "execution_count": 154,
   "id": "51d06e1c",
   "metadata": {},
   "outputs": [
    {
     "data": {
      "text/plain": [
       "31.41592653589793"
      ]
     },
     "execution_count": 154,
     "metadata": {},
     "output_type": "execute_result"
    }
   ],
   "source": [
    "circ.circumference"
   ]
  },
  {
   "cell_type": "code",
   "execution_count": 155,
   "id": "45d60259",
   "metadata": {},
   "outputs": [
    {
     "data": {
      "text/plain": [
       "<__main__.Circle: r=5>"
      ]
     },
     "execution_count": 155,
     "metadata": {},
     "output_type": "execute_result"
    }
   ],
   "source": [
    "circ"
   ]
  },
  {
   "cell_type": "code",
   "execution_count": 156,
   "id": "4371fe2d",
   "metadata": {},
   "outputs": [
    {
     "name": "stdout",
     "output_type": "stream",
     "text": [
      "        Circle:\n",
      "        r = 5\n",
      "        area = 78.53981633974483\n",
      "        circumference = 31.41592653589793\n"
     ]
    }
   ],
   "source": [
    "print(circ)"
   ]
  },
  {
   "cell_type": "code",
   "execution_count": 157,
   "id": "a41f44ee",
   "metadata": {},
   "outputs": [
    {
     "data": {
      "text/plain": [
       "<__main__.Circle: r=8.246211251235321>"
      ]
     },
     "execution_count": 157,
     "metadata": {},
     "output_type": "execute_result"
    }
   ],
   "source": [
    "Circle(8) + Circle(2)"
   ]
  },
  {
   "cell_type": "code",
   "execution_count": 158,
   "id": "7b0f8fdd",
   "metadata": {},
   "outputs": [
    {
     "data": {
      "text/plain": [
       "<__main__.Circle: r=7.745966692414834>"
      ]
     },
     "execution_count": 158,
     "metadata": {},
     "output_type": "execute_result"
    }
   ],
   "source": [
    "Circle(8) - Circle(2)"
   ]
  },
  {
   "cell_type": "code",
   "execution_count": 159,
   "id": "dc89cb32",
   "metadata": {},
   "outputs": [
    {
     "name": "stdout",
     "output_type": "stream",
     "text": [
      "['__add__', '__class__', '__delattr__', '__dict__', '__dir__', '__doc__', '__eq__', '__format__', '__ge__', '__getattribute__', '__gt__', '__hash__', '__init__', '__init_subclass__', '__le__', '__lt__', '__module__', '__ne__', '__new__', '__reduce__', '__reduce_ex__', '__repr__', '__setattr__', '__sizeof__', '__str__', '__sub__', '__subclasshook__', '__weakref__', 'a', 'area', 'b', 'circumference', 'eccentricity', 'r']\n"
     ]
    }
   ],
   "source": [
    "print(dir(circ))"
   ]
  },
  {
   "cell_type": "code",
   "execution_count": 160,
   "id": "c44ce087",
   "metadata": {},
   "outputs": [
    {
     "data": {
      "text/plain": [
       "True"
      ]
     },
     "execution_count": 160,
     "metadata": {},
     "output_type": "execute_result"
    }
   ],
   "source": [
    "issubclass(Circle, Ellipse)"
   ]
  },
  {
   "cell_type": "code",
   "execution_count": 161,
   "id": "e75e1ef3",
   "metadata": {},
   "outputs": [
    {
     "data": {
      "text/plain": [
       "(__main__.Ellipse,)"
      ]
     },
     "execution_count": 161,
     "metadata": {},
     "output_type": "execute_result"
    }
   ],
   "source": [
    "Circle.__bases__"
   ]
  },
  {
   "cell_type": "code",
   "execution_count": 162,
   "id": "222f8072",
   "metadata": {},
   "outputs": [
    {
     "data": {
      "text/plain": [
       "(__main__.Circle, __main__.Ellipse, object)"
      ]
     },
     "execution_count": 162,
     "metadata": {},
     "output_type": "execute_result"
    }
   ],
   "source": [
    "# Retrieve the method resolution order (MRO)\n",
    "import inspect\n",
    "inspect.getmro(circ.__class__)"
   ]
  },
  {
   "cell_type": "code",
   "execution_count": null,
   "id": "cf6c226e",
   "metadata": {},
   "outputs": [],
   "source": []
  }
 ],
 "metadata": {
  "kernelspec": {
   "display_name": "Python 3",
   "language": "python",
   "name": "python3"
  },
  "language_info": {
   "codemirror_mode": {
    "name": "ipython",
    "version": 3
   },
   "file_extension": ".py",
   "mimetype": "text/x-python",
   "name": "python",
   "nbconvert_exporter": "python",
   "pygments_lexer": "ipython3",
   "version": "3.6.4"
  }
 },
 "nbformat": 4,
 "nbformat_minor": 5
}
