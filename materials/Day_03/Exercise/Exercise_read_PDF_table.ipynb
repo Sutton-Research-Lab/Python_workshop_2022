{
 "cells": [
  {
   "cell_type": "code",
   "execution_count": 7,
   "id": "679d74a5",
   "metadata": {},
   "outputs": [],
   "source": [
    "import pandas as pd\n",
    "import numpy as np"
   ]
  },
  {
   "cell_type": "markdown",
   "id": "1c9e7ee5",
   "metadata": {},
   "source": [
    "### Use the [tabula](https://github.com/chezou/tabula-py) module to parse pdf, install locally if not present"
   ]
  },
  {
   "cell_type": "code",
   "execution_count": 2,
   "id": "860bbdd7",
   "metadata": {},
   "outputs": [],
   "source": [
    "try:\n",
    "    import tabula\n",
    "except:\n",
    "    !pip install tabula-py --user"
   ]
  },
  {
   "cell_type": "code",
   "execution_count": 3,
   "id": "2557de2d",
   "metadata": {},
   "outputs": [],
   "source": [
    "# !pip uninstall tabula-py --yes"
   ]
  },
  {
   "cell_type": "markdown",
   "id": "eaba5e5e",
   "metadata": {},
   "source": [
    "### Select file address and load\n",
    "The file contains most known synthesized perovskites. The chemical formula for single perovskite is ABO$_3$, where A and B sites are occupied by metals. The chemical formula for double perovskite is AA'BB'O$_3$, where A, A', B, B' sites are occupied by metals. The dataset used for this coding problem is taken from the supplementary materials of a [publication](https://www.pnas.org/doi/10.1073/pnas.1719179115)."
   ]
  },
  {
   "cell_type": "code",
   "execution_count": 4,
   "id": "7e87ea41",
   "metadata": {},
   "outputs": [],
   "source": [
    "fdir = r'.\\pnas.1719179115.sd01.pdf'"
   ]
  },
  {
   "cell_type": "code",
   "execution_count": 5,
   "id": "b6e3f27d",
   "metadata": {},
   "outputs": [
    {
     "data": {
      "text/html": [
       "\n",
       "        <iframe\n",
       "            width=\"1000\"\n",
       "            height=\"600\"\n",
       "            src=\".\\pnas.1719179115.sd01.pdf\"\n",
       "            frameborder=\"0\"\n",
       "            allowfullscreen\n",
       "        ></iframe>\n",
       "        "
      ],
      "text/plain": [
       "<IPython.lib.display.IFrame at 0x1ca773f3eb8>"
      ]
     },
     "execution_count": 5,
     "metadata": {},
     "output_type": "execute_result"
    }
   ],
   "source": [
    "from IPython.display import IFrame\n",
    "IFrame(fdir, width=1000, height=600)"
   ]
  },
  {
   "cell_type": "markdown",
   "id": "f35fc829",
   "metadata": {},
   "source": [
    "### Questions:\n",
    "#### 1. Finish the rest of the table parsing and processing\n",
    "#### 2. Find the most common A-site element in the listed perovskite materials\n",
    "#### hint: use the [value_counts](https://pandas.pydata.org/docs/reference/api/pandas.Series.value_counts.html) method"
   ]
  },
  {
   "cell_type": "code",
   "execution_count": 6,
   "id": "8b2a0981",
   "metadata": {},
   "outputs": [],
   "source": [
    "df = tabula.read_pdf??"
   ]
  },
  {
   "cell_type": "code",
   "execution_count": null,
   "id": "e3ccc4cf",
   "metadata": {},
   "outputs": [],
   "source": []
  },
  {
   "cell_type": "code",
   "execution_count": null,
   "id": "901e4473",
   "metadata": {},
   "outputs": [],
   "source": []
  },
  {
   "cell_type": "code",
   "execution_count": null,
   "id": "d41184c2",
   "metadata": {},
   "outputs": [],
   "source": []
  }
 ],
 "metadata": {
  "kernelspec": {
   "display_name": "Python 3",
   "language": "python",
   "name": "python3"
  },
  "language_info": {
   "codemirror_mode": {
    "name": "ipython",
    "version": 3
   },
   "file_extension": ".py",
   "mimetype": "text/x-python",
   "name": "python",
   "nbconvert_exporter": "python",
   "pygments_lexer": "ipython3",
   "version": "3.6.4"
  }
 },
 "nbformat": 4,
 "nbformat_minor": 5
}
